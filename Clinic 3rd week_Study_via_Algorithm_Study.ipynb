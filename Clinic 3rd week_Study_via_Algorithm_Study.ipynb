{
 "cells": [
  {
   "cell_type": "markdown",
   "metadata": {},
   "source": [
    "# Ch.01_기본_자료구조\n",
    "\n",
    "- [Ch.01 기본 자료구조](https://github.com/VSFe/Algorithm_Study/blob/main/Concept/Prev/vol.2/01_Data_Structure/Ch.01_%EA%B8%B0%EB%B3%B8_%EC%9E%90%EB%A3%8C%EA%B5%AC%EC%A1%B0.pdf)"
   ]
  },
  {
   "cell_type": "markdown",
   "metadata": {},
   "source": [
    "### Stack\n",
    "- FILO(First In, Last Out) 구조를 띄고 있는 자료구조, 삽입과 삭제 연산이 동일한 곳에서 발생\n",
    "- 삽입/삭제 연산 시간복잡도 $O(1)$\n",
    "- 이전 활용 데이터의 역추적 또는 처음 들어온 데이터보다 나중에 들어온 데이터가 빨리 나가야 할 때 사용\n",
    "- Python에서는 [LifoQueue](https://docs.python.org/3/library/queue.html?highlight=lifoqueue)라는 구현체가 있으나, List의 pop을 활용하면 Stack처럼 사용 가능"
   ]
  },
  {
   "cell_type": "markdown",
   "metadata": {},
   "source": [
    "### Queue\n",
    "- FIFO(First in, First Out) 구조, 삽입과 삭제 연산이 서로 다른 곳에서 발생\n",
    "- 삽입/삭제 연산에 있어 시간복잡도 $O(1)$\n",
    "- 앞으로 <i>Front</i>, 뒤를 <i>Rear</i>라 하고, 삽입 연산을 `enqueue`, 삭제 연산을 `Dequeue`라고 함\n",
    "- 주로 순차적으로 진행되어야 하는 일을 `Scheduling`할 때 사용"
   ]
  },
  {
   "cell_type": "code",
   "execution_count": 1,
   "metadata": {},
   "outputs": [
    {
     "data": {
      "text/plain": [
       "0"
      ]
     },
     "execution_count": 1,
     "metadata": {},
     "output_type": "execute_result"
    }
   ],
   "source": [
    "import queue\n",
    "\n",
    "listQueue = []\n",
    "for i in range(5):\n",
    "    listQueue.append(i)\n",
    "    \n",
    "listQueue.pop(0)"
   ]
  },
  {
   "cell_type": "code",
   "execution_count": 2,
   "metadata": {},
   "outputs": [
    {
     "name": "stdout",
     "output_type": "stream",
     "text": [
      "0\n",
      "1\n",
      "2\n",
      "3\n",
      "4\n",
      "Queue is empty!!\n"
     ]
    }
   ],
   "source": [
    "normalQueue = queue.Queue()\n",
    "for i in range(5):\n",
    "    normalQueue.put(i)\n",
    "    \n",
    "while normalQueue.qsize():\n",
    "    print(normalQueue.get())\n",
    "    \n",
    "if normalQueue.empty():\n",
    "    print(\"Queue is empty!!\")"
   ]
  },
  {
   "cell_type": "markdown",
   "metadata": {},
   "source": [
    "### Deque \n",
    "- Queue/Stack의 구조를 합침 $\\rightarrow$ 양쪽에서 삽입/삭제 가능\n",
    "- 삭입/삭제 연산 시간복잡도 $O(1)$\n",
    "- 참고: [Deque object - Python Documentation](https://docs.python.org/3/library/collections.html?highlight=rotate%20deque#collections.deque.rotate:~:text=BB%20BC%20CC-,deque%20objects%C2%B6,-class%20collections.)"
   ]
  },
  {
   "cell_type": "code",
   "execution_count": 20,
   "metadata": {},
   "outputs": [
    {
     "name": "stdout",
     "output_type": "stream",
     "text": [
      "deque(['3', '4', '5', '1', '2'])\n"
     ]
    }
   ],
   "source": [
    "from collections import deque\n",
    "\n",
    "dq = deque(\"1234\")\n",
    "\n",
    "dq.append(\"5\")\n",
    "\n",
    "dq.rotate(-2) # dq.rotate(n): 뒤에서 n개의 iterable을 자료의 가장 앞쪽으로 이동 (슬라이싱 순서는 앞에서 뒤임!)\n",
    "\n",
    "print(dq)"
   ]
  },
  {
   "cell_type": "code",
   "execution_count": null,
   "metadata": {},
   "outputs": [],
   "source": []
  }
 ],
 "metadata": {
  "kernelspec": {
   "display_name": "Python 3.8.9 64-bit",
   "language": "python",
   "name": "python3"
  },
  "language_info": {
   "codemirror_mode": {
    "name": "ipython",
    "version": 3
   },
   "file_extension": ".py",
   "mimetype": "text/x-python",
   "name": "python",
   "nbconvert_exporter": "python",
   "pygments_lexer": "ipython3",
   "version": "3.8.9"
  },
  "orig_nbformat": 4,
  "vscode": {
   "interpreter": {
    "hash": "31f2aee4e71d21fbe5cf8b01ff0e069b9275f58929596ceb00d14d90e3e16cd6"
   }
  }
 },
 "nbformat": 4,
 "nbformat_minor": 2
}
