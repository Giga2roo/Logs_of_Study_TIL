{
 "cells": [
  {
   "cell_type": "markdown",
   "metadata": {},
   "source": [
    "# Chapter 03. 그리디(Greedy)\n",
    "### 1_당장 좋은 것만 선택하는 그리디\n",
    "- 현재 상황에서 가장 좋아 보이는 것만을 선택하는 알고리즘\n",
    "- 단순하지만 강력한 문제 해결 방법\n",
    "- 한국어 표현으로는 `탐욕법` 또는 `욕심쟁이`로 불림\n",
    "- 그리디 알고리즘 유형의 문제는 매우 다양하므로 `많은 유형을 접하며 훈련`해야 함!"
   ]
  },
  {
   "cell_type": "markdown",
   "metadata": {},
   "source": [
    "### 예제 3-1 거스름돈\n",
    "- 상황: 나는 점원, 카운터에 거스름돈으로 사용할 자원(무한개의 500원, 100원, 50원, 10원)\n",
    "- 문제: 손님에게 거슬러 줘야 할 돈이 N원일 때 거슬러줘야 할 동전의 최소 개수\n",
    "- `제한조건`: 거슬러 줘야 할 돈 은 10의 배수"
   ]
  },
  {
   "cell_type": "code",
   "execution_count": 8,
   "metadata": {},
   "outputs": [
    {
     "name": "stdout",
     "output_type": "stream",
     "text": [
      "6\n"
     ]
    }
   ],
   "source": [
    "# 나의 답안 ('22.08.21)\n",
    "\n",
    "N = int(input()) # N은 10의 배수\n",
    "\n",
    "num_coins = 0\n",
    "\n",
    "a = N // 500\n",
    "b = (N - (int(a) * 500)) // 100\n",
    "c = (N - (int(a) * 500) - (int(b) * 100)) // 50\n",
    "d = (N - (int(a) * 500) - (int(b) * 100) - (int(c) * 50)) // 10\n",
    "\n",
    "num_coins = a + b + c + d\n",
    "print(num_coins)"
   ]
  },
  {
   "cell_type": "code",
   "execution_count": 10,
   "metadata": {},
   "outputs": [
    {
     "name": "stdout",
     "output_type": "stream",
     "text": [
      "6\n"
     ]
    }
   ],
   "source": [
    "n = int(input())\n",
    "count = 0\n",
    "\n",
    "coin_types = [500, 100, 50, 10]\n",
    "\n",
    "for coin in coin_types:\n",
    "    count += n // coin # 해당 화폐로 거슬러 줄 수 있는 동전의 개수 세기\n",
    "    n %= coin\n",
    "\n",
    "print(count)"
   ]
  },
  {
   "cell_type": "markdown",
   "metadata": {},
   "source": [
    "### 2_실전 문제_큰 수의 법칙\n",
    "- 다양한 수로 이루어진 배열이 있을 때, 주어진 수들을 M번 더하여 가장 큰 수를 만드는 법칙\n",
    "- `제한조건`: 배열의 특정한 인텍스(번호)에 해당하는 수가 연속해서 `K`번을 초과하여 더해질 수 없는 것"
   ]
  },
  {
   "cell_type": "markdown",
   "metadata": {},
   "source": []
  }
 ],
 "metadata": {
  "kernelspec": {
   "display_name": "Python 3.8.9 64-bit",
   "language": "python",
   "name": "python3"
  },
  "language_info": {
   "codemirror_mode": {
    "name": "ipython",
    "version": 3
   },
   "file_extension": ".py",
   "mimetype": "text/x-python",
   "name": "python",
   "nbconvert_exporter": "python",
   "pygments_lexer": "ipython3",
   "version": "3.8.9"
  },
  "orig_nbformat": 4,
  "vscode": {
   "interpreter": {
    "hash": "31f2aee4e71d21fbe5cf8b01ff0e069b9275f58929596ceb00d14d90e3e16cd6"
   }
  }
 },
 "nbformat": 4,
 "nbformat_minor": 2
}
