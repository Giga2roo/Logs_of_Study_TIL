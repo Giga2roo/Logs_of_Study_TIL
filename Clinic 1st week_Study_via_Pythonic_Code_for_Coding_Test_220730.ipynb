{
 "cells": [
  {
   "cell_type": "markdown",
   "metadata": {},
   "source": [
    "# Pythonic Code for Coding Test"
   ]
  },
  {
   "cell_type": "markdown",
   "metadata": {},
   "source": [
    "### Unpacking"
   ]
  },
  {
   "cell_type": "code",
   "execution_count": 5,
   "metadata": {},
   "outputs": [
    {
     "name": "stdout",
     "output_type": "stream",
     "text": [
      "132\n",
      "123\n"
     ]
    }
   ],
   "source": [
    "a, b = map(int, input().split())\n",
    "print(a)\n",
    "print(b)"
   ]
  },
  {
   "cell_type": "markdown",
   "metadata": {},
   "source": [
    "- iterable: 반복 가능한 객체의 특성을 이름 (ex. list, tuple, string etc...)"
   ]
  },
  {
   "cell_type": "code",
   "execution_count": 7,
   "metadata": {},
   "outputs": [
    {
     "name": "stdout",
     "output_type": "stream",
     "text": [
      "[3, 4]\n"
     ]
    }
   ],
   "source": [
    "_list = [1, 2, 3, 4, 5]\n",
    "fist_index, second_index, *rest, last_index = _list\n",
    "print(rest)"
   ]
  },
  {
   "cell_type": "markdown",
   "metadata": {},
   "source": [
    "- python이 first_index, second_index 알아먹는거 너무 신기!"
   ]
  },
  {
   "cell_type": "code",
   "execution_count": 12,
   "metadata": {},
   "outputs": [
    {
     "name": "stdout",
     "output_type": "stream",
     "text": [
      "1 2 3 4 5 "
     ]
    }
   ],
   "source": [
    "for num in _list:\n",
    "    print(num, end =' ')"
   ]
  },
  {
   "cell_type": "code",
   "execution_count": 11,
   "metadata": {},
   "outputs": [
    {
     "name": "stdout",
     "output_type": "stream",
     "text": [
      "1\n",
      "2\n",
      "3\n",
      "4\n",
      "5\n"
     ]
    }
   ],
   "source": [
    "for num in _list:\n",
    "    print(num)#, end = ' ')"
   ]
  },
  {
   "cell_type": "code",
   "execution_count": 9,
   "metadata": {},
   "outputs": [
    {
     "name": "stdout",
     "output_type": "stream",
     "text": [
      "[1, 2, 3, 4, 5]\n"
     ]
    }
   ],
   "source": [
    "print(_list)"
   ]
  },
  {
   "cell_type": "code",
   "execution_count": 10,
   "metadata": {},
   "outputs": [
    {
     "name": "stdout",
     "output_type": "stream",
     "text": [
      "1 2 3 4 5\n"
     ]
    }
   ],
   "source": [
    "print(*_list)"
   ]
  },
  {
   "cell_type": "code",
   "execution_count": 13,
   "metadata": {},
   "outputs": [
    {
     "name": "stdout",
     "output_type": "stream",
     "text": [
      "(1, 2, 3)\n"
     ]
    }
   ],
   "source": [
    "a, b, c = [1, 2, 3]\n",
    "d = a, b, c\n",
    "print(d) # 하나의 변수에 여러 값을 할당했으므로, tuple이 됨!"
   ]
  },
  {
   "cell_type": "markdown",
   "metadata": {},
   "source": [
    "### List Comprehension\n",
    "- 한국 표현으로는 <u><i>지능형 리스트</i></u>\n",
    "- ```for``` 뒤 부터 읽어서 이해한다!"
   ]
  },
  {
   "cell_type": "code",
   "execution_count": 2,
   "metadata": {},
   "outputs": [
    {
     "name": "stdout",
     "output_type": "stream",
     "text": [
      "[0, 1, 2, 3, 4, 5, 6, 7, 8, 9]\n"
     ]
    }
   ],
   "source": [
    "_list = [i for i in range(10)]\n",
    "print(_list)"
   ]
  },
  {
   "cell_type": "code",
   "execution_count": 3,
   "metadata": {},
   "outputs": [
    {
     "name": "stdout",
     "output_type": "stream",
     "text": [
      "\n"
     ]
    }
   ],
   "source": [
    "import sys\n",
    "input = sys.stdin.readline\n",
    "\n",
    "_ = input()\n",
    "_set = set(map(int, input().split()))\n",
    "q = input()\n",
    "_list = list(map(int, input().split()))\n",
    "\n",
    "print(*[1 if dt in _set else 0 for dt in _list], sep = '\\n')"
   ]
  },
  {
   "cell_type": "code",
   "execution_count": 4,
   "metadata": {},
   "outputs": [
    {
     "name": "stdout",
     "output_type": "stream",
     "text": [
      "[[0, 1, 4], [0, 1, 4], [0, 1, 4]]\n"
     ]
    }
   ],
   "source": [
    "square = [[x ** 2 for x in range(3)] for _ in range(3)]\n",
    "print(square)"
   ]
  },
  {
   "cell_type": "code",
   "execution_count": 7,
   "metadata": {},
   "outputs": [
    {
     "name": "stdout",
     "output_type": "stream",
     "text": [
      "[1, 2, 3, 4, 5, 6, 7, 8, 9, 10]\n"
     ]
    }
   ],
   "source": [
    "_list = [i+1 for i in range(10)]\n",
    "print(_list)"
   ]
  },
  {
   "cell_type": "code",
   "execution_count": 8,
   "metadata": {},
   "outputs": [
    {
     "name": "stdout",
     "output_type": "stream",
     "text": [
      "[2, 4, 6, 8, 10, 12, 14, 16, 18, 20]\n"
     ]
    }
   ],
   "source": [
    "_list = [(i+1)*2 for i in range(10)]\n",
    "print(_list)"
   ]
  },
  {
   "cell_type": "code",
   "execution_count": 12,
   "metadata": {},
   "outputs": [
    {
     "name": "stdout",
     "output_type": "stream",
     "text": [
      "[75, 51, 153, 72, 111, 165, 120, 198, 168, 39, 39, 75, 9, 159, 153, 105, 27, 159, 123, 144, 6, 120, 78, 39, 105, 150, 120, 114, 15, 90, 192, 24]\n"
     ]
    }
   ],
   "source": [
    "import random\n",
    "\n",
    "tmp = [random.randrange(1, 200) for i in range(100)]\n",
    "_list = [i for i in tmp if i % 3 == 0]\n",
    "print(_list)"
   ]
  },
  {
   "cell_type": "code",
   "execution_count": null,
   "metadata": {},
   "outputs": [],
   "source": [
    "list_of_tuple = [(i, j) for i in range(100) for j in range(100, 0, -1)]\n",
    "_list = [(j, i) for i, j in list_of_tuple]\n",
    "print(_list)"
   ]
  },
  {
   "cell_type": "code",
   "execution_count": 22,
   "metadata": {},
   "outputs": [
    {
     "name": "stdout",
     "output_type": "stream",
     "text": [
      "[29, 7, 28, 20, 24, 29, 5, 26, 29, 13]\n",
      "[15, 7, 15, 15, 15, 15, 5, 15, 15, 13]\n"
     ]
    }
   ],
   "source": [
    "tmp = [random.randrange(1, 31) for i in range(10)]\n",
    "_list = [i if i <= 15 else 15 for i in tmp]\n",
    "print(tmp)\n",
    "print(_list)"
   ]
  },
  {
   "cell_type": "code",
   "execution_count": 24,
   "metadata": {},
   "outputs": [
    {
     "name": "stdout",
     "output_type": "stream",
     "text": [
      "[(0, 0), (0, 1), (0, 2), (0, 3), (0, 4), (1, 0), (1, 1), (1, 2), (1, 3), (1, 4), (2, 0), (2, 1), (2, 2), (2, 3), (2, 4), (3, 0), (3, 1), (3, 2), (3, 3), (3, 4), (4, 0), (4, 1), (4, 2), (4, 3), (4, 4)]\n"
     ]
    }
   ],
   "source": [
    "x = [i for i in range(5)]\n",
    "y = [i for i in range(5)]\n",
    "_list = [(i, j) for i in x for j in y]\n",
    "print(_list)"
   ]
  },
  {
   "cell_type": "markdown",
   "metadata": {},
   "source": [
    "### Dictionary 잘 쓰기\n",
    "- Dictionary, Set의 구조: **<i>Hash Table</i>** *key - value 구조(시간복잡도: $O(1)$)\n",
    "- list에서 값을 찾을 때는 in 말고 set을 써라!\n",
    "- set: 자료 구조상 같은 값이 들어올 수 없음 $\\rightarrow$ <u>중복값 제거</u>에 사용 가능"
   ]
  },
  {
   "cell_type": "code",
   "execution_count": 25,
   "metadata": {},
   "outputs": [
    {
     "name": "stdout",
     "output_type": "stream",
     "text": [
      "1\n",
      "1\n",
      "1\n",
      "1\n",
      "1\n",
      "1\n",
      "1\n",
      "1\n",
      "1\n",
      "1\n"
     ]
    }
   ],
   "source": [
    "data = [1, 2, 3, 4, 5, 6, 7, 8, 9, 10]\n",
    "for i in range(100):\n",
    "    if i in data:\n",
    "        print(1)"
   ]
  },
  {
   "cell_type": "code",
   "execution_count": 30,
   "metadata": {},
   "outputs": [
    {
     "name": "stdout",
     "output_type": "stream",
     "text": [
      "1\n",
      "1\n",
      "1\n",
      "1\n",
      "1\n",
      "1\n",
      "1\n",
      "1\n",
      "1\n",
      "1\n",
      "1\n"
     ]
    }
   ],
   "source": [
    "data = [-2, -3, -1, 0, 1, 2, 3, 4, 5, 6, 7, 8, 9, 10]\n",
    "_data_set = set(data)\n",
    "\n",
    "for i in range(100):\n",
    "    if i in _data_set:\n",
    "        print(1)"
   ]
  },
  {
   "cell_type": "code",
   "execution_count": 31,
   "metadata": {},
   "outputs": [],
   "source": [
    "i_want_to_erase_duplicate_element = [21, 31, 65, 21, 58, 94, 13, 31, 58]\n",
    "completed_list = list(set(i_want_to_erase_duplicate_element))\n",
    "\n",
    "test_list = ['Test', 'test', 'TEST', 'tteesstt']\n",
    "converted_list = list(set(map(lambda string: string.lower(), test_list)))"
   ]
  },
  {
   "cell_type": "code",
   "execution_count": 34,
   "metadata": {},
   "outputs": [
    {
     "name": "stdout",
     "output_type": "stream",
     "text": [
      "[65, 13, 21, 58, 94, 31]\n"
     ]
    },
    {
     "data": {
      "text/plain": [
       "(9, 6)"
      ]
     },
     "execution_count": 34,
     "metadata": {},
     "output_type": "execute_result"
    }
   ],
   "source": [
    "print(completed_list)\n",
    "len(i_want_to_erase_duplicate_element), len(completed_list)"
   ]
  },
  {
   "cell_type": "code",
   "execution_count": 37,
   "metadata": {},
   "outputs": [
    {
     "name": "stdout",
     "output_type": "stream",
     "text": [
      "['test', 'tteesstt']\n"
     ]
    }
   ],
   "source": [
    "print(converted_list)"
   ]
  },
  {
   "cell_type": "code",
   "execution_count": 66,
   "metadata": {},
   "outputs": [
    {
     "data": {
      "text/plain": [
       "{'apple': 3200, 'grape': 15200, 'orange': 9800, 'banana': 5000}"
      ]
     },
     "execution_count": 66,
     "metadata": {},
     "output_type": "execute_result"
    }
   ],
   "source": [
    "fruit = ['apple', 'grape', 'orange', 'banana']\n",
    "price = [3200, 15200, 9800, 5000]\n",
    "_dict = {}\n",
    "\n",
    "for i in range(len(price)):\n",
    "    _dict.update({fruit[i]: price[i]})\n",
    "_dict"
   ]
  },
  {
   "cell_type": "code",
   "execution_count": 67,
   "metadata": {},
   "outputs": [
    {
     "data": {
      "text/plain": [
       "{'apple': 3200, 'grape': 15200, 'orange': 9800, 'banana': 5000}"
      ]
     },
     "execution_count": 67,
     "metadata": {},
     "output_type": "execute_result"
    }
   ],
   "source": [
    "_dict1 = dict(zip(fruit, price))\n",
    "_dict1"
   ]
  },
  {
   "cell_type": "code",
   "execution_count": 73,
   "metadata": {},
   "outputs": [
    {
     "name": "stdout",
     "output_type": "stream",
     "text": [
      "3200\n"
     ]
    }
   ],
   "source": [
    "print(_dict.setdefault('apple', 0))"
   ]
  },
  {
   "cell_type": "code",
   "execution_count": 74,
   "metadata": {},
   "outputs": [
    {
     "data": {
      "text/plain": [
       "{'apple': 3200,\n",
       " 'grape': 15200,\n",
       " 'orange': 9800,\n",
       " 'banana': 5000,\n",
       " 'strawberry': 0}"
      ]
     },
     "execution_count": 74,
     "metadata": {},
     "output_type": "execute_result"
    }
   ],
   "source": [
    "_dict"
   ]
  },
  {
   "cell_type": "code",
   "execution_count": 75,
   "metadata": {},
   "outputs": [
    {
     "name": "stdout",
     "output_type": "stream",
     "text": [
      "apple grape orange banana strawberry\n",
      "3200 15200 9800 5000 0\n",
      "('apple', 3200) ('grape', 15200) ('orange', 9800) ('banana', 5000) ('strawberry', 0)\n"
     ]
    }
   ],
   "source": [
    "print(*_dict.keys())\n",
    "print(*_dict.values())\n",
    "print(*_dict.items())"
   ]
  },
  {
   "cell_type": "markdown",
   "metadata": {},
   "source": [
    "### Solting\n",
    "- sort() 메소드: List를 내부 정렬하는 메소드\n",
    "- sorted() 함수: 컨테이너형 데이터를 받아 정렬된 리스트를 돌려주는 함수"
   ]
  },
  {
   "cell_type": "code",
   "execution_count": 80,
   "metadata": {},
   "outputs": [
    {
     "data": {
      "text/plain": [
       "[2, 3, 4, 5, 6, 8]"
      ]
     },
     "execution_count": 80,
     "metadata": {},
     "output_type": "execute_result"
    }
   ],
   "source": [
    "_list = [5, 6, 4, 8, 2, 3]\n",
    "sorted_list = sorted(_list)\n",
    "sorted_list"
   ]
  },
  {
   "cell_type": "code",
   "execution_count": 79,
   "metadata": {},
   "outputs": [
    {
     "name": "stdout",
     "output_type": "stream",
     "text": [
      "[2, 3, 4, 5, 6, 8]\n"
     ]
    }
   ],
   "source": [
    "_list.sort()\n",
    "print(_list)"
   ]
  },
  {
   "cell_type": "code",
   "execution_count": 88,
   "metadata": {},
   "outputs": [
    {
     "name": "stdout",
     "output_type": "stream",
     "text": [
      "[12, 15, 31, 54, 65, 82, 94, 156]\n"
     ]
    },
    {
     "data": {
      "text/plain": [
       "[156, 94, 82, 65, 54, 31, 15, 12]"
      ]
     },
     "execution_count": 88,
     "metadata": {},
     "output_type": "execute_result"
    }
   ],
   "source": [
    "_set = {65, 12, 15, 156, 31, 54, 94, 82, 31}\n",
    "#_set.sort() # AttributeError: 'set' object has no attribute 'sort'\n",
    "print(sorted(_set))\n",
    "sorted_list_reversed = sorted(_set, reverse = True)\n",
    "sorted_list_reversed"
   ]
  },
  {
   "cell_type": "code",
   "execution_count": 97,
   "metadata": {},
   "outputs": [
    {
     "data": {
      "text/plain": [
       "[(8, 2), (1, 3), (3, 5), (2, 5), (1, 5), (4, 7)]"
      ]
     },
     "execution_count": 97,
     "metadata": {},
     "output_type": "execute_result"
    }
   ],
   "source": [
    "_list = [(1, 3), (8, 2), (2, 5), (4, 7), (1, 5), (3, 5)]\n",
    "sorted_list = sorted(_list, key = lambda dt: (dt[1], -dt[0]))\n",
    "sorted_list"
   ]
  },
  {
   "cell_type": "code",
   "execution_count": 91,
   "metadata": {},
   "outputs": [
    {
     "name": "stdout",
     "output_type": "stream",
     "text": [
      "['CHicken', 'Sushi', 'chocolate', 'hamburger']\n",
      "['CHicken', 'chocolate', 'hamburger', 'Sushi']\n"
     ]
    }
   ],
   "source": [
    "_list = [\"CHicken\", \"hamburger\", \"Sushi\", \"chocolate\"]\n",
    "\n",
    "print(sorted(_list)) # ['CHicken', 'Sushi', 'chocolate', 'hamburger']\n",
    "print(sorted(_list, key = lambda dt: dt.lower()))"
   ]
  },
  {
   "cell_type": "markdown",
   "metadata": {},
   "source": [
    "### String\n",
    "- Python 언어는 다른 언어보다 문자열 처리가 좀 편한 편\n",
    "\n",
    "- 알아볼 기능\n",
    "    -  `strip()`\n",
    "    -  slicing `[시작 : 종료 : 간격]` (feat. `for i in ~` or `join`)"
   ]
  },
  {
   "cell_type": "code",
   "execution_count": 1,
   "metadata": {},
   "outputs": [
    {
     "name": "stdout",
     "output_type": "stream",
     "text": [
      "asdasd\n"
     ]
    }
   ],
   "source": [
    "print('      asdasd      '.strip())"
   ]
  },
  {
   "cell_type": "code",
   "execution_count": 2,
   "metadata": {},
   "outputs": [
    {
     "name": "stdout",
     "output_type": "stream",
     "text": [
      "Chiken\n"
     ]
    }
   ],
   "source": [
    "print('===Chiken==='.strip('='))"
   ]
  },
  {
   "cell_type": "code",
   "execution_count": 30,
   "metadata": {},
   "outputs": [
    {
     "name": "stdout",
     "output_type": "stream",
     "text": [
      "...yrgnuH ma I\n",
      "...yrgnuH ma I\n",
      "<reversed object at 0x10582ff10>\n"
     ]
    }
   ],
   "source": [
    "string = 'I am Hungry...'\n",
    "print(string[::-1])\n",
    "print(\"\".join(reversed(string)))\n",
    "print(reversed(string))"
   ]
  },
  {
   "cell_type": "code",
   "execution_count": 28,
   "metadata": {},
   "outputs": [
    {
     "name": "stdout",
     "output_type": "stream",
     "text": [
      "teUtmt usino ie h nvre n vrtig\n"
     ]
    }
   ],
   "source": [
    "string = 'the Ultimate Question of Life, the Universe, and Everything.'\n",
    "print(string[0:len(string):2])"
   ]
  },
  {
   "cell_type": "markdown",
   "metadata": {},
   "source": [
    "### Combination / Permutation\n",
    "\n",
    "> 1부터 N까지 자연수 중에서 중복 없이 M개를 고른 수열을 모두 구하시오.\n",
    "\n",
    "- 일반적인 접근: 백트래킹(backtracking, 퇴각 검색)\n",
    "- 그런데 itertool이 있다면?!"
   ]
  },
  {
   "cell_type": "code",
   "execution_count": 43,
   "metadata": {},
   "outputs": [
    {
     "name": "stdout",
     "output_type": "stream",
     "text": [
      "조합:  [(1, 2), (1, 3), (2, 3)]\n",
      "순열:  [(1, 2), (1, 3), (2, 1), (2, 3), (3, 1), (3, 2)]\n",
      "복원 추출(조합):  [(1, 1), (1, 2), (1, 3), (2, 2), (2, 3), (3, 3)]\n",
      "Cartesian product:  [(1, 1), (1, 2), (1, 3), (2, 1), (2, 2), (2, 3), (3, 1), (3, 2), (3, 3)]\n"
     ]
    }
   ],
   "source": [
    "import numpy as np\n",
    "import itertools\n",
    "_list = [1, 2, 3]\n",
    "\n",
    "iter1 = itertools.combinations(_list, 2)\n",
    "iter2 = itertools.permutations(_list, 2)\n",
    "iter3 = itertools.combinations_with_replacement(_list,2)\n",
    "iter4 = itertools.product(_list, repeat=2)\n",
    "\n",
    "print(\"조합: \", list(iter1)) # 정렬된 순서\n",
    "print(\"순열: \", list(iter2)) # 모든 가능한 순서\n",
    "print(\"복원 추출(조합): \", list(iter3)) # 반복되는 요소를 포함한 정렬된 순서\n",
    "print(\"Cartesian product: \", list(iter4))  # Cartesian product(=Decart product)"
   ]
  },
  {
   "cell_type": "code",
   "execution_count": 44,
   "metadata": {},
   "outputs": [
    {
     "name": "stdout",
     "output_type": "stream",
     "text": [
      "1, 2, 3, 4, 5, 6, 7, 8\n"
     ]
    }
   ],
   "source": [
    "_list = [1, 2, 3, 4, 5, 6, 7, 8]\n",
    "print(*_list, sep=', ') # 1, 2, 3, 4, 5, 6, 7, 8"
   ]
  },
  {
   "cell_type": "code",
   "execution_count": 50,
   "metadata": {},
   "outputs": [
    {
     "name": "stdout",
     "output_type": "stream",
     "text": [
      "[1, 2, 3, 4, 5, 6, 7, 8]\n"
     ]
    }
   ],
   "source": [
    "_list = [1, 2, 3, 4, 5, 6, 7, 8]\n",
    "print(''.join(str(_list)))"
   ]
  },
  {
   "cell_type": "code",
   "execution_count": 51,
   "metadata": {},
   "outputs": [
    {
     "name": "stdout",
     "output_type": "stream",
     "text": [
      "사자,코끼리,기린,원숭이,바나나원숭이\n"
     ]
    }
   ],
   "source": [
    "animals = ['사자', '코끼리', '기린', '원숭이', '바나나원숭이']\n",
    "print(\",\".join(animals))"
   ]
  }
 ],
 "metadata": {
  "kernelspec": {
   "display_name": "Python 3.8.9 64-bit",
   "language": "python",
   "name": "python3"
  },
  "language_info": {
   "codemirror_mode": {
    "name": "ipython",
    "version": 3
   },
   "file_extension": ".py",
   "mimetype": "text/x-python",
   "name": "python",
   "nbconvert_exporter": "python",
   "pygments_lexer": "ipython3",
   "version": "3.8.9"
  },
  "orig_nbformat": 4,
  "vscode": {
   "interpreter": {
    "hash": "31f2aee4e71d21fbe5cf8b01ff0e069b9275f58929596ceb00d14d90e3e16cd6"
   }
  }
 },
 "nbformat": 4,
 "nbformat_minor": 2
}
