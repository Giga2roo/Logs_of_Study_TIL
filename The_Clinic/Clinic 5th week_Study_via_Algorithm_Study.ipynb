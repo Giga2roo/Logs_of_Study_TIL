{
 "cells": [
  {
   "cell_type": "markdown",
   "metadata": {},
   "source": [
    "# Chapter 5. 완전 탐색\n",
    "- 가능한 모든 경우를 확인하는 단순한 기법\n",
    "- Pros.: 단순함(총연산 횟수`1억회` 이내로 연산이 종료될 수 있는 경우, 이를 선택하는게 유리)\n",
    "- Cons.: 테스트 케이스의 크기에 따라 연산 소요 시간 엄청나게 커질 수 있음"
   ]
  },
  {
   "cell_type": "markdown",
   "metadata": {},
   "source": [
    "### 연습#1 - [백준 1436번 영화감독 숌](https://www.acmicpc.net/problem/1436)\n",
    "- `종말의 숫자` = ‘**6이 적어도 3개 이상 연속**으로 들어가는 수’\n",
    "- `N번째 종말의 숫`자를 구하는 프로그램을 작성할 것 (1 ≤ N ≤ 10,000)"
   ]
  },
  {
   "cell_type": "code",
   "execution_count": 1,
   "metadata": {},
   "outputs": [
    {
     "name": "stdout",
     "output_type": "stream",
     "text": [
      "6663\n"
     ]
    }
   ],
   "source": [
    "N = int(input())\n",
    "cnt = 0\n",
    "idx = 0\n",
    "\n",
    "while cnt != N:\n",
    "    idx += 1\n",
    "    if '666' in str(idx):\n",
    "        cnt += 1\n",
    "\n",
    "print(idx)"
   ]
  },
  {
   "cell_type": "markdown",
   "metadata": {},
   "source": [
    "### 연습#2 - [백준 14501 퇴사](https://www.acmicpc.net/problem/14501)\n",
    "- $N+1$번째 날 퇴사를 하기 위해 $N$일 동안 최대한 많은 상담을 하려고 함\n",
    "- $1 \\sim N$일까지 매일 상담 스케쥴이 있는데, 각각의 상담은 상담을 완료하는데 걸리는 `시간` $T_i$와 `보수` $P_i$가 존재\n",
    "- 상담을 적절히 했을 때, 얻을 수 있는 최대 수익을 구하는 프로그램을 작성할 것\n",
    "- 제약 조건: 퇴사까지 남은 날(1 ≤ N ≤ 15), $1 \\leq T_i \\leq 5, 1 \\leq P_i \\leq 1,000$"
   ]
  },
  {
   "cell_type": "code",
   "execution_count": 12,
   "metadata": {},
   "outputs": [],
   "source": [
    "import sys, io\n",
    "file = open(\"inputs.txt\", 'w')\n",
    "data = \"\"\"10\n",
    "5 50\n",
    "4 40\n",
    "3 30\n",
    "2 20\n",
    "1 10\n",
    "1 10\n",
    "2 20\n",
    "3 30\n",
    "4 40\n",
    "5 50\n",
    "\"\"\"\n",
    "file.write(data)\n",
    "file.close()\n",
    "input_file = open(\"inputs.txt\", \"r\")\n",
    "sys.stdin = io.StringIO(input_file.read())"
   ]
  },
  {
   "cell_type": "code",
   "execution_count": 13,
   "metadata": {},
   "outputs": [
    {
     "name": "stdout",
     "output_type": "stream",
     "text": [
      "90\n"
     ]
    }
   ],
   "source": [
    "import sys\n",
    "input = sys.stdin.readline\n",
    "\n",
    "N = int(input())\n",
    "t, p, dp = list(), list(), list()\n",
    "for index in range(N):\n",
    "    A, B = map(int, input().split())\n",
    "    t.append(A)\n",
    "    p.append(B)\n",
    "    dp.append(0)\n",
    "dp.append(0)\n",
    "\n",
    "for index in range(N - 1, -1, -1):\n",
    "    if (t[index] + index) > N:\n",
    "        dp[index] = dp[index + 1]\n",
    "    else:\n",
    "        dp[index] = max(dp[index + 1], p[index] + dp[index + t[index]])\n",
    "print (dp[0])"
   ]
  }
 ],
 "metadata": {
  "kernelspec": {
   "display_name": "Python 3.8.9 64-bit",
   "language": "python",
   "name": "python3"
  },
  "language_info": {
   "codemirror_mode": {
    "name": "ipython",
    "version": 3
   },
   "file_extension": ".py",
   "mimetype": "text/x-python",
   "name": "python",
   "nbconvert_exporter": "python",
   "pygments_lexer": "ipython3",
   "version": "3.8.9"
  },
  "orig_nbformat": 4,
  "vscode": {
   "interpreter": {
    "hash": "31f2aee4e71d21fbe5cf8b01ff0e069b9275f58929596ceb00d14d90e3e16cd6"
   }
  }
 },
 "nbformat": 4,
 "nbformat_minor": 2
}
