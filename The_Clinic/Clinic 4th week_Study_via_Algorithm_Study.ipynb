{
 "cells": [
  {
   "cell_type": "markdown",
   "metadata": {},
   "source": [
    "# Ch.01_기본_자료구조 (continue)\n",
    "\n",
    "- [Ch.01 기본 자료구조](https://github.com/VSFe/Algorithm_Study/blob/main/Concept/Prev/vol.2/01_Data_Structure/Ch.01_%EA%B8%B0%EB%B3%B8_%EC%9E%90%EB%A3%8C%EA%B5%AC%EC%A1%B0.pdf)"
   ]
  },
  {
   "cell_type": "markdown",
   "metadata": {},
   "source": [
    "### Tree의 concept\n",
    "- Root node와 Child node의 연결관계가 반복적으로 구성된 자료구조\n",
    "- Tree 구조 이미지\n",
    "![Tree architecture](./img/clinic_4th_01_tree.png)\n",
    "- Root node(루트 노드): 부모가 없는 노드, **`유일!`**\n",
    "- Child node(자식 노드): 부모가 있는 노드\n",
    "- Leaf node(단말 노드): Child node 중 자식이 없는 노드 (Child이지만 Parent가 아닌 노드)\n",
    "- Internal node(내부 노드): Root와 Leaf node가 아닌 노드\n",
    "- Edge(간선): 노드를 연결하는 선\n",
    "- Sibling: 같은 부모를 가진 노드\n",
    "- Node's\n",
    "    + size(크기): 자신을 포함한 모든 자손 노드 개수\n",
    "    + depth(깊이): Root에서 어떤 노드에 도달하기 위해 거쳐야 하는 간선 수\n",
    "    + level: 같은 깊이를 가지는 노드의 집합\n",
    "    + degree(차수): 하위 트리 개수 or `edge` 수\n",
    "    <br/><br/>\n",
    "- Tree's\n",
    "    + degree: Tree의 최대 차수\n",
    "    + height: Root node에서 가장 깊숙히 있는 노드의 깊이\n",
    "    <br/><br/>\n",
    "- <span style='color: red'>Tree 구조의 특징</span>\n",
    "    + 계층 모델\n",
    "    + 방향성이 있는 비순환 그래프(Directed Acyclic Graphs; DAG)의 한 종류\n",
    "        - loop(incl. self-loop)나 circuit이 없음(=`cycle` 없음)\n",
    "    + 노드가 `N`개인 트리는 항상 `N-1`개의 `edge`를 가짐\n",
    "    + Root node에서 특정 node로 가는 경로는 `unique`함\n",
    "    + 한 개의 Root node만이 존재하며, 모든 자식 노드는 한개의 부모 노드름 가짐\n",
    "        - <span style='background-color: purple'>`흐름`(?!)은 top-bottom or bottom-top으로만 이루어짐</span>\n",
    "    + `Traversal(순회)` 방식은 `Pre-order`(전위 순회), `In-order`(중위 순회) or `Post-order`(후위 순회)\n",
    "    + <u>**종류**</u>: 이진 트리(Binary Tree), 이진 탐색 트리(Binary Search Tree), 균형 트리(AVL Tree, Red-Black Tree), 이진 힙(Binary Heap) 등이 있음"
   ]
  },
  {
   "cell_type": "markdown",
   "metadata": {},
   "source": [
    "#### - 트리 구현 예시\n",
    "![Sample tree](img/clinic_4th_02_coding_tree.png)"
   ]
  },
  {
   "cell_type": "code",
   "execution_count": 91,
   "metadata": {},
   "outputs": [],
   "source": [
    "class Node(object):\n",
    "    def __init__(self, item): # 'item'은 node가 갖는 값을 저장하는 변수\n",
    "        self.item = item\n",
    "        self.left = self.right = None # left, right는 각 node의 자식 노드를 가리킴\n",
    "        \n",
    "class BinaryTree(object):\n",
    "    def __init__(self):\n",
    "        self.root = None # BinaryTree class는 빈 root만을 갖고 Node 원소로 초기화 시켜준다"
   ]
  },
  {
   "cell_type": "markdown",
   "metadata": {},
   "source": [
    "\n",
    "### Binary Tree(이진 트리)\n",
    "    \n"
   ]
  },
  {
   "cell_type": "markdown",
   "metadata": {},
   "source": [
    "- 정의\n",
    "    + <span style='color: red'>*0 $\\leq$ 자식 노드의 개수 $\\leq$ 2*</span> 인 트리\n",
    "+ Traversal(순회) 방식\n",
    "    - `Pre-order`: 현재 노드 $\\rightarrow$ 왼쪽 가지 $\\rightarrow$ 오른쪽 가지\n",
    "        - 서브 트리의 루트를 먼저 확인한 후, 자식 노드 확인(왼쪽 부터)\n",
    "    - `In-order`: 왼쪽 가지 $\\rightarrow$ 현재 노드 $\\rightarrow$ 오른쪽 가지\n",
    "        - Child node가 있는 경우, Child node를 우선 확인\n",
    "    - `Post-order`: 왼쪽 가지 $\\rightarrow$ 오른쪽 가지 $\\rightarrow$ 현재 노드\n",
    "        - Child node를 모두 확인한 후에 루트 노드를 확인"
   ]
  },
  {
   "cell_type": "code",
   "execution_count": 2,
   "metadata": {},
   "outputs": [],
   "source": [
    "def preorder(self):\n",
    "    def _preorder(node):\n",
    "        print(node.item, end=' ')\n",
    "        if node.left:\n",
    "            _preorder(node.left)\n",
    "            if node.right:\n",
    "                _preorder(node.right)\n",
    "        _preorder(self.root)"
   ]
  },
  {
   "cell_type": "code",
   "execution_count": 4,
   "metadata": {},
   "outputs": [],
   "source": [
    "def inorder(self):\n",
    "    def _inorder(node):\n",
    "        if node.left:\n",
    "            _inorder(node.left)\n",
    "        print(node.item, end=' ')\n",
    "        if node.right:\n",
    "            _inorder(node.right)\n",
    "    _inorder(self.root)"
   ]
  },
  {
   "cell_type": "code",
   "execution_count": null,
   "metadata": {},
   "outputs": [],
   "source": [
    "def postorder(self):\n",
    "    def _postorder(node):\n",
    "        if node.left:\n",
    "            _postorder(node.left)\n",
    "        if node.right:\n",
    "            _postorder(node.right)\n",
    "        print(node.item, end=' ')\n",
    "    _postorder(self.root)"
   ]
  },
  {
   "cell_type": "markdown",
   "metadata": {},
   "source": [
    "+ Binary Tree의 종류\n",
    "    ![3 types of Binary Tree](./img/clinic_4th_03_binary_tree.png)\n",
    "    + `Full Binary Tree`(전 이진 트리, Strictly Binary Tree))\n",
    "        - 모든 노드가 0개 또는 2개의 자식 노드를 갖는 트리\n",
    "        <br/><br/>\n",
    "    + `Complete Binary Tree`(완전 이진 트리)\n",
    "        - 모든 Tree height(트리 높이)에서 노드가 꽉 차 있는 이진 트리(마지막 레벨을 제외하고 모든 레벨이 완전히 채워짐)\n",
    "        <br/><br/>\n",
    "    + `Perfect Binary Tree`(포화 이진 트리)\n",
    "        - 전 이진 트리이면서 완전 이진 트리인 경우\n",
    "        - 모든 내부 노드가 두 개의 자식 노드를 가짐\n",
    "    \n"
   ]
  },
  {
   "cell_type": "code",
   "execution_count": 6,
   "metadata": {},
   "outputs": [
    {
     "name": "stdout",
     "output_type": "stream",
     "text": [
      "Pre-order\n",
      "1 2 4 8 5 3 6 7 \n",
      "In-order\n",
      "8 4 2 5 1 6 3 7 \n",
      "Post-order\n",
      "8 4 5 2 6 7 3 1 \n",
      "Level-order\n",
      "1 2 3 4 5 6 7 8 "
     ]
    }
   ],
   "source": [
    "from collections import deque\n",
    "\n",
    "class Node(object):\n",
    "    def __init__(self, item):\n",
    "        self.item = item\n",
    "        self.left = self.right = None\n",
    "\n",
    "class BinaryTree(object):\n",
    "    def __init__(self):\n",
    "        self.root = None\n",
    "    \n",
    "    def preorder(self):\n",
    "        def _preorder(node):\n",
    "            print(node.item, end=' ')\n",
    "            if node.left:\n",
    "                _preorder(node.left)\n",
    "            if node.right:\n",
    "                _preorder(node.right)\n",
    "        _preorder(self.root)\n",
    "    \n",
    "    def inorder(self):\n",
    "        def _inorder(node):\n",
    "            if node.left:\n",
    "                _inorder(node.left)\n",
    "            print(node.item, end=' ')\n",
    "            if node.right:\n",
    "                _inorder(node.right)\n",
    "        _inorder(self.root)\n",
    "        \n",
    "    def postorder(self):\n",
    "        def _postorder(node):\n",
    "            if node.left:\n",
    "                _postorder(node.left)\n",
    "            if node.right:\n",
    "                _postorder(node.right)\n",
    "            print(node.item, end=' ')\n",
    "        _postorder(self.root)\n",
    "    \n",
    "    def levelorder(self):\n",
    "        q = deque([self.root])\n",
    "        while q:\n",
    "            node = q.popleft()\n",
    "            print(node.item, end=' ')\n",
    "            if node.left:\n",
    "                q.append(node.left)\n",
    "            if node.right:\n",
    "                q.append(node.right)\n",
    "                \n",
    "BT = BinaryTree()\n",
    "N1 = Node(1)\n",
    "N2 = Node(2)\n",
    "N3 = Node(3)\n",
    "N4 = Node(4)\n",
    "N5 = Node(5)\n",
    "N6 = Node(6)\n",
    "N7 = Node(7)\n",
    "N8 = Node(8)\n",
    "\n",
    "BT.root = N1\n",
    "N1.left = N2\n",
    "N1.right = N3\n",
    "N2.left = N4\n",
    "N2.right = N5\n",
    "N3.left = N6\n",
    "N3.right = N7\n",
    "N4.left = N8\n",
    "\n",
    "print('Pre-order')\n",
    "BT.preorder()\n",
    "\n",
    "print('\\nIn-order')\n",
    "BT.inorder()\n",
    "\n",
    "print('\\nPost-order')\n",
    "BT.postorder()\n",
    "\n",
    "print('\\nLevel-order')\n",
    "BT.levelorder()        \n",
    "    "
   ]
  },
  {
   "cell_type": "markdown",
   "metadata": {},
   "source": [
    "### Binary Heap"
   ]
  },
  {
   "cell_type": "markdown",
   "metadata": {},
   "source": [
    "- 정의\n",
    "    + 우선순위 Queue(feat. FIFO)를 위해 만들어진 자료구조\n",
    "    + 최대값이나 최소값을 빠르게 찾아내도록 만들어짐, $O(1)$\n",
    "    + `완전 이진 트리`의 형태\n",
    "    + 이진 탐색 트리와는 달리 중복된 값을 허용\n",
    "<br/><br/>\n",
    "- 종류\n",
    "    + 최소힙(Min heap)\n",
    "        - key(부모노드) $\\leq$ key(자식노드)\n",
    "    + 최대힙(Max heap)\n",
    "        - key(부모노드) $\\geq$ key(자식노드)"
   ]
  },
  {
   "cell_type": "code",
   "execution_count": 8,
   "metadata": {},
   "outputs": [
    {
     "name": "stdout",
     "output_type": "stream",
     "text": [
      "7\n",
      "16\n",
      "[31, 32, 54, 94, 81, 100]\n",
      "[31, 32, 54, 81]\n",
      "[100, 94, 81, 54]\n"
     ]
    }
   ],
   "source": [
    "import heapq\n",
    "\n",
    "_list = [32, 16, 54, 94, 81, 31]\n",
    "heapq.heapify(_list)\n",
    "\n",
    "heapq.heappush(_list, 7)\n",
    "print(heapq.heappop(_list))\n",
    "\n",
    "print(heapq.heappushpop(_list, 100))\n",
    "\n",
    "print(_list)\n",
    "\n",
    "small_elements = heapq.nsmallest(4, _list)\n",
    "print(small_elements)\n",
    "\n",
    "large_elements = heapq.nlargest(4, _list)\n",
    "print(large_elements)"
   ]
  },
  {
   "cell_type": "markdown",
   "metadata": {},
   "source": [
    "### *연습문제 백준 1927 - 최소 힙*\n",
    "\n",
    "- 최소힙 구현"
   ]
  },
  {
   "cell_type": "code",
   "execution_count": 14,
   "metadata": {},
   "outputs": [],
   "source": [
    "import sys, io\n",
    "file = open(\"inputs.txt\", 'w')\n",
    "# 다음 데이터에 그대로 여러 데이터를 복사붙여넣기 하면 됨\n",
    "data = \"\"\"9\n",
    "0\n",
    "12345678\n",
    "1\n",
    "2\n",
    "0\n",
    "0\n",
    "0\n",
    "0\n",
    "32\n",
    "\"\"\"\n",
    "file.write(data)\n",
    "file.close()\n",
    "input_file = open(\"inputs.txt\", \"r\") \n",
    "sys.stdin = io.StringIO(input_file.read())"
   ]
  },
  {
   "cell_type": "code",
   "execution_count": 15,
   "metadata": {},
   "outputs": [
    {
     "name": "stdout",
     "output_type": "stream",
     "text": [
      "0\n",
      "1\n",
      "2\n",
      "12345678\n",
      "0\n"
     ]
    }
   ],
   "source": [
    "import sys\n",
    "import heapq\n",
    "\n",
    "n = int(sys.stdin.readline())\n",
    "heap = []\n",
    "\n",
    "for i in range(n):\n",
    "    x = int(sys.stdin.readline())\n",
    "    \n",
    "    if x == 0:\n",
    "        if heap:\n",
    "            print(heapq.heappop(heap))\n",
    "        else:\n",
    "            print(0)\n",
    "            \n",
    "    else:\n",
    "        heapq.heappush(heap, x)"
   ]
  },
  {
   "cell_type": "markdown",
   "metadata": {},
   "source": [
    "### 출력 포매팅"
   ]
  },
  {
   "cell_type": "code",
   "execution_count": 17,
   "metadata": {},
   "outputs": [
    {
     "name": "stdout",
     "output_type": "stream",
     "text": [
      "Results of the 2022 Referendum\n"
     ]
    }
   ],
   "source": [
    "year = 2022\n",
    "event = 'Referendum'\n",
    "print(f'Results of the {year} {event}')"
   ]
  },
  {
   "cell_type": "code",
   "execution_count": 26,
   "metadata": {},
   "outputs": [
    {
     "name": "stdout",
     "output_type": "stream",
     "text": [
      "42,572,654 Yes votes 49.67%\n"
     ]
    }
   ],
   "source": [
    "yes_votes = 42_572_654\n",
    "no_votes = 43_132_495\n",
    "percentage = yes_votes / (yes_votes + no_votes)\n",
    "print('{:-9,} Yes votes {:2.2%}'.format(yes_votes, percentage))"
   ]
  },
  {
   "cell_type": "code",
   "execution_count": 27,
   "metadata": {},
   "outputs": [
    {
     "name": "stdout",
     "output_type": "stream",
     "text": [
      "The value of x is 32.5, and y is 40000...\n"
     ]
    }
   ],
   "source": [
    "x = 10 * 3.25\n",
    "y = 200 * 200\n",
    "s = 'The value of x is ' + repr(x) + ', and y is ' + repr(y) + '...'\n",
    "print(s)"
   ]
  },
  {
   "cell_type": "code",
   "execution_count": 32,
   "metadata": {},
   "outputs": [
    {
     "name": "stdout",
     "output_type": "stream",
     "text": [
      "hello, world\n",
      "\n",
      "hello, world\n",
      "\n",
      "'hello, world\\n'\n",
      "\"'hello, world\\\\n'\"\n"
     ]
    }
   ],
   "source": [
    "hello = 'hello, world\\n'\n",
    "hellos = repr(hello)\n",
    "print(hello)\n",
    "print(str(hello))\n",
    "print(hellos)\n",
    "print(repr(hellos))"
   ]
  },
  {
   "cell_type": "code",
   "execution_count": 33,
   "metadata": {},
   "outputs": [
    {
     "data": {
      "text/plain": [
       "\"(32.5, 40000, ('spam', 'eggs'))\""
      ]
     },
     "execution_count": 33,
     "metadata": {},
     "output_type": "execute_result"
    }
   ],
   "source": [
    "repr((x, y, ('spam', 'eggs')))"
   ]
  },
  {
   "cell_type": "code",
   "execution_count": 38,
   "metadata": {},
   "outputs": [
    {
     "name": "stdout",
     "output_type": "stream",
     "text": [
      "The value of pi is approximately 3.141592654.\n"
     ]
    }
   ],
   "source": [
    "import math\n",
    "print(f'The value of pi is approximately {math.pi:.9f}.')"
   ]
  },
  {
   "cell_type": "code",
   "execution_count": 49,
   "metadata": {},
   "outputs": [
    {
     "name": "stdout",
     "output_type": "stream",
     "text": [
      "Sjoerd     ==>       4127\n",
      "Jack       ==>       4098\n",
      "Dcab       ==>       7678\n"
     ]
    }
   ],
   "source": [
    "table = {'Sjoerd': 4127, 'Jack': 4098, 'Dcab': 7678}\n",
    "for name, phone in table.items():\n",
    "    print(f'{name:10} ==> {phone:10d}') # 폭 숫자 뒤의 d는 str에는 쓸 수 없음 ==> ValueError"
   ]
  },
  {
   "cell_type": "code",
   "execution_count": 51,
   "metadata": {},
   "outputs": [
    {
     "name": "stdout",
     "output_type": "stream",
     "text": [
      "My hovercraft is full of eels.\n",
      "My hovercraft is full of 'eels'.\n",
      "My hovercraft is full of 'eels'.\n",
      "My hovercraft is full of eels.\n"
     ]
    }
   ],
   "source": [
    "animals = 'eels'\n",
    "print(f'My hovercraft is full of {animals}.')\n",
    "print(f'My hovercraft is full of {animals!r}.') # !r: repr(), !a: ascii(), !s: str()\n",
    "print(f'My hovercraft is full of {animals!a}.')\n",
    "print(f'My hovercraft is full of {animals!s}.')"
   ]
  },
  {
   "cell_type": "code",
   "execution_count": 53,
   "metadata": {},
   "outputs": [
    {
     "name": "stdout",
     "output_type": "stream",
     "text": [
      "We are the knights how say \"Ni!\"\n"
     ]
    }
   ],
   "source": [
    "print('We are the {} how say \"{}!\"'.format('knights', 'Ni'))"
   ]
  },
  {
   "cell_type": "code",
   "execution_count": 54,
   "metadata": {},
   "outputs": [
    {
     "name": "stdout",
     "output_type": "stream",
     "text": [
      "spam and eggs\n",
      "eggs and spam\n"
     ]
    }
   ],
   "source": [
    "print('{0} and {1}'.format('spam', 'eggs'))\n",
    "print('{1} and {0}'.format('spam', 'eggs'))"
   ]
  },
  {
   "cell_type": "code",
   "execution_count": 55,
   "metadata": {},
   "outputs": [
    {
     "name": "stdout",
     "output_type": "stream",
     "text": [
      "This spam is absolutely horrible.\n"
     ]
    }
   ],
   "source": [
    "print('This {food} is {adjective}.'.format(\n",
    "    food='spam', adjective='absolutely horrible'))"
   ]
  },
  {
   "cell_type": "code",
   "execution_count": 59,
   "metadata": {},
   "outputs": [
    {
     "name": "stdout",
     "output_type": "stream",
     "text": [
      "The story of Bill, Manfred, and Georg.\n"
     ]
    }
   ],
   "source": [
    "print('The story of {0}, {1}, and {other}.'.format('Bill', 'Manfred', other='Georg'))"
   ]
  },
  {
   "cell_type": "code",
   "execution_count": 68,
   "metadata": {},
   "outputs": [
    {
     "name": "stdout",
     "output_type": "stream",
     "text": [
      "Jack: 4098; Sjoerd: 4127; Dcab: 8637678\n",
      "Jack: 4098; Sjoerd: 4127; Dcab: 8637678\n"
     ]
    }
   ],
   "source": [
    "table = {'Sjoerd': 4127, 'Jack': 4098, 'Dcab': 8637678}\n",
    "print('Jack: {0[Jack]:d}; Sjoerd: {0[Sjoerd]:d}; Dcab: {0[Dcab]:d}'.format(table))\n",
    "print('Jack: {Jack:d}; Sjoerd: {Sjoerd:d}; Dcab: {Dcab:d}'.format(**table))"
   ]
  },
  {
   "cell_type": "code",
   "execution_count": 71,
   "metadata": {},
   "outputs": [
    {
     "name": "stdout",
     "output_type": "stream",
     "text": [
      "x:  1,  x square:   1,   x triple:    1\n",
      "x:  2,  x square:   4,   x triple:    8\n",
      "x:  3,  x square:   9,   x triple:   27\n",
      "x:  4,  x square:  16,   x triple:   64\n",
      "x:  5,  x square:  25,   x triple:  125\n",
      "x:  6,  x square:  36,   x triple:  216\n",
      "x:  7,  x square:  49,   x triple:  343\n",
      "x:  8,  x square:  64,   x triple:  512\n",
      "x:  9,  x square:  81,   x triple:  729\n",
      "x: 10,  x square: 100,   x triple: 1000\n"
     ]
    }
   ],
   "source": [
    "for x in range(1, 11):\n",
    "    print('x: {0:2d},  x square: {1:3d},   x cube: {2:4d}'.format(x, x*x, x*x*x))"
   ]
  },
  {
   "cell_type": "code",
   "execution_count": 75,
   "metadata": {},
   "outputs": [
    {
     "name": "stdout",
     "output_type": "stream",
     "text": [
      " 1   1    1\n",
      " 2   4    8\n",
      " 3   9   27\n",
      " 4  16   64\n",
      " 5  25  125\n",
      " 6  36  216\n",
      " 7  49  343\n",
      " 8  64  512\n",
      " 9  81  729\n",
      "10 100 1000\n"
     ]
    }
   ],
   "source": [
    "for x in range(1, 11):\n",
    "    print(repr(x).rjust(2), repr(x*x).rjust(3), end=' ')\n",
    "    print(repr(x*x*x).rjust(4))"
   ]
  },
  {
   "cell_type": "code",
   "execution_count": 85,
   "metadata": {},
   "outputs": [
    {
     "name": "stdout",
     "output_type": "stream",
     "text": [
      "00012\n",
      "0003.14\n",
      "3.14159265359\n"
     ]
    }
   ],
   "source": [
    "print('12'.zfill(5))\n",
    "print('03.14'.zfill(7))\n",
    "print('3.14159265359'.zfill(13))"
   ]
  },
  {
   "cell_type": "code",
   "execution_count": 90,
   "metadata": {},
   "outputs": [
    {
     "name": "stdout",
     "output_type": "stream",
     "text": [
      "The value of pi is approximately 3.1416.\n"
     ]
    }
   ],
   "source": [
    "import math\n",
    "print('The value of pi is approximately %5.4f.' %math.pi)"
   ]
  },
  {
   "cell_type": "markdown",
   "metadata": {},
   "source": [
    "### 참고자료+\n",
    "- [추가 참고자료#1 - 권희정님의 블로그](https://gmlwjd9405.github.io/2018/08/12/data-structure-tree.html)\n",
    "- [추가 참고자료#2 - Koo's.Co](https://koosco.tistory.com/109)"
   ]
  }
 ],
 "metadata": {
  "kernelspec": {
   "display_name": "Python 3.8.9 64-bit",
   "language": "python",
   "name": "python3"
  },
  "language_info": {
   "codemirror_mode": {
    "name": "ipython",
    "version": 3
   },
   "file_extension": ".py",
   "mimetype": "text/x-python",
   "name": "python",
   "nbconvert_exporter": "python",
   "pygments_lexer": "ipython3",
   "version": "3.8.9"
  },
  "orig_nbformat": 4,
  "vscode": {
   "interpreter": {
    "hash": "31f2aee4e71d21fbe5cf8b01ff0e069b9275f58929596ceb00d14d90e3e16cd6"
   }
  }
 },
 "nbformat": 4,
 "nbformat_minor": 2
}
