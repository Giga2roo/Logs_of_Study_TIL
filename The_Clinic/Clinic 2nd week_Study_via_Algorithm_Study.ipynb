{
 "cells": [
  {
   "cell_type": "markdown",
   "metadata": {},
   "source": [
    "# Ch.01_기본_자료구조\n",
    "\n",
    "- [Ch.01 기본 자료구조](https://github.com/VSFe/Algorithm_Study/blob/main/Concept/Prev/vol.2/01_Data_Structure/Ch.01_%EA%B8%B0%EB%B3%B8_%EC%9E%90%EB%A3%8C%EA%B5%AC%EC%A1%B0.pdf)"
   ]
  },
  {
   "cell_type": "markdown",
   "metadata": {},
   "source": [
    "### Stack\n",
    "- FILO(First In, Last Out) 구조를 띄고 있는 자료구조, 삽입과 삭제 연산이 동일한 곳에서 발생\n",
    "- 삽입/삭제 연산 시간복잡도 $O(1)$\n",
    "- 이전 활용 데이터의 역추적 또는 처음 들어온 데이터보다 나중에 들어온 데이터가 빨리 나가야 할 때 사용\n",
    "- Python에서는 [LifoQueue](https://docs.python.org/3/library/queue.html?highlight=lifoqueue)라는 구현체가 있으나, List의 pop을 활용하면 Stack처럼 사용 가능"
   ]
  },
  {
   "cell_type": "markdown",
   "metadata": {},
   "source": [
    "### Queue\n",
    "- FIFO(First in, First Out) 구조, 삽입과 삭제 연산이 서로 다른 곳에서 발생\n",
    "- 삽입/삭제 연산에 있어 시간복잡도 $O(1)$\n",
    "- 앞으로 <i>Front</i>, 뒤를 <i>Rear</i>라 하고, 삽입 연산을 `enqueue`, 삭제 연산을 `Dequeue`라고 함\n",
    "- 주로 순차적으로 진행되어야 하는 일을 `Scheduling`할 때 사용"
   ]
  },
  {
   "cell_type": "code",
   "execution_count": 1,
   "metadata": {},
   "outputs": [
    {
     "data": {
      "text/plain": [
       "0"
      ]
     },
     "execution_count": 1,
     "metadata": {},
     "output_type": "execute_result"
    }
   ],
   "source": [
    "import queue\n",
    "\n",
    "listQueue = []\n",
    "for i in range(5):\n",
    "    listQueue.append(i)\n",
    "    \n",
    "listQueue.pop(0)"
   ]
  },
  {
   "cell_type": "code",
   "execution_count": 2,
   "metadata": {},
   "outputs": [
    {
     "name": "stdout",
     "output_type": "stream",
     "text": [
      "0\n",
      "1\n",
      "2\n",
      "3\n",
      "4\n",
      "Queue is empty!!\n"
     ]
    }
   ],
   "source": [
    "normalQueue = queue.Queue()\n",
    "for i in range(5):\n",
    "    normalQueue.put(i)\n",
    "    \n",
    "while normalQueue.qsize():\n",
    "    print(normalQueue.get())\n",
    "    \n",
    "if normalQueue.empty():\n",
    "    print(\"Queue is empty!!\")"
   ]
  },
  {
   "cell_type": "markdown",
   "metadata": {},
   "source": [
    "### Deque \n",
    "- Queue/Stack의 구조를 합침 $\\rightarrow$ 양쪽에서 삽입/삭제 가능\n",
    "- 삭입/삭제 연산 시간복잡도 $O(1)$\n",
    "- 참고: [Deque object - Python Documentation](https://docs.python.org/3/library/collections.html?highlight=rotate%20deque#collections.deque.rotate:~:text=BB%20BC%20CC-,deque%20objects%C2%B6,-class%20collections.)"
   ]
  },
  {
   "cell_type": "markdown",
   "metadata": {},
   "source": [
    "- Deque는 iterable한 데이터를 기반으로 선언 가능, 왼쪽에서 진행하는 연산은 left를 붙임\n",
    "- Queue는 멀티 스레드 환경에 최적화 되었으며, Deque의 경우 속도 측면에서 더 빠름\n",
    "- 코딩테스트 환경에서는 `Deque`를 쓰는 것을 권장"
   ]
  },
  {
   "cell_type": "code",
   "execution_count": 20,
   "metadata": {},
   "outputs": [
    {
     "name": "stdout",
     "output_type": "stream",
     "text": [
      "deque(['3', '4', '5', '1', '2'])\n"
     ]
    }
   ],
   "source": [
    "from collections import deque\n",
    "\n",
    "dq = deque(\"1234\")\n",
    "\n",
    "dq.append(\"5\")\n",
    "\n",
    "dq.rotate(-2) # dq.rotate(n): 뒤에서 n개의 iterable을 자료의 가장 앞쪽으로 이동 (슬라이싱 순서는 앞에서 뒤임!)\n",
    "\n",
    "print(dq)"
   ]
  },
  {
   "cell_type": "markdown",
   "metadata": {},
   "source": [
    "- Queue vs. Deque"
   ]
  },
  {
   "cell_type": "code",
   "execution_count": 21,
   "metadata": {},
   "outputs": [
    {
     "name": "stdout",
     "output_type": "stream",
     "text": [
      "0\n",
      "1\n",
      "2\n",
      "3\n",
      "4\n",
      "Queue is empty!!\n"
     ]
    }
   ],
   "source": [
    "import queue\n",
    "\n",
    "normalQueue = queue.Queue()\n",
    "for i in range(5):\n",
    "    normalQueue.put(i)\n",
    "    \n",
    "while normalQueue.qsize():\n",
    "    print(normalQueue.get())\n",
    "    \n",
    "if normalQueue.empty():\n",
    "    print(\"Queue is empty!!\")"
   ]
  },
  {
   "cell_type": "code",
   "execution_count": 28,
   "metadata": {},
   "outputs": [
    {
     "name": "stdout",
     "output_type": "stream",
     "text": [
      "5\n",
      "1\n",
      "2\n",
      "3\n",
      "4\n"
     ]
    }
   ],
   "source": [
    "from collections import deque\n",
    "\n",
    "dq = deque(\"1234\")\n",
    "\n",
    "dq.append(\"5\")\n",
    "#dq.appendleft(\"0\")\n",
    "\n",
    "dq.rotate(1)\n",
    "\n",
    "while len(dq):\n",
    "    print(dq[0])\n",
    "    dq.popleft()\n",
    "\n"
   ]
  },
  {
   "cell_type": "markdown",
   "metadata": {},
   "source": [
    "- [백준 deque 문제 3190 - 뱀](https://www.acmicpc.net/problem/3190)\n",
    "- [홍코딩 블로그 해설](https://hongcoding.tistory.com/127)"
   ]
  },
  {
   "cell_type": "code",
   "execution_count": 30,
   "metadata": {},
   "outputs": [
    {
     "name": "stdout",
     "output_type": "stream",
     "text": [
      "21\n"
     ]
    }
   ],
   "source": [
    "from collections import deque\n",
    "\n",
    "n = int(input())\n",
    "k = int(input())\n",
    "\n",
    "graph = [[0]*n for _ in range(n)]\n",
    "dx = [0, 1, 0, -1]\n",
    "dy = [1, 0, -1, 0]\n",
    "\n",
    "for i in range(k):\n",
    "    a, b = map(int, input().split())\n",
    "    graph[a-1][b-1] = 2\n",
    "    \n",
    "l = int(input())\n",
    "dirDict = dict()\n",
    "queue = deque()\n",
    "queue.append((0, 0))\n",
    "\n",
    "for i in range(l):\n",
    "    x, c = input().split()\n",
    "    dirDict[int(x)] = c\n",
    "\n",
    "x, y = 0, 0\n",
    "graph[x][y] = 1\n",
    "cnt = 0\n",
    "direction = 0\n",
    "\n",
    "def turn(alpha):\n",
    "    global direction\n",
    "    if alpha == \"L\":\n",
    "        direction = (direction - 1) % 4\n",
    "    else:\n",
    "        direction = (direction + 1) % 4\n",
    "        \n",
    "while True:\n",
    "    cnt += 1\n",
    "    x += dx[direction]\n",
    "    y += dy[direction]\n",
    "    \n",
    "    if x < 0 or x >= n or y < 0 or y >= n:\n",
    "        break\n",
    "    \n",
    "    if graph[x][y] == 2:\n",
    "        graph[x][y] = 1\n",
    "        queue.append((x, y))\n",
    "        if cnt in dirDict:\n",
    "            turn(dirDict[cnt])\n",
    "    elif graph[x][y] == 0:\n",
    "        graph[x][y] = 1\n",
    "        queue.append((x, y))\n",
    "        tx, ty = queue.popleft()\n",
    "        graph[tx][ty] = 0\n",
    "        if cnt in dirDict:\n",
    "            turn(dirDict[cnt])\n",
    "    else:\n",
    "        break\n",
    "    \n",
    "print(cnt)"
   ]
  },
  {
   "cell_type": "markdown",
   "metadata": {},
   "source": [
    "Python에서의 *`deque`*"
   ]
  },
  {
   "cell_type": "code",
   "execution_count": 41,
   "metadata": {},
   "outputs": [
    {
     "name": "stdout",
     "output_type": "stream",
     "text": [
      "6\n",
      "0\n",
      "deque(['5', '1', '2', '3', '4'])\n",
      "deque(['2', '3', '4', '5', '1'])\n"
     ]
    }
   ],
   "source": [
    "from collections import deque\n",
    "\n",
    "dq = deque()\n",
    "dq = deque('12345')\n",
    "\n",
    "dq.append(6)\n",
    "dq.appendleft(0)\n",
    "\n",
    "removed = dq.pop()\n",
    "print(removed)\n",
    "\n",
    "removed1 = dq.popleft()\n",
    "print(removed1)\n",
    "\n",
    "dq.rotate(1) #dq.appendleft(dq.pop())*n)\n",
    "#dq.appendleft(dq.pop())\n",
    "#dq.appendleft(dq.pop())\n",
    "print(dq)\n",
    "\n",
    "dq.rotate(-2) #dq.append(dq.popleft())*|n|\n",
    "print(dq)"
   ]
  },
  {
   "cell_type": "markdown",
   "metadata": {},
   "source": [
    "### Queue / Stack의 사용\n",
    "*Queue*\n",
    "- 순서대로 처리해야 하는 일을 수행할 때\n",
    "- 처리 과정에서 데이터를 제거해야 하는데, 제거해야 하는 위치가 맨 끝이 아닐 때"
   ]
  },
  {
   "cell_type": "markdown",
   "metadata": {},
   "source": [
    "*연습문제 Silver 4 - Card 2 #2164*\n",
    "\n",
    "- N장의 카드. 각각의 카드는 차례로 1부터 N까지의 번호를 가짐.\n",
    "- 상태: 1번이 제일 위, N번이 가장 아래\n",
    "- 행동1: 맨 위에 있는 카드를 바닥에 버림\n",
    "- 행동2: 제일 위에 있는 카드를 제일 아래에 있는 카드 밑으로 옮김\n",
    "- `카드가 한 장 남을 때 까지 1-2 반복`\n",
    "- **문제**: N이 주어졌을 때, 제일 마지막에 남는 카드를 구하는 프로그램을 작성할 것.\n"
   ]
  },
  {
   "cell_type": "code",
   "execution_count": 51,
   "metadata": {},
   "outputs": [
    {
     "name": "stdout",
     "output_type": "stream",
     "text": [
      "2\n"
     ]
    }
   ],
   "source": [
    "from collections import deque\n",
    "\n",
    "N = int(input())\n",
    "l = []\n",
    "\n",
    "for i in range(1, N+1):\n",
    "    l.append(i)\n",
    "    \n",
    "dq = deque(l)\n",
    "while len(dq) != 1:\n",
    "    dq.popleft()\n",
    "    a = dq.popleft()\n",
    "    dq.append(a) # 위 두줄 = dq.rotate(-1)\n",
    "print(dq[0])"
   ]
  },
  {
   "cell_type": "markdown",
   "metadata": {},
   "source": [
    "*연습문제 Silver 4 - Zero #10773*\n",
    "\n",
    "- 데이터를 입력 받다가, 중간에 잘못된 데이터가 들어오면 0이 입력\n",
    "- 0이 들어오면 잘못된 데이터가 들어온 것이므로, `값을 삭제`\n",
    "- 이후 남아있는 값들의 합을 구하라\n",
    "\n",
    "*Stack*\n",
    "- FILO 구조를 가짐, 삽입과 삭제 연산이 동일한 곳에서 발생\n",
    "- 삽입/삭제 연산에 있어 시간복잡도가 $O(1)$\n",
    "- 이전에 활용한 데이터를 역으로 추적, 처음 들어온 데이터보다 나중에 들어온 데이터가 빨리 나가야 할 때 사용\n",
    "\n",
    "*풀이*\n",
    "- [fearless Velog](https://velog.io/@kjhxxxx/%EB%B0%B1%EC%A4%80-10773%EB%B2%88-%EC%A0%9C%EB%A1%9C-Python)"
   ]
  },
  {
   "cell_type": "code",
   "execution_count": 1,
   "metadata": {},
   "outputs": [
    {
     "name": "stdout",
     "output_type": "stream",
     "text": [
      "10\n"
     ]
    }
   ],
   "source": [
    "#import sys \n",
    "#input = sys.stdin.readline\n",
    "K = int(input())\n",
    "\n",
    "stack = []\n",
    "\n",
    "for _ in range(K):\n",
    "    N = int(input())\n",
    "    if N == 0:\n",
    "        stack.pop()\n",
    "    else :\n",
    "        stack.append(N)\n",
    "        \n",
    "print(sum(stack))"
   ]
  },
  {
   "cell_type": "markdown",
   "metadata": {},
   "source": [
    "*연습문제 Silver 2 - AC #5430*\n",
    "- 풀이 by [기록의 힘](https://lakelouise.tistory.com/65)"
   ]
  },
  {
   "cell_type": "code",
   "execution_count": 5,
   "metadata": {},
   "outputs": [],
   "source": [
    "import sys, io\n",
    "file = open(\"inputs.txt\", 'w')\n",
    "# 다음 데이터에 그대로 여러 데이터를 복사붙여넣기 하면 됨\n",
    "data = \"\"\"4\n",
    "RDD\n",
    "4\n",
    "[1,2,3,4]\n",
    "DD\n",
    "1\n",
    "[42]\n",
    "RRD\n",
    "6\n",
    "[1,1,2,3,5,8]\n",
    "D\n",
    "0\n",
    "[]\n",
    "\"\"\"\n",
    "file.write(data)\n",
    "file.close()\n",
    "input_file = open(\"inputs.txt\", \"r\") \n",
    "sys.stdin = io.StringIO(input_file.read())"
   ]
  },
  {
   "cell_type": "code",
   "execution_count": 7,
   "metadata": {},
   "outputs": [
    {
     "name": "stdout",
     "output_type": "stream",
     "text": [
      "[2,1]\n",
      "error\n",
      "[1,2,3,5,8]\n",
      "error\n"
     ]
    }
   ],
   "source": [
    "#from sys import stdin\n",
    "#N, P = map(int, stdin.readline().split())\n",
    "from collections import deque\n",
    "\n",
    "t = int(input())\n",
    "\n",
    "for i in range(t):\n",
    "    p = input()\n",
    "    n = int(input())\n",
    "    arr = input()[1:-1].split(',')\n",
    "    \n",
    "    queue = deque(arr)\n",
    "    \n",
    "    flag = 0\n",
    "    \n",
    "    if n == 0:\n",
    "        queue = []\n",
    "        \n",
    "    for j in p:\n",
    "        if j == 'R':\n",
    "            flag += 1\n",
    "        elif j == 'D':\n",
    "            if len(queue) == 0:\n",
    "                print(\"error\")\n",
    "                break        \n",
    "            else:\n",
    "                if flag % 2 == 0:\n",
    "                    queue.popleft()\n",
    "                else:\n",
    "                    queue.pop()\n",
    "                    \n",
    "    else:\n",
    "        if flag % 2 == 0:\n",
    "            print(\"[\" + \",\".join(queue) + \"]\")\n",
    "        else:\n",
    "            queue.reverse()\n",
    "            print(\"[\" + \",\".join(queue) + \"]\")"
   ]
  },
  {
   "cell_type": "markdown",
   "metadata": {},
   "source": [
    "*연습문제 silver 2 - 외계인의 기타 연주: #2841*\n",
    "- 손가락 수십억개 외계인이 기타를 침\n",
    "- 기타는 6개의 줄, 각각의 줄은 p개의 프렛으로 나뉨\n",
    "- 프렛을 누른 상태로 줄을 튕기면 음을 연주할 수 있음, 어떤 줄의 프렛을 여러 개 누르고 있다면 가장 높은 음이 들림\n",
    "- 손가락으로 프렛을 누르거나 떼는 것을 한 번 움직였다고 할 때, `횟수를 최소화하는 방법` 프로그래밍"
   ]
  },
  {
   "cell_type": "markdown",
   "metadata": {},
   "source": [
    "- 문제풀이 - [sorzzzzy.log](https://velog.io/@sorzzzzy/Baekjoon-2841-%EC%99%B8%EA%B3%84%EC%9D%B8%EC%9D%98-%EA%B8%B0%ED%83%80-%EC%97%B0%EC%A3%BC-python)"
   ]
  },
  {
   "cell_type": "code",
   "execution_count": 11,
   "metadata": {},
   "outputs": [],
   "source": [
    "import sys, io\n",
    "file = open(\"inputs.txt\", 'w')\n",
    "# 다음 데이터에 그대로 여러 데이터를 복사붙여넣기 하면 됨\n",
    "data = \"\"\"7 15\n",
    "1 5\n",
    "2 3\n",
    "2 5\n",
    "2 7\n",
    "2 4\n",
    "1 5\n",
    "1 3\n",
    "\"\"\"\n",
    "file.write(data)\n",
    "file.close()\n",
    "input_file = open(\"inputs.txt\", \"r\") \n",
    "sys.stdin = io.StringIO(input_file.read())"
   ]
  },
  {
   "cell_type": "code",
   "execution_count": 12,
   "metadata": {},
   "outputs": [
    {
     "name": "stdout",
     "output_type": "stream",
     "text": [
      "[3, 5]\n",
      "[3, 5, 7]\n",
      "[5]\n",
      "9\n"
     ]
    }
   ],
   "source": [
    "from sys import stdin\n",
    "\n",
    "N, P = map(int, stdin.readline().split())\n",
    "melody = [list(map(int, stdin.readline().split())) for _ in range(N)]\n",
    "\n",
    "strings = [[] for _ in range(7)] # 기타의 1~6번 줄  각ㅏ에 대ㄴ 리트 생성\n",
    "\n",
    "res = 0\n",
    "\n",
    "for l, f in melody: # 입력받은 음계(줄, 프랫)\n",
    "    if len(strings[l]) == 0: # 해당 줄에 프랫이 하나도 없으면 새로 추가\n",
    "        strings[l].append(f)\n",
    "        res += 1\n",
    "    \n",
    "    else: # 해당 줄에 프랫이 있는 경우\n",
    "        if f > strings[l][-1]: # 연주하려는 프렛이 기존의 프랫보다 높은 음인 경우, 프랫을 새로 추가\n",
    "            strings[l].append(f)\n",
    "            res += 1\n",
    "            print(strings[l])\n",
    "            \n",
    "        elif f == strings[l][-1]: # 연주하려는 프렛이 기존의 프렛고 같은 음이라면, 그냥 pass!\n",
    "            print(strings[l])\n",
    "            continue\n",
    "        \n",
    "        else: # 연주하려는 프렛이 기존의 프렛보다 낮은 음이라면, 연주하려는 프렛보다 높은 음을 모두 pop\n",
    "            while strings[l] and f < strings[l][-1]:\n",
    "                strings[l].pop()\n",
    "                res += 1\n",
    "            if strings[l] and f == strings[l][-1]:\n",
    "                continue\n",
    "            strings[l].append(f) # 연주하려는 프렛 추가\n",
    "            res += 1\n",
    "print(res)\n",
    "    "
   ]
  }
 ],
 "metadata": {
  "kernelspec": {
   "display_name": "Python 3.8.9 64-bit",
   "language": "python",
   "name": "python3"
  },
  "language_info": {
   "codemirror_mode": {
    "name": "ipython",
    "version": 3
   },
   "file_extension": ".py",
   "mimetype": "text/x-python",
   "name": "python",
   "nbconvert_exporter": "python",
   "pygments_lexer": "ipython3",
   "version": "3.8.9"
  },
  "orig_nbformat": 4,
  "vscode": {
   "interpreter": {
    "hash": "31f2aee4e71d21fbe5cf8b01ff0e069b9275f58929596ceb00d14d90e3e16cd6"
   }
  }
 },
 "nbformat": 4,
 "nbformat_minor": 2
}
