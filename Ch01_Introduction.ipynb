{
 "cells": [
  {
   "cell_type": "markdown",
   "metadata": {},
   "source": [
    "# Chapter1. 들어가기"
   ]
  },
  {
   "cell_type": "markdown",
   "metadata": {},
   "source": [
    "### 1.1 데이터시대의 도래\n",
    "- 우리는 방대한 데이터가 생산되고 기록되는 세상에 살고 있음\n",
    "- 이 데이터를 활용해 수많은 질문에 대한 답을 찾을 수 있음\n",
    "- *이 책을 통해 그 답을 찾는 방법들을 배워보자!*"
   ]
  },
  {
   "cell_type": "markdown",
   "metadata": {},
   "source": [
    "### 1.2 데이터 과학이란?\n",
    "- 데이터 과학자의 정의\n",
    "    - `통계학`과 `컴퓨터과학`에 대한 이해를 가지고 있음\n",
    "    - 날 것의 데이터로부터 `유용한 규칙`(insight)를 발견하고자 하는 사람"
   ]
  },
  {
   "cell_type": "markdown",
   "metadata": {},
   "source": [
    "### 1.3 동기부여를 위한 상상: DATUM Co., Ltd.\n",
    "- Giga2roo as a Data Scientist\n",
    "- Datum: 데이터 과학자들의 최대 소셜 네트워크\n",
    "- Datum's spirit: `Reinventing the wheel`(바퀴 재발명하기 = 밑바닥부터 우리 손으로)"
   ]
  },
  {
   "cell_type": "code",
   "execution_count": 7,
   "metadata": {},
   "outputs": [],
   "source": [
    "users = [\n",
    "    { \"id\":0, \"name\": \"Hero\" },\n",
    "    { \"id\":1, \"name\": \"Dunn\" },\n",
    "    { \"id\":2, \"name\": \"Sue\" },\n",
    "    { \"id\":3, \"name\": \"Chi\" },\n",
    "    { \"id\":4, \"name\": \"Thor\" },\n",
    "    { \"id\":5, \"name\": \"Clive\" },\n",
    "    { \"id\":6, \"name\": \"Hicks\" },\n",
    "    { \"id\":7, \"name\": \"Devin\" },\n",
    "    { \"id\":8, \"name\": \"Kate\" },\n",
    "    { \"id\":9, \"name\": \"Klein\" }\n",
    "]\n",
    "\n",
    "friendships = [(0, 1), (0, 2), (1, 2), (1, 3), (2, 3), (3, 4), (4, 5), (5, 6), (5, 7), (6, 8), (7, 8), (8, 9)]"
   ]
  },
  {
   "cell_type": "code",
   "execution_count": 15,
   "metadata": {},
   "outputs": [
    {
     "ename": "SyntaxError",
     "evalue": "invalid syntax (2696364658.py, line 21)",
     "output_type": "error",
     "traceback": [
      "\u001b[0;36m  Input \u001b[0;32mIn [15]\u001b[0;36m\u001b[0m\n\u001b[0;31m    sorted(num_friends_by_id, key = lambda (user_id, num_friends): num_friends,\u001b[0m\n\u001b[0m                                           ^\u001b[0m\n\u001b[0;31mSyntaxError\u001b[0m\u001b[0;31m:\u001b[0m invalid syntax\n"
     ]
    }
   ],
   "source": [
    "for user in users:\n",
    "    user[\"friends\"] = []\n",
    "\n",
    "for i, j in friendships:\n",
    "    # users[i]에서 i는 해당 사용자의 id를 나타내기 때문에 다음과 같이 추가 가능\n",
    "    users[i][\"friends\"].append(users[j]) # j를 i의 친구로 추가\n",
    "    users[j][\"friends\"].append(users[i]) # i를 j의 친구로 추가\n",
    "    \n",
    "def number_of_friends(user):\n",
    "    # user의 친구가 몇 명일까?\n",
    "    return len(user[\"friends\"])\n",
    "total_connections = sum(number_of_friends(user) for user in users)\n",
    "\n",
    "from __future__ import division # 나눈 값이 정수로 나오면 쓸고가 없음 ???\n",
    "num_users = len(users)\n",
    "avg_connections = total_connections / num_users\n",
    "\n",
    "# (user_id. number_of_friends)로 구성된 list 생성\n",
    "num_friends_by_id = [(user[\"id\"], number_of_friends(user))\n",
    "                     for user in users]\n",
    "sorted(num_friends_by_id, key = lambda (user_id, num_friends): num_friends,\n",
    "       reverse=True)\n",
    "\n",
    "\n",
    "print(total_connections)\n",
    "print(avg_connections)"
   ]
  },
  {
   "cell_type": "code",
   "execution_count": null,
   "metadata": {},
   "outputs": [],
   "source": []
  },
  {
   "cell_type": "markdown",
   "metadata": {},
   "source": [
    "##### 1.3.1 "
   ]
  }
 ],
 "metadata": {
  "kernelspec": {
   "display_name": "Python 3.8.9 64-bit",
   "language": "python",
   "name": "python3"
  },
  "language_info": {
   "codemirror_mode": {
    "name": "ipython",
    "version": 3
   },
   "file_extension": ".py",
   "mimetype": "text/x-python",
   "name": "python",
   "nbconvert_exporter": "python",
   "pygments_lexer": "ipython3",
   "version": "3.8.9"
  },
  "orig_nbformat": 4,
  "vscode": {
   "interpreter": {
    "hash": "31f2aee4e71d21fbe5cf8b01ff0e069b9275f58929596ceb00d14d90e3e16cd6"
   }
  }
 },
 "nbformat": 4,
 "nbformat_minor": 2
}
