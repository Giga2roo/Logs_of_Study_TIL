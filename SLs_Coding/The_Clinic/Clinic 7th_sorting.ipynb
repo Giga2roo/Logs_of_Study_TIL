{
 "cells": [
  {
   "cell_type": "markdown",
   "metadata": {},
   "source": [
    "### 1.선택 정렬\n",
    "- 전체 element 중 가장 장은 것을 제일 앞으로 → 나머지 중 가장 작은 것을 그 다음으로 (끝날 때 까지)\n",
    "- $N \\times (N-1) \\times (N-2) \\times ... \\times 2$\n",
    "- 시간복잡도: $O(N^2)$"
   ]
  },
  {
   "cell_type": "code",
   "execution_count": 1,
   "metadata": {},
   "outputs": [
    {
     "name": "stdout",
     "output_type": "stream",
     "text": [
      "[0, 1, 2, 3, 4, 5, 6, 7, 8, 9]\n"
     ]
    }
   ],
   "source": [
    "array = [7, 5, 9, 0, 3, 1, 6, 2, 4, 8]\n",
    "\n",
    "for i in range(len(array)):\n",
    "\tmin_index = i # 가장 작은 원소의 인덱스\n",
    "\tfor j in range(i + 1, len(array)):\n",
    "\t\tif array[min_index] > array[j]:\n",
    "\t\t\t min_index = j\n",
    "\tarray[i], array[min_index] = array[min_index], array[i] # 스와프\n",
    "\n",
    "print(array)"
   ]
  },
  {
   "cell_type": "markdown",
   "metadata": {},
   "source": [
    "### 2.삽입 정렬\n",
    "- 첫 원소를 기준으로 두번째 원소를 `첫 원소`의 왼쪽이나 오른쪽 어디에 둘지 결정 → 정렬된 두 원소를 기준으로 세번째 원소를 어디에 둘지 결정 → 끝날 때까지"
   ]
  },
  {
   "cell_type": "code",
   "execution_count": 2,
   "metadata": {},
   "outputs": [
    {
     "name": "stdout",
     "output_type": "stream",
     "text": [
      "[0, 1, 2, 3, 4, 5, 6, 7, 8, 9]\n"
     ]
    }
   ],
   "source": [
    "array = [7, 5, 9, 0, 3, 1, 6, 2, 4, 8]\n",
    "\n",
    "for i in range(1, len(array)):\n",
    "    for j in range(i, 0, -1): # index i부터 1까지 1씩 감소하여 반복\n",
    "        if array[j] < array[j - 1]:\n",
    "            array[j], array[j - 1] = array[j - 1], array[j]\n",
    "        else:\n",
    "            break\n",
    "\n",
    "print(array)        "
   ]
  },
  {
   "cell_type": "code",
   "execution_count": null,
   "metadata": {},
   "outputs": [],
   "source": []
  }
 ],
 "metadata": {
  "kernelspec": {
   "display_name": "Python 3.8.9 64-bit",
   "language": "python",
   "name": "python3"
  },
  "language_info": {
   "codemirror_mode": {
    "name": "ipython",
    "version": 3
   },
   "file_extension": ".py",
   "mimetype": "text/x-python",
   "name": "python",
   "nbconvert_exporter": "python",
   "pygments_lexer": "ipython3",
   "version": "3.8.9"
  },
  "orig_nbformat": 4,
  "vscode": {
   "interpreter": {
    "hash": "31f2aee4e71d21fbe5cf8b01ff0e069b9275f58929596ceb00d14d90e3e16cd6"
   }
  }
 },
 "nbformat": 4,
 "nbformat_minor": 2
}
