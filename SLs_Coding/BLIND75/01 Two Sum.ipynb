{
 "cells": [
  {
   "cell_type": "markdown",
   "metadata": {},
   "source": [
    "LeetCode - [BLIND75](https://leetcode.com/discuss/general-discussion/460599/blind-75-leetcode-questions)\n",
    "- [01 Two Sum](https://leetcode.com/problems/two-sum/)"
   ]
  },
  {
   "cell_type": "markdown",
   "metadata": {},
   "source": [
    "input \n",
    "- array of integers as `nums`\n",
    "- an integer `target`\n",
    "\n",
    "return\n",
    "- `two numbers` such that they add up to `target`\n",
    "\n",
    "constraints\n",
    "- each input would have exactly one solution\n",
    "- not use the same element twice"
   ]
  },
  {
   "cell_type": "code",
   "execution_count": 3,
   "metadata": {},
   "outputs": [],
   "source": [
    "nums = [2,7,11,15]\n",
    "target = 9"
   ]
  },
  {
   "cell_type": "code",
   "execution_count": 4,
   "metadata": {},
   "outputs": [
    {
     "ename": "NameError",
     "evalue": "name 'List' is not defined",
     "output_type": "error",
     "traceback": [
      "\u001b[0;31m---------------------------------------------------------------------------\u001b[0m",
      "\u001b[0;31mNameError\u001b[0m                                 Traceback (most recent call last)",
      "\u001b[1;32m/Users/giga2roo/Documents/GitHub/Logs_of_Study_TIL/SLs_Coding/BLIND75/01 Two Sum.ipynb Cell 4\u001b[0m in \u001b[0;36m<cell line: 1>\u001b[0;34m()\u001b[0m\n\u001b[0;32m----> <a href='vscode-notebook-cell:/Users/giga2roo/Documents/GitHub/Logs_of_Study_TIL/SLs_Coding/BLIND75/01%20Two%20Sum.ipynb#W0sZmlsZQ%3D%3D?line=0'>1</a>\u001b[0m \u001b[39mclass\u001b[39;00m \u001b[39mSolution\u001b[39;00m:\n\u001b[1;32m      <a href='vscode-notebook-cell:/Users/giga2roo/Documents/GitHub/Logs_of_Study_TIL/SLs_Coding/BLIND75/01%20Two%20Sum.ipynb#W0sZmlsZQ%3D%3D?line=1'>2</a>\u001b[0m     \u001b[39mdef\u001b[39;00m \u001b[39mtwoSum\u001b[39m(\u001b[39mself\u001b[39m, nums: List[\u001b[39mint\u001b[39m], target: \u001b[39mint\u001b[39m) \u001b[39m-\u001b[39m\u001b[39m>\u001b[39m List[\u001b[39mint\u001b[39m]:\n\u001b[1;32m      <a href='vscode-notebook-cell:/Users/giga2roo/Documents/GitHub/Logs_of_Study_TIL/SLs_Coding/BLIND75/01%20Two%20Sum.ipynb#W0sZmlsZQ%3D%3D?line=2'>3</a>\u001b[0m         seen \u001b[39m=\u001b[39m {}\n",
      "\u001b[1;32m/Users/giga2roo/Documents/GitHub/Logs_of_Study_TIL/SLs_Coding/BLIND75/01 Two Sum.ipynb Cell 4\u001b[0m in \u001b[0;36mSolution\u001b[0;34m()\u001b[0m\n\u001b[1;32m      <a href='vscode-notebook-cell:/Users/giga2roo/Documents/GitHub/Logs_of_Study_TIL/SLs_Coding/BLIND75/01%20Two%20Sum.ipynb#W0sZmlsZQ%3D%3D?line=0'>1</a>\u001b[0m \u001b[39mclass\u001b[39;00m \u001b[39mSolution\u001b[39;00m:\n\u001b[0;32m----> <a href='vscode-notebook-cell:/Users/giga2roo/Documents/GitHub/Logs_of_Study_TIL/SLs_Coding/BLIND75/01%20Two%20Sum.ipynb#W0sZmlsZQ%3D%3D?line=1'>2</a>\u001b[0m     \u001b[39mdef\u001b[39;00m \u001b[39mtwoSum\u001b[39m(\u001b[39mself\u001b[39m, nums: List[\u001b[39mint\u001b[39m], target: \u001b[39mint\u001b[39m) \u001b[39m-\u001b[39m\u001b[39m>\u001b[39m List[\u001b[39mint\u001b[39m]:\n\u001b[1;32m      <a href='vscode-notebook-cell:/Users/giga2roo/Documents/GitHub/Logs_of_Study_TIL/SLs_Coding/BLIND75/01%20Two%20Sum.ipynb#W0sZmlsZQ%3D%3D?line=2'>3</a>\u001b[0m         seen \u001b[39m=\u001b[39m {}\n\u001b[1;32m      <a href='vscode-notebook-cell:/Users/giga2roo/Documents/GitHub/Logs_of_Study_TIL/SLs_Coding/BLIND75/01%20Two%20Sum.ipynb#W0sZmlsZQ%3D%3D?line=3'>4</a>\u001b[0m         \u001b[39mfor\u001b[39;00m i, value \u001b[39min\u001b[39;00m \u001b[39menumerate\u001b[39m(nums): \u001b[39m#1\u001b[39;00m\n",
      "\u001b[0;31mNameError\u001b[0m: name 'List' is not defined"
     ]
    }
   ],
   "source": [
    "class Solution:\n",
    "    def twoSum(self, nums: List[int], target: int) -> List[int]:\n",
    "        seen = {}\n",
    "        for i, value in enumerate(nums): #1\n",
    "            remaining = target -nums[i] #2\n",
    "            \n",
    "            if remaining in seen: #3\n",
    "                return [i, seen[remaining]] #4\n",
    "            else:\n",
    "                seen[value] = i\n",
    "            "
   ]
  },
  {
   "cell_type": "code",
   "execution_count": null,
   "metadata": {},
   "outputs": [],
   "source": []
  }
 ],
 "metadata": {
  "kernelspec": {
   "display_name": "Python 3.8.9 64-bit",
   "language": "python",
   "name": "python3"
  },
  "language_info": {
   "codemirror_mode": {
    "name": "ipython",
    "version": 3
   },
   "file_extension": ".py",
   "mimetype": "text/x-python",
   "name": "python",
   "nbconvert_exporter": "python",
   "pygments_lexer": "ipython3",
   "version": "3.8.9"
  },
  "orig_nbformat": 4,
  "vscode": {
   "interpreter": {
    "hash": "31f2aee4e71d21fbe5cf8b01ff0e069b9275f58929596ceb00d14d90e3e16cd6"
   }
  }
 },
 "nbformat": 4,
 "nbformat_minor": 2
}
