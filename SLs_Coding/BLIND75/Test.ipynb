{
 "cells": [
  {
   "cell_type": "code",
   "execution_count": 3,
   "metadata": {},
   "outputs": [
    {
     "name": "stdout",
     "output_type": "stream",
     "text": [
      "1\n",
      "1\n",
      "-----\n",
      "1\n",
      "-----\n",
      "2\n",
      "1\n",
      "-----\n",
      "2\n",
      "-----\n",
      "3\n",
      "2\n",
      "-----\n",
      "6\n",
      "-----\n"
     ]
    }
   ],
   "source": [
    "nums = [1,2,3,4]\n",
    "length = len(nums)\n",
    "\n",
    "L, R, answer = [0]*length, [0]*length, [0]*length\n",
    "\n",
    "\n",
    "L[0] = 1\n",
    "for i in range(1, length):\n",
    "    L[i] = nums[i - 1] * L[i - 1]\n",
    "    print(nums[i - 1])\n",
    "    print(L[i - 1])\n",
    "    print(\"-----\")\n",
    "    print(L[i])\n",
    "    print(\"-----\")"
   ]
  },
  {
   "cell_type": "code",
   "execution_count": 20,
   "metadata": {},
   "outputs": [
    {
     "name": "stdout",
     "output_type": "stream",
     "text": [
      "1\n",
      "[1]\n",
      "4\n",
      "[1, 4]\n",
      "2\n",
      "[1, 4, 2]\n",
      "1\n",
      "[1, 4, 2, 1]\n",
      "4\n",
      "[1, 4, 2, 1, 4]\n",
      "12\n"
     ]
    }
   ],
   "source": [
    "nums = [-2,1,-3,4,-1,2,1,-5,4]\n",
    "collec = []\n",
    "for num in nums:\n",
    "    if num > 0:\n",
    "        print(num)\n",
    "        collec.append(num)\n",
    "        print(collec)\n",
    "    sum = 0\n",
    "    for i in collec:\n",
    "        sum += i\n",
    "print(sum)"
   ]
  },
  {
   "cell_type": "code",
   "execution_count": null,
   "metadata": {},
   "outputs": [],
   "source": []
  }
 ],
 "metadata": {
  "kernelspec": {
   "display_name": "Python 3.8.9 64-bit",
   "language": "python",
   "name": "python3"
  },
  "language_info": {
   "codemirror_mode": {
    "name": "ipython",
    "version": 3
   },
   "file_extension": ".py",
   "mimetype": "text/x-python",
   "name": "python",
   "nbconvert_exporter": "python",
   "pygments_lexer": "ipython3",
   "version": "3.8.9"
  },
  "orig_nbformat": 4,
  "vscode": {
   "interpreter": {
    "hash": "31f2aee4e71d21fbe5cf8b01ff0e069b9275f58929596ceb00d14d90e3e16cd6"
   }
  }
 },
 "nbformat": 4,
 "nbformat_minor": 2
}
