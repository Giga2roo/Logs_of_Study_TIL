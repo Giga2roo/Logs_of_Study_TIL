{
 "cells": [
  {
   "cell_type": "markdown",
   "metadata": {},
   "source": [
    "### 1. 좌석 구매 Level1: 정렬, 해시"
   ]
  },
  {
   "cell_type": "code",
   "execution_count": 7,
   "metadata": {},
   "outputs": [
    {
     "data": {
      "text/plain": [
       "(3, 4)"
      ]
     },
     "execution_count": 7,
     "metadata": {},
     "output_type": "execute_result"
    }
   ],
   "source": [
    "def solution(seat):\n",
    "    D = {}\n",
    "    answer = 0\n",
    "    \n",
    "    for s in seat:\n",
    "        t = (s[0], s[1])\n",
    "        if t not in D:\n",
    "            D[t] = 1\n",
    "            answer += 1\n",
    "    \n",
    "    return answer\n",
    "\n",
    "seat = [[1, 1], [2, 2], [3, 3]]\n",
    "seat2 = [[1, 1],[2, 1],[1, 2],[3, 4],[2, 1],[2, 1]]\n",
    "solution(seat), solution(seat2) # 3"
   ]
  },
  {
   "cell_type": "markdown",
   "metadata": {},
   "source": [
    "### 2. 책상의 재고 Level 2: 시뮬레이션, 구현"
   ]
  },
  {
   "cell_type": "code",
   "execution_count": 11,
   "metadata": {},
   "outputs": [],
   "source": [
    "def solution(N, M):\n",
    "    for i in range(N, 100):\n",
    "        # print(i, i // M)\n",
    "        if i == N + (i // M):\n",
    "            return i"
   ]
  },
  {
   "cell_type": "code",
   "execution_count": 12,
   "metadata": {},
   "outputs": [
    {
     "data": {
      "text/plain": [
       "3"
      ]
     },
     "execution_count": 12,
     "metadata": {},
     "output_type": "execute_result"
    }
   ],
   "source": [
    "N, M = 2, 2\n",
    "solution(N, M)"
   ]
  },
  {
   "cell_type": "markdown",
   "metadata": {},
   "source": [
    "### 3. 자릿수 바꿔 표현하기 Level 2: 수학적 사고력, 문자열"
   ]
  },
  {
   "cell_type": "code",
   "execution_count": 33,
   "metadata": {},
   "outputs": [],
   "source": [
    "def solution(rule, A, B):\n",
    "    \n",
    "    # rule = 'zothf'\n",
    "    digit = len(rule)\n",
    "    char_map = {}\n",
    "    \n",
    "    for i, r in enumerate(rule):\n",
    "        char_map[r] = i\n",
    "    \n",
    "    print(char_map) # z o t h f  => 0 1 2 3 4 \n",
    "    \n",
    "    s = ''\n",
    "    for a in A:\n",
    "        s += str(char_map[a])\n",
    "    print(s)\n",
    "    \n",
    "    nA = 0\n",
    "    for i, d in enumerate(s): # 120, 'str'\n",
    "        nA += int(d) * digit ** (len(A)-i-1) # 1*5^2 + 2*5^1 + 0\n",
    "    print(nA)\n",
    "    # A = 'otz'\n",
    "    # B = 'hh'\n",
    "    \n",
    "    return"
   ]
  },
  {
   "cell_type": "code",
   "execution_count": 54,
   "metadata": {},
   "outputs": [],
   "source": [
    "def stoi(char_map, digit, string):\n",
    "    \"\"\"_summary_\n",
    "\n",
    "    Args:\n",
    "        char_map (str): 문자를 숫자로 변환하는 규칙\n",
    "        digit (int): 진수\n",
    "        string (str): 주어진 문자열\n",
    "    \"\"\"\n",
    "    s = ''\n",
    "    for x in string:\n",
    "        s += str(char_map[x])\n",
    "   # print(s)\n",
    "    \n",
    "    N = 0\n",
    "    for i, d in enumerate(s): # 120, 'str'\n",
    "        N += int(d) * (digit ** (len(string)-i-1))\n",
    "    #print(N)\n",
    "\n",
    "    return N\n",
    "def solution(rule, A, B):\n",
    "    \n",
    "    # rule = 'zothf'\n",
    "    digit = len(rule)\n",
    "    char_map = {}\n",
    "    \n",
    "    for i, r in enumerate(rule):\n",
    "        char_map[r] = i\n",
    "    \n",
    "    #print(char_map) # z o t h f  => 0 1 2 3 4 \n",
    "    \n",
    "    # A = 'otz'\n",
    "    # B = 'hh'\n",
    "    answer = stoi(char_map, digit, A) - stoi(char_map, digit, B)\n",
    "    \n",
    "    # answer를 digit 진법으로 변환\n",
    "    #17 -> 32(5), str\n",
    "    \n",
    "    if answer == 0:\n",
    "        return rule[0]\n",
    "    \n",
    "    s = \"\"\n",
    "    while answer:\n",
    "        answer, mod = divmod(answer, digit)\n",
    "        s += str(mod)\n",
    "    \n",
    "    result = \"\"    \n",
    "    for c in s[::-1]: # 32(5)\n",
    "        result += list(char_map.keys())[int(c)]\n",
    "    \n",
    "    return result"
   ]
  },
  {
   "cell_type": "code",
   "execution_count": 55,
   "metadata": {},
   "outputs": [
    {
     "data": {
      "text/plain": [
       "'ht'"
      ]
     },
     "execution_count": 55,
     "metadata": {},
     "output_type": "execute_result"
    }
   ],
   "source": [
    "solution('zothf', 'otz', 'hh') # 'ht'"
   ]
  },
  {
   "cell_type": "code",
   "execution_count": 56,
   "metadata": {},
   "outputs": [
    {
     "data": {
      "text/plain": [
       "'ba'"
      ]
     },
     "execution_count": 56,
     "metadata": {},
     "output_type": "execute_result"
    }
   ],
   "source": [
    "solution('ab', 'ba', 'a')"
   ]
  },
  {
   "cell_type": "markdown",
   "metadata": {},
   "source": [
    "### 4. 파티 Level 2: 구현, 수학적 사고력, 완전탐색"
   ]
  },
  {
   "cell_type": "code",
   "execution_count": 13,
   "metadata": {},
   "outputs": [],
   "source": [
    "def solution(s):\n",
    "    \"\"\"\n",
    "    각각 1,2,3,4명짜리 그룹의 수: n1, n2, n3, n4\n",
    "    \"\"\"\n",
    "    count_dict = { 1:0, 2:0, 3:0, 4:0}\n",
    "    \n",
    "    for g in s:\n",
    "        count_dict[g] += 1\n",
    "        #count_dict[g] = count_dict.get(g, 0) + 1\n",
    "    \n",
    "    n1 = count_dict[1]\n",
    "    n2 = count_dict[2]\n",
    "    n3 = count_dict[3]\n",
    "    n4 = count_dict[4]\n",
    "    \n",
    "    # 2, 1, 1 함께 가는 케이스\n",
    "    answer = n4\n",
    "    if n2 * 2 <= n1:\n",
    "        answer = answer + n2\n",
    "        n2 = 0\n",
    "        n1 = n1 - (n2 * 2)\n",
    "    else:\n",
    "        n2 = n2 - (n1 // 2) # 태워보낸 그룹만큼 업데이트\n",
    "        n1 = n1 - (n1 // 2)*2 # 상동\n",
    "    \n",
    "    # (2, 2) // (1, 3) // 4\n",
    "    # case1. (2, 2) // (1, 3) // 4만 있는 케이스\n",
    "    # (n2 // 2) + (n2 % 2) + n4\n",
    "    \n",
    "    # n1 > n3, n1 = 8, n3 = 3\n",
    "    if n1 > n3:\n",
    "        answer += n3 # n3 = 3 # (3, 1)\n",
    "        if ((n1 - n3) % 4) == 0:\n",
    "            answer += ((n1 - n3) // 4)\n",
    "        else:\n",
    "            answer += ((n1 - n3) // 4) + 1 # 1명씩 있는 그룹을 택시에 묶어서 태우는 경우.\n",
    "    \n",
    "    # n3 > n1, n3 = 8, n1 = 3\n",
    "    else:\n",
    "        answer += n1 # (1, 3)이 함께 타는 경우\n",
    "        answer += n3 - n1 # 3명씩 있는 그룹은 각자 타고 감\n",
    "    \n",
    "    answer += (n2 // 2) + (n2 % 2)\n",
    "    return answer"
   ]
  },
  {
   "cell_type": "code",
   "execution_count": 14,
   "metadata": {},
   "outputs": [
    {
     "data": {
      "text/plain": [
       "(4, 5)"
      ]
     },
     "execution_count": 14,
     "metadata": {},
     "output_type": "execute_result"
    }
   ],
   "source": [
    "# [1,2,4,3,3], 4\n",
    "# [2,3,4,4,2,1,3,1], 5\n",
    "\n",
    "solution([1,2,4,3,3]), solution([2,3,4,4,2,1,3,1])"
   ]
  }
 ],
 "metadata": {
  "kernelspec": {
   "display_name": "Python 3.8.9 64-bit",
   "language": "python",
   "name": "python3"
  },
  "language_info": {
   "codemirror_mode": {
    "name": "ipython",
    "version": 3
   },
   "file_extension": ".py",
   "mimetype": "text/x-python",
   "name": "python",
   "nbconvert_exporter": "python",
   "pygments_lexer": "ipython3",
   "version": "3.8.9"
  },
  "orig_nbformat": 4,
  "vscode": {
   "interpreter": {
    "hash": "31f2aee4e71d21fbe5cf8b01ff0e069b9275f58929596ceb00d14d90e3e16cd6"
   }
  }
 },
 "nbformat": 4,
 "nbformat_minor": 2
}
