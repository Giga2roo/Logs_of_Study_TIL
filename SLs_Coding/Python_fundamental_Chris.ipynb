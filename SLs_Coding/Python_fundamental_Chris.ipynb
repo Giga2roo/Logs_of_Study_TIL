{
 "cells": [
  {
   "cell_type": "code",
   "execution_count": 12,
   "metadata": {},
   "outputs": [],
   "source": [
    "def get_natural_number():\n",
    "    n = 0\n",
    "    while True:\n",
    "        n += 1\n",
    "        yield n"
   ]
  },
  {
   "cell_type": "code",
   "execution_count": 15,
   "metadata": {},
   "outputs": [
    {
     "name": "stdout",
     "output_type": "stream",
     "text": [
      "1\n",
      "2\n",
      "3\n",
      "4\n",
      "5\n",
      "6\n",
      "7\n",
      "8\n",
      "9\n",
      "10\n"
     ]
    }
   ],
   "source": [
    "g = get_natural_number()\n",
    "for _ in range(0, 10):\n",
    "    print(next(g))"
   ]
  },
  {
   "cell_type": "code",
   "execution_count": 7,
   "metadata": {},
   "outputs": [
    {
     "data": {
      "text/plain": [
       "<function next>"
      ]
     },
     "execution_count": 7,
     "metadata": {},
     "output_type": "execute_result"
    }
   ],
   "source": [
    "next"
   ]
  },
  {
   "cell_type": "code",
   "execution_count": 8,
   "metadata": {},
   "outputs": [
    {
     "name": "stdout",
     "output_type": "stream",
     "text": [
      "\u001b[0;31mDocstring:\u001b[0m\n",
      "next(iterator[, default])\n",
      "\n",
      "Return the next item from the iterator. If default is given and the iterator\n",
      "is exhausted, it is returned instead of raising StopIteration.\n",
      "\u001b[0;31mType:\u001b[0m      builtin_function_or_method\n"
     ]
    }
   ],
   "source": [
    "next?"
   ]
  },
  {
   "cell_type": "code",
   "execution_count": 9,
   "metadata": {},
   "outputs": [
    {
     "name": "stdout",
     "output_type": "stream",
     "text": [
      "<generator object get_natural_number at 0x118d925f0>\n"
     ]
    }
   ],
   "source": [
    "print(g)"
   ]
  },
  {
   "cell_type": "code",
   "execution_count": 8,
   "metadata": {},
   "outputs": [
    {
     "data": {
      "text/plain": [
       "[{0, 'a1'}, {1, 'b2'}, {2, 'c3'}]"
      ]
     },
     "execution_count": 8,
     "metadata": {},
     "output_type": "execute_result"
    }
   ],
   "source": [
    "a = ['a1', 'b2', 'c3']\n",
    "# 방법 3: enumerate()를 활용한다\n",
    "b = []\n",
    "for i, v in enumerate(a):\n",
    "  b.append({i, v})\n",
    "b"
   ]
  },
  {
   "cell_type": "code",
   "execution_count": 9,
   "metadata": {},
   "outputs": [
    {
     "name": "stdout",
     "output_type": "stream",
     "text": [
      "A1,B2\n"
     ]
    }
   ],
   "source": [
    "print('A1', 'B2', sep=',')"
   ]
  },
  {
   "cell_type": "code",
   "execution_count": 10,
   "metadata": {},
   "outputs": [
    {
     "name": "stdout",
     "output_type": "stream",
     "text": [
      "A1, B2\n"
     ]
    }
   ],
   "source": [
    "print('A1', 'B2', sep=', ')\n"
   ]
  },
  {
   "cell_type": "code",
   "execution_count": 18,
   "metadata": {},
   "outputs": [
    {
     "name": "stdout",
     "output_type": "stream",
     "text": [
      "{'In': ['',\n",
      "        \"a = ['a1', 'b2', 'c3']\\n\"\n",
      "        '# 방법 3: enumerate()를 활용한다\\n'\n",
      "        'b = []\\n'\n",
      "        'for i, v in enumerate(a):\\n'\n",
      "        '  b.append[(i, v)]',\n",
      "        \"a = ['a1', 'b2', 'c3']\\n\"\n",
      "        '# 방법 3: enumerate()를 활용한다\\n'\n",
      "        'b = []\\n'\n",
      "        'for i, v in enumerate(a):\\n'\n",
      "        '  b.append[i, v]',\n",
      "        \"a = ['a1', 'b2', 'c3']\\n\"\n",
      "        '# 방법 3: enumerate()를 활용한다\\n'\n",
      "        'b = []\\n'\n",
      "        'for i, v in enumerate(a):\\n'\n",
      "        '  b.append(i, v)',\n",
      "        \"a = ['a1', 'b2', 'c3']\\n\"\n",
      "        '# 방법 3: enumerate()를 활용한다\\n'\n",
      "        'b = []\\n'\n",
      "        'for i, v in enumerate(a):\\n'\n",
      "        '  b.append([i, v])',\n",
      "        'b',\n",
      "        \"a = ['a1', 'b2', 'c3']\\n\"\n",
      "        '# 방법 3: enumerate()를 활용한다\\n'\n",
      "        'b = []\\n'\n",
      "        'for i, v in enumerate(a):\\n'\n",
      "        '  b.append([i, v])\\n'\n",
      "        'b',\n",
      "        'print(b)',\n",
      "        \"a = ['a1', 'b2', 'c3']\\n\"\n",
      "        '# 방법 3: enumerate()를 활용한다\\n'\n",
      "        'b = []\\n'\n",
      "        'for i, v in enumerate(a):\\n'\n",
      "        '  b.append({i, v})\\n'\n",
      "        'b',\n",
      "        \"print('A1', 'B2', sep=',')\",\n",
      "        \"print('A1', 'B2', sep=', ')\",\n",
      "        'import pprint\\n'\n",
      "        '\\n'\n",
      "        'g = get_natural_number()\\n'\n",
      "        'for _ in range(0, 10):\\n'\n",
      "        '    pprint(next(g))',\n",
      "        'def get_natural_number():\\n'\n",
      "        '    n = 0\\n'\n",
      "        '    while True:\\n'\n",
      "        '        n += 1\\n'\n",
      "        '        yield n',\n",
      "        'import pprint\\n'\n",
      "        '\\n'\n",
      "        'g = get_natural_number()\\n'\n",
      "        'for _ in range(0, 10):\\n'\n",
      "        '    pprint(next(g))',\n",
      "        'import pprint\\n'\n",
      "        '\\n'\n",
      "        'g = get_natural_number()\\n'\n",
      "        'for _ in range(0, 10):\\n'\n",
      "        '    print(next(g))',\n",
      "        'g = get_natural_number()\\nfor _ in range(0, 10):\\n    print(next(g))',\n",
      "        'pprint(locals)',\n",
      "        'pprint(locals())',\n",
      "        'pprint.pprint(locals())'],\n",
      " 'Out': {5: [[0, 'a1'], [1, 'b2'], [2, 'c3']],\n",
      "         6: [[0, 'a1'], [1, 'b2'], [2, 'c3']],\n",
      "         8: [{0, 'a1'}, {1, 'b2'}, {2, 'c3'}]},\n",
      " '_': 9,\n",
      " '_5': [[0, 'a1'], [1, 'b2'], [2, 'c3']],\n",
      " '_6': [[0, 'a1'], [1, 'b2'], [2, 'c3']],\n",
      " '_8': [{0, 'a1'}, {1, 'b2'}, {2, 'c3'}],\n",
      " '__': [[0, 'a1'], [1, 'b2'], [2, 'c3']],\n",
      " '___': [[0, 'a1'], [1, 'b2'], [2, 'c3']],\n",
      " '__builtin__': <module 'builtins' (built-in)>,\n",
      " '__builtins__': <module 'builtins' (built-in)>,\n",
      " '__doc__': 'Automatically created module for IPython interactive environment',\n",
      " '__loader__': None,\n",
      " '__name__': '__main__',\n",
      " '__package__': None,\n",
      " '__spec__': None,\n",
      " '__vsc_ipynb_file__': '/Users/krc/Documents/GitHub/Study_coding-test/Fundamental_etc/Python_fundamental_Chris.ipynb',\n",
      " '_dh': ['/Users/krc/Documents/GitHub/Study_coding-test/Fundamental_etc'],\n",
      " '_i': 'pprint(locals())',\n",
      " '_i1': \"a = ['a1', 'b2', 'c3']\\n\"\n",
      "        '# 방법 3: enumerate()를 활용한다\\n'\n",
      "        'b = []\\n'\n",
      "        'for i, v in enumerate(a):\\n'\n",
      "        '  b.append[(i, v)]',\n",
      " '_i10': \"print('A1', 'B2', sep=', ')\",\n",
      " '_i11': 'import pprint\\n'\n",
      "         '\\n'\n",
      "         'g = get_natural_number()\\n'\n",
      "         'for _ in range(0, 10):\\n'\n",
      "         '    pprint(next(g))',\n",
      " '_i12': 'def get_natural_number():\\n'\n",
      "         '    n = 0\\n'\n",
      "         '    while True:\\n'\n",
      "         '        n += 1\\n'\n",
      "         '        yield n',\n",
      " '_i13': 'import pprint\\n'\n",
      "         '\\n'\n",
      "         'g = get_natural_number()\\n'\n",
      "         'for _ in range(0, 10):\\n'\n",
      "         '    pprint(next(g))',\n",
      " '_i14': 'import pprint\\n'\n",
      "         '\\n'\n",
      "         'g = get_natural_number()\\n'\n",
      "         'for _ in range(0, 10):\\n'\n",
      "         '    print(next(g))',\n",
      " '_i15': 'g = get_natural_number()\\nfor _ in range(0, 10):\\n    print(next(g))',\n",
      " '_i16': 'pprint(locals)',\n",
      " '_i17': 'pprint(locals())',\n",
      " '_i18': 'pprint.pprint(locals())',\n",
      " '_i2': \"a = ['a1', 'b2', 'c3']\\n\"\n",
      "        '# 방법 3: enumerate()를 활용한다\\n'\n",
      "        'b = []\\n'\n",
      "        'for i, v in enumerate(a):\\n'\n",
      "        '  b.append[i, v]',\n",
      " '_i3': \"a = ['a1', 'b2', 'c3']\\n\"\n",
      "        '# 방법 3: enumerate()를 활용한다\\n'\n",
      "        'b = []\\n'\n",
      "        'for i, v in enumerate(a):\\n'\n",
      "        '  b.append(i, v)',\n",
      " '_i4': \"a = ['a1', 'b2', 'c3']\\n\"\n",
      "        '# 방법 3: enumerate()를 활용한다\\n'\n",
      "        'b = []\\n'\n",
      "        'for i, v in enumerate(a):\\n'\n",
      "        '  b.append([i, v])',\n",
      " '_i5': 'b',\n",
      " '_i6': \"a = ['a1', 'b2', 'c3']\\n\"\n",
      "        '# 방법 3: enumerate()를 활용한다\\n'\n",
      "        'b = []\\n'\n",
      "        'for i, v in enumerate(a):\\n'\n",
      "        '  b.append([i, v])\\n'\n",
      "        'b',\n",
      " '_i7': 'print(b)',\n",
      " '_i8': \"a = ['a1', 'b2', 'c3']\\n\"\n",
      "        '# 방법 3: enumerate()를 활용한다\\n'\n",
      "        'b = []\\n'\n",
      "        'for i, v in enumerate(a):\\n'\n",
      "        '  b.append({i, v})\\n'\n",
      "        'b',\n",
      " '_i9': \"print('A1', 'B2', sep=',')\",\n",
      " '_ih': ['',\n",
      "         \"a = ['a1', 'b2', 'c3']\\n\"\n",
      "         '# 방법 3: enumerate()를 활용한다\\n'\n",
      "         'b = []\\n'\n",
      "         'for i, v in enumerate(a):\\n'\n",
      "         '  b.append[(i, v)]',\n",
      "         \"a = ['a1', 'b2', 'c3']\\n\"\n",
      "         '# 방법 3: enumerate()를 활용한다\\n'\n",
      "         'b = []\\n'\n",
      "         'for i, v in enumerate(a):\\n'\n",
      "         '  b.append[i, v]',\n",
      "         \"a = ['a1', 'b2', 'c3']\\n\"\n",
      "         '# 방법 3: enumerate()를 활용한다\\n'\n",
      "         'b = []\\n'\n",
      "         'for i, v in enumerate(a):\\n'\n",
      "         '  b.append(i, v)',\n",
      "         \"a = ['a1', 'b2', 'c3']\\n\"\n",
      "         '# 방법 3: enumerate()를 활용한다\\n'\n",
      "         'b = []\\n'\n",
      "         'for i, v in enumerate(a):\\n'\n",
      "         '  b.append([i, v])',\n",
      "         'b',\n",
      "         \"a = ['a1', 'b2', 'c3']\\n\"\n",
      "         '# 방법 3: enumerate()를 활용한다\\n'\n",
      "         'b = []\\n'\n",
      "         'for i, v in enumerate(a):\\n'\n",
      "         '  b.append([i, v])\\n'\n",
      "         'b',\n",
      "         'print(b)',\n",
      "         \"a = ['a1', 'b2', 'c3']\\n\"\n",
      "         '# 방법 3: enumerate()를 활용한다\\n'\n",
      "         'b = []\\n'\n",
      "         'for i, v in enumerate(a):\\n'\n",
      "         '  b.append({i, v})\\n'\n",
      "         'b',\n",
      "         \"print('A1', 'B2', sep=',')\",\n",
      "         \"print('A1', 'B2', sep=', ')\",\n",
      "         'import pprint\\n'\n",
      "         '\\n'\n",
      "         'g = get_natural_number()\\n'\n",
      "         'for _ in range(0, 10):\\n'\n",
      "         '    pprint(next(g))',\n",
      "         'def get_natural_number():\\n'\n",
      "         '    n = 0\\n'\n",
      "         '    while True:\\n'\n",
      "         '        n += 1\\n'\n",
      "         '        yield n',\n",
      "         'import pprint\\n'\n",
      "         '\\n'\n",
      "         'g = get_natural_number()\\n'\n",
      "         'for _ in range(0, 10):\\n'\n",
      "         '    pprint(next(g))',\n",
      "         'import pprint\\n'\n",
      "         '\\n'\n",
      "         'g = get_natural_number()\\n'\n",
      "         'for _ in range(0, 10):\\n'\n",
      "         '    print(next(g))',\n",
      "         'g = get_natural_number()\\nfor _ in range(0, 10):\\n    print(next(g))',\n",
      "         'pprint(locals)',\n",
      "         'pprint(locals())',\n",
      "         'pprint.pprint(locals())'],\n",
      " '_ii': 'pprint(locals)',\n",
      " '_iii': 'g = get_natural_number()\\nfor _ in range(0, 10):\\n    print(next(g))',\n",
      " '_oh': {5: [[0, 'a1'], [1, 'b2'], [2, 'c3']],\n",
      "         6: [[0, 'a1'], [1, 'b2'], [2, 'c3']],\n",
      "         8: [{0, 'a1'}, {1, 'b2'}, {2, 'c3'}]},\n",
      " 'a': ['a1', 'b2', 'c3'],\n",
      " 'b': [{0, 'a1'}, {1, 'b2'}, {2, 'c3'}],\n",
      " 'exit': <IPython.core.autocall.ZMQExitAutocall object at 0x106ecb040>,\n",
      " 'g': <generator object get_natural_number at 0x10bef8a50>,\n",
      " 'get_ipython': <bound method InteractiveShell.get_ipython of <ipykernel.zmqshell.ZMQInteractiveShell object at 0x106e8e9d0>>,\n",
      " 'get_natural_number': <function get_natural_number at 0x10be91280>,\n",
      " 'i': 2,\n",
      " 'os': <module 'os' from '/Applications/Xcode.app/Contents/Developer/Library/Frameworks/Python3.framework/Versions/3.8/lib/python3.8/os.py'>,\n",
      " 'pprint': <module 'pprint' from '/Applications/Xcode.app/Contents/Developer/Library/Frameworks/Python3.framework/Versions/3.8/lib/python3.8/pprint.py'>,\n",
      " 'quit': <IPython.core.autocall.ZMQExitAutocall object at 0x106ecb040>,\n",
      " 'sys': <module 'sys' (built-in)>,\n",
      " 'v': 'c3'}\n"
     ]
    }
   ],
   "source": [
    "pprint.pprint(locals())"
   ]
  },
  {
   "cell_type": "code",
   "execution_count": 20,
   "metadata": {},
   "outputs": [
    {
     "name": "stdout",
     "output_type": "stream",
     "text": [
      "apple\n",
      "cherry\n"
     ]
    }
   ],
   "source": [
    "fruits = [\"apple\", \"banana\", \"cherry\"]\n",
    "for x in fruits:\n",
    "    if x == \"banana\":\n",
    "        continue\n",
    "    print(x)"
   ]
  },
  {
   "cell_type": "code",
   "execution_count": 21,
   "metadata": {},
   "outputs": [
    {
     "data": {
      "text/plain": [
       "[2, 6, 10, 14, 18]"
      ]
     },
     "execution_count": 21,
     "metadata": {},
     "output_type": "execute_result"
    }
   ],
   "source": [
    "a = [n * 2 for n in range(1, 10+1) if n % 2 ==1]\n",
    "a"
   ]
  },
  {
   "cell_type": "code",
   "execution_count": 22,
   "metadata": {},
   "outputs": [],
   "source": [
    "b =[]\n",
    "for n in range(1, 10+1):\n",
    "    if n % 2 == 1:\n",
    "        b.append(n*2)"
   ]
  },
  {
   "cell_type": "code",
   "execution_count": 24,
   "metadata": {},
   "outputs": [
    {
     "data": {
      "text/plain": [
       "{'key1': 'value1'}"
      ]
     },
     "execution_count": 24,
     "metadata": {},
     "output_type": "execute_result"
    }
   ],
   "source": [
    "original = {'key1':'value1'}\n",
    "a = {}\n",
    "for key, value in original.items():\n",
    "  a[key] = value\n",
    "\n",
    "a"
   ]
  },
  {
   "cell_type": "code",
   "execution_count": 27,
   "metadata": {},
   "outputs": [],
   "source": [
    "original = {'key1':'value1', 'a':'1', 'b':'2'}\n",
    "a = {key: value for key, value in original.items()}\n"
   ]
  },
  {
   "cell_type": "code",
   "execution_count": 28,
   "metadata": {},
   "outputs": [
    {
     "data": {
      "text/plain": [
       "{'key1': 'value1', 'a': '1', 'b': '2'}"
      ]
     },
     "execution_count": 28,
     "metadata": {},
     "output_type": "execute_result"
    }
   ],
   "source": [
    "a"
   ]
  },
  {
   "cell_type": "code",
   "execution_count": 36,
   "metadata": {},
   "outputs": [
    {
     "name": "stdout",
     "output_type": "stream",
     "text": [
      "4\n",
      "6\n",
      "3\n",
      "-1\n"
     ]
    }
   ],
   "source": [
    "import practice_module\n",
    "\n",
    "print(add(1, 3))\n",
    "print(sub(9, 3))\n",
    "\n",
    "if __name__ == \"__main__\":\n",
    "    c = practice_module.add(1, 2)\n",
    "    print(c)\n",
    "    d = practice_module.sub(1, 2)\n",
    "    print(d)"
   ]
  }
 ],
 "metadata": {
  "kernelspec": {
   "display_name": "Python 3.9.10 ('base')",
   "language": "python",
   "name": "python3"
  },
  "language_info": {
   "codemirror_mode": {
    "name": "ipython",
    "version": 3
   },
   "file_extension": ".py",
   "mimetype": "text/x-python",
   "name": "python",
   "nbconvert_exporter": "python",
   "pygments_lexer": "ipython3",
   "version": "3.9.10"
  },
  "orig_nbformat": 4,
  "vscode": {
   "interpreter": {
    "hash": "19381dae11859029849bf77a2bf763c10e0e1b48ddfabe634499c3aa535e0678"
   }
  }
 },
 "nbformat": 4,
 "nbformat_minor": 2
}
