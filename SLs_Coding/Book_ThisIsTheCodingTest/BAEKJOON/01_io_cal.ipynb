{
 "cells": [
  {
   "cell_type": "markdown",
   "metadata": {},
   "source": [
    "### 입출력 및  사칙연산"
   ]
  },
  {
   "cell_type": "markdown",
   "metadata": {},
   "source": [
    "1998년생인 내가 태국에서는 2541년생?! [문제 18108](https://www.acmicpc.net/problem/18108)"
   ]
  },
  {
   "cell_type": "code",
   "execution_count": 2,
   "metadata": {},
   "outputs": [
    {
     "name": "stdout",
     "output_type": "stream",
     "text": [
      "1998\n"
     ]
    }
   ],
   "source": [
    "#18108\n",
    "\n",
    "budda_y = int(input())\n",
    "christ_y = budda_y - 543\n",
    "print(christ_y)"
   ]
  },
  {
   "cell_type": "markdown",
   "metadata": {},
   "source": [
    "킹, 퀸, 룩, 비숍, 나이트, 폰\n",
    "[문제 3003](https://www.acmicpc.net/problem/3003)\n",
    "\n",
    "\n",
    "- 풀이참고 [공대생](https://my-coding-notes.tistory.com/435)"
   ]
  },
  {
   "cell_type": "code",
   "execution_count": 3,
   "metadata": {},
   "outputs": [
    {
     "name": "stdout",
     "output_type": "stream",
     "text": [
      "-1 0 0 1 0 7 "
     ]
    }
   ],
   "source": [
    "object_count = [1, 1, 2, 2, 2, 8]\n",
    "\n",
    "object_status = list(map(int, input().split()))\n",
    "\n",
    "for i in range(6):\n",
    "    print(object_count[i] - object_status[i], end=' ')"
   ]
  },
  {
   "cell_type": "markdown",
   "metadata": {},
   "source": [
    "나머지 [문제 10430](https://www.acmicpc.net/problem/10430)\n",
    "- 풀이참고 [영지공지](https://ooyoung.tistory.com/21)"
   ]
  },
  {
   "cell_type": "code",
   "execution_count": 17,
   "metadata": {},
   "outputs": [
    {
     "name": "stdout",
     "output_type": "stream",
     "text": [
      "1\n",
      "1\n",
      "0\n",
      "0\n"
     ]
    }
   ],
   "source": [
    "a, b, c = map(int, input().split())\n",
    "\n",
    "cal_1 = (a + b) % c\n",
    "cal_2 = ((a % c) + (b % c)) % c\n",
    "cal_3 = (a * b) % c\n",
    "cal_4 = ((a % c) * (b % c)) % c\n",
    "\n",
    "print(cal_1, cal_2, cal_3, cal_4, sep='\\n')"
   ]
  },
  {
   "cell_type": "markdown",
   "metadata": {},
   "source": [
    "곱셈 [문제 2588](https://www.acmicpc.net/problem/2588)\n",
    "- 풀이참고 []()"
   ]
  },
  {
   "cell_type": "code",
   "execution_count": null,
   "metadata": {},
   "outputs": [],
   "source": []
  }
 ],
 "metadata": {
  "kernelspec": {
   "display_name": "Python 3.8.9 64-bit",
   "language": "python",
   "name": "python3"
  },
  "language_info": {
   "codemirror_mode": {
    "name": "ipython",
    "version": 3
   },
   "file_extension": ".py",
   "mimetype": "text/x-python",
   "name": "python",
   "nbconvert_exporter": "python",
   "pygments_lexer": "ipython3",
   "version": "3.8.9"
  },
  "orig_nbformat": 4,
  "vscode": {
   "interpreter": {
    "hash": "31f2aee4e71d21fbe5cf8b01ff0e069b9275f58929596ceb00d14d90e3e16cd6"
   }
  }
 },
 "nbformat": 4,
 "nbformat_minor": 2
}
