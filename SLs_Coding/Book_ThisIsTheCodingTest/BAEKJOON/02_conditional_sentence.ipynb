{
 "cells": [
  {
   "cell_type": "markdown",
   "metadata": {},
   "source": [
    "윤년 [문제 2753](https://www.acmicpc.net/problem/2753)\n",
    "- 문제풀이 - [영지공지](https://ooyoung.tistory.com/26)"
   ]
  },
  {
   "cell_type": "code",
   "execution_count": 3,
   "metadata": {},
   "outputs": [
    {
     "name": "stdout",
     "output_type": "stream",
     "text": [
      "0\n"
     ]
    }
   ],
   "source": [
    "year = int(input())\n",
    "\n",
    "if ((year % 4 == 0) and (year % 100 != 0)) or (year % 400 == 0):\n",
    "    print('1')\n",
    "else:\n",
    "    print('0')"
   ]
  },
  {
   "cell_type": "code",
   "execution_count": 4,
   "metadata": {},
   "outputs": [
    {
     "name": "stdout",
     "output_type": "stream",
     "text": [
      "0\n"
     ]
    }
   ],
   "source": [
    "year = int(input())\n",
    "\n",
    "print('1') if ((year % 4 == 0) and (year % 100 != 0)) or (year % 400 == 0) else print('0')"
   ]
  },
  {
   "cell_type": "markdown",
   "metadata": {},
   "source": [
    "사분면 고르기 [문제 14681](https://www.acmicpc.net/problem/14681)"
   ]
  },
  {
   "cell_type": "code",
   "execution_count": 8,
   "metadata": {},
   "outputs": [
    {
     "name": "stdout",
     "output_type": "stream",
     "text": [
      "1\n"
     ]
    }
   ],
   "source": [
    "x = int(input())\n",
    "y = int(input())\n",
    "\n",
    "if x > 0 and  y > 0:\n",
    "    print(\"1\")\n",
    "elif x < 0 and y > 0:\n",
    "    print(\"2\")\n",
    "elif x < 0 and y < 0:\n",
    "    print(\"3\")\n",
    "else:\n",
    "    print(\"4\")"
   ]
  },
  {
   "cell_type": "markdown",
   "metadata": {},
   "source": [
    "오븐 시계 [문제 2525](https://www.acmicpc.net/problem/2525)\n",
    "- 문제풀이 - []()"
   ]
  },
  {
   "cell_type": "code",
   "execution_count": 18,
   "metadata": {},
   "outputs": [
    {
     "name": "stdout",
     "output_type": "stream",
     "text": [
      "0 13\n"
     ]
    }
   ],
   "source": [
    "time = list(map(int, input().split()))\n",
    "schedule = int(input())\n",
    "\n",
    "hour = int(time[0])\n",
    "min = int(time[1]) + schedule\n",
    "\n",
    "if min >= 60:\n",
    "    if hour + 1 >= 24:\n",
    "        print(hour + 1 - 24, min - 60)\n",
    "    else:\n",
    "        print(hour + 1, min - 60)\n",
    "else:\n",
    "    print(hour, min)"
   ]
  },
  {
   "cell_type": "code",
   "execution_count": 21,
   "metadata": {},
   "outputs": [
    {
     "name": "stdout",
     "output_type": "stream",
     "text": [
      "19 0\n"
     ]
    }
   ],
   "source": [
    "h, m = map(int, input().split())\n",
    "timer = int(input())\n",
    "\n",
    "h += timer // 60\n",
    "m += timer % 60\n",
    "\n",
    "if m >= 60:\n",
    "    h += 1\n",
    "    m -= 60\n",
    "    if h >= 24:\n",
    "        h -= 24\n",
    "\n",
    "print(h, m) #print('%d %d' % (A,B))"
   ]
  },
  {
   "cell_type": "code",
   "execution_count": null,
   "metadata": {},
   "outputs": [],
   "source": []
  }
 ],
 "metadata": {
  "kernelspec": {
   "display_name": "Python 3.8.9 64-bit",
   "language": "python",
   "name": "python3"
  },
  "language_info": {
   "codemirror_mode": {
    "name": "ipython",
    "version": 3
   },
   "file_extension": ".py",
   "mimetype": "text/x-python",
   "name": "python",
   "nbconvert_exporter": "python",
   "pygments_lexer": "ipython3",
   "version": "3.8.9"
  },
  "orig_nbformat": 4,
  "vscode": {
   "interpreter": {
    "hash": "31f2aee4e71d21fbe5cf8b01ff0e069b9275f58929596ceb00d14d90e3e16cd6"
   }
  }
 },
 "nbformat": 4,
 "nbformat_minor": 2
}
