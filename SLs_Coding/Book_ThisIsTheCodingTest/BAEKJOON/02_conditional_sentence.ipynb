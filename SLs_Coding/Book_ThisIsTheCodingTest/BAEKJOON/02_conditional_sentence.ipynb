{
 "cells": [
  {
   "cell_type": "markdown",
   "metadata": {},
   "source": [
    "두 수 비하 [문제 1330](acmicpc.net/problem/1330)"
   ]
  },
  {
   "cell_type": "code",
   "execution_count": 1,
   "metadata": {},
   "outputs": [
    {
     "name": "stdout",
     "output_type": "stream",
     "text": [
      "1 3\n"
     ]
    }
   ],
   "source": [
    "a, b = map(int, input().split())\n",
    "\n",
    "if a > b:\n",
    "    print(\">\")\n",
    "elif a < b:\n",
    "    print(\"<\")\n",
    "else:\n",
    "    print(\"==\")"
   ]
  },
  {
   "cell_type": "markdown",
   "metadata": {},
   "source": [
    "시험 성적 [문제 9498](https://www.acmicpc.net/problem/9498)"
   ]
  },
  {
   "cell_type": "code",
   "execution_count": 3,
   "metadata": {},
   "outputs": [
    {
     "name": "stdout",
     "output_type": "stream",
     "text": [
      "B\n"
     ]
    }
   ],
   "source": [
    "result = int(input())\n",
    "\n",
    "if result >= 90:\n",
    "    print(\"A\")\n",
    "elif result >= 80:\n",
    "    print(\"B\")\n",
    "elif result >= 70:\n",
    "    print(\"C\")\n",
    "elif result >= 60:\n",
    "    print(\"D\")\n",
    "else:\n",
    "    print(\"F\")"
   ]
  },
  {
   "cell_type": "markdown",
   "metadata": {},
   "source": [
    "윤년 [문제 2753](https://www.acmicpc.net/problem/2753)\n",
    "- 문제풀이 - [영지공지](https://ooyoung.tistory.com/26)"
   ]
  },
  {
   "cell_type": "code",
   "execution_count": 3,
   "metadata": {},
   "outputs": [
    {
     "name": "stdout",
     "output_type": "stream",
     "text": [
      "0\n"
     ]
    }
   ],
   "source": [
    "year = int(input())\n",
    "\n",
    "if ((year % 4 == 0) and (year % 100 != 0)) or (year % 400 == 0):\n",
    "    print('1')\n",
    "else:\n",
    "    print('0')"
   ]
  },
  {
   "cell_type": "code",
   "execution_count": 4,
   "metadata": {},
   "outputs": [
    {
     "name": "stdout",
     "output_type": "stream",
     "text": [
      "0\n"
     ]
    }
   ],
   "source": [
    "year = int(input())\n",
    "\n",
    "print('1') if ((year % 4 == 0) and (year % 100 != 0)) or (year % 400 == 0) else print('0')"
   ]
  },
  {
   "cell_type": "markdown",
   "metadata": {},
   "source": [
    "사분면 고르기 [문제 14681](https://www.acmicpc.net/problem/14681)"
   ]
  },
  {
   "cell_type": "code",
   "execution_count": 8,
   "metadata": {},
   "outputs": [
    {
     "name": "stdout",
     "output_type": "stream",
     "text": [
      "1\n"
     ]
    }
   ],
   "source": [
    "x = int(input())\n",
    "y = int(input())\n",
    "\n",
    "if x > 0 and  y > 0:\n",
    "    print(\"1\")\n",
    "elif x < 0 and y > 0:\n",
    "    print(\"2\")\n",
    "elif x < 0 and y < 0:\n",
    "    print(\"3\")\n",
    "else:\n",
    "    print(\"4\")"
   ]
  },
  {
   "cell_type": "markdown",
   "metadata": {},
   "source": [
    "오븐 시계 [문제 2525](https://www.acmicpc.net/problem/2525)\n",
    "- 문제풀이 - []()"
   ]
  },
  {
   "cell_type": "code",
   "execution_count": 18,
   "metadata": {},
   "outputs": [
    {
     "name": "stdout",
     "output_type": "stream",
     "text": [
      "0 13\n"
     ]
    }
   ],
   "source": [
    "time = list(map(int, input().split()))\n",
    "schedule = int(input())\n",
    "\n",
    "hour = int(time[0])\n",
    "min = int(time[1]) + schedule\n",
    "\n",
    "if min >= 60:\n",
    "    if hour + 1 >= 24:\n",
    "        print(hour + 1 - 24, min - 60)\n",
    "    else:\n",
    "        print(hour + 1, min - 60)\n",
    "else:\n",
    "    print(hour, min)"
   ]
  },
  {
   "cell_type": "code",
   "execution_count": 21,
   "metadata": {},
   "outputs": [
    {
     "name": "stdout",
     "output_type": "stream",
     "text": [
      "19 0\n"
     ]
    }
   ],
   "source": [
    "h, m = map(int, input().split())\n",
    "timer = int(input())\n",
    "\n",
    "h += timer // 60\n",
    "m += timer % 60\n",
    "\n",
    "if m >= 60:\n",
    "    h += 1\n",
    "    m -= 60\n",
    "    if h >= 24:\n",
    "        h -= 24\n",
    "\n",
    "print(h, m) #print('%d %d' % (A,B))"
   ]
  },
  {
   "cell_type": "markdown",
   "metadata": {},
   "source": [
    "주사위 세 개 [문제 2480](https://www.acmicpc.net/problem/2480)\n",
    "- 재미난 다른 풀이 - [zero_woo](https://ywtechit.tistory.com/160)"
   ]
  },
  {
   "cell_type": "code",
   "execution_count": 28,
   "metadata": {},
   "outputs": [
    {
     "name": "stdout",
     "output_type": "stream",
     "text": [
      "600\n"
     ]
    }
   ],
   "source": [
    "a, b, c = map(int, input().split())\n",
    "\n",
    "if a==b==c:\n",
    "    print(10000 + a * 1000)\n",
    "elif a==b or a==c:\n",
    "    print(1000 + a * 100)\n",
    "elif b==c:\n",
    "    print(1000 + b * 100)\n",
    "else:\n",
    "    print(max(a, b, c) * 100)"
   ]
  },
  {
   "cell_type": "code",
   "execution_count": null,
   "metadata": {},
   "outputs": [],
   "source": [
    "arr = list(map(int, input().split()))\n",
    "temp = 0\n",
    " \n",
    "if len(set(arr)) == 1:   # 3개가 동일한 경우\n",
    "    print((10**4) + (arr[0] * 1000))\n",
    " \n",
    "elif len(set(arr)) == 3:    # 모두 다른 경우\n",
    "    print(max(arr) * 100)\n",
    " \n",
    "else:    # 2개가 동일한 경우\n",
    "    for i in range(3):\n",
    "        if arr.count(arr[i]) == 2:\n",
    "            temp = arr[arr.index(arr[i])]\n",
    "    print(1000 + (temp * 100))"
   ]
  }
 ],
 "metadata": {
  "kernelspec": {
   "display_name": "Python 3.8.9 64-bit",
   "language": "python",
   "name": "python3"
  },
  "language_info": {
   "codemirror_mode": {
    "name": "ipython",
    "version": 3
   },
   "file_extension": ".py",
   "mimetype": "text/x-python",
   "name": "python",
   "nbconvert_exporter": "python",
   "pygments_lexer": "ipython3",
   "version": "3.8.9"
  },
  "orig_nbformat": 4,
  "vscode": {
   "interpreter": {
    "hash": "31f2aee4e71d21fbe5cf8b01ff0e069b9275f58929596ceb00d14d90e3e16cd6"
   }
  }
 },
 "nbformat": 4,
 "nbformat_minor": 2
}
