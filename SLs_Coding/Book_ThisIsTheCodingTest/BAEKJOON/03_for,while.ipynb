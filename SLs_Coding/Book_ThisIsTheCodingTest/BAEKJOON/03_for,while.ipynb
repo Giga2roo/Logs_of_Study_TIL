{
 "cells": [
  {
   "cell_type": "markdown",
   "metadata": {},
   "source": [
    "구구단 [문제 2739](https://www.acmicpc.net/problem/2739)\n",
    "- 재미난 풀이 [백준 숏코딩 starandspace](https://www.acmicpc.net/source/14661716)"
   ]
  },
  {
   "cell_type": "code",
   "execution_count": 5,
   "metadata": {},
   "outputs": [
    {
     "name": "stdout",
     "output_type": "stream",
     "text": [
      "2 * 1 = 2\n",
      "2 * 2 = 4\n",
      "2 * 3 = 6\n",
      "2 * 4 = 8\n",
      "2 * 5 = 10\n",
      "2 * 6 = 12\n",
      "2 * 7 = 14\n",
      "2 * 8 = 16\n",
      "2 * 9 = 18\n"
     ]
    }
   ],
   "source": [
    "n = int(input())\n",
    "for j in range(1,10):\n",
    "    print(f'{n} * {j} = {n*j}')"
   ]
  },
  {
   "cell_type": "code",
   "execution_count": 8,
   "metadata": {},
   "outputs": [
    {
     "name": "stdout",
     "output_type": "stream",
     "text": [
      "2 * 1 = 2\n",
      "2 * 2 = 4\n",
      "2 * 3 = 6\n",
      "2 * 4 = 8\n",
      "2 * 5 = 10\n",
      "2 * 6 = 12\n",
      "2 * 7 = 14\n",
      "2 * 8 = 16\n",
      "2 * 9 = 18\n"
     ]
    }
   ],
   "source": [
    "i = int(input())\n",
    "j = 1\n",
    "exec(\"print(i,'*',j,'=',i*j);j+=1;\"*9)"
   ]
  },
  {
   "cell_type": "markdown",
   "metadata": {},
   "source": [
    "A + B - 3 [문제 10950](https://www.acmicpc.net/problem/10950)\n",
    "- 재미난 풀이 [백준 숏코딩 starandspace](https://www.acmicpc.net/source/14661716)"
   ]
  },
  {
   "cell_type": "code",
   "execution_count": 15,
   "metadata": {},
   "outputs": [
    {
     "name": "stdout",
     "output_type": "stream",
     "text": [
      "4\n",
      "6\n",
      "3\n"
     ]
    }
   ],
   "source": [
    "n = int(input())\n",
    "l = 0\n",
    "\n",
    "while n > l:\n",
    "    a, b = map(int, input().split())\n",
    "    l += 1\n",
    "    print(a+b)"
   ]
  },
  {
   "cell_type": "code",
   "execution_count": 13,
   "metadata": {},
   "outputs": [
    {
     "name": "stdout",
     "output_type": "stream",
     "text": [
      "3\n"
     ]
    },
    {
     "ename": "ValueError",
     "evalue": "not enough values to unpack (expected 2, got 1)",
     "output_type": "error",
     "traceback": [
      "\u001b[0;31m---------------------------------------------------------------------------\u001b[0m",
      "\u001b[0;31mValueError\u001b[0m                                Traceback (most recent call last)",
      "\u001b[1;32m/Users/giga2roo/Documents/GitHub/Logs_of_Study_TIL/SLs_Coding/Book_ThisIsTheCodingTest/BAEKJOON/03_for,while.ipynb Cell 6\u001b[0m in \u001b[0;36m<cell line: 3>\u001b[0;34m()\u001b[0m\n\u001b[1;32m      <a href='vscode-notebook-cell:/Users/giga2roo/Documents/GitHub/Logs_of_Study_TIL/SLs_Coding/Book_ThisIsTheCodingTest/BAEKJOON/03_for%2Cwhile.ipynb#X10sZmlsZQ%3D%3D?line=0'>1</a>\u001b[0m n \u001b[39m=\u001b[39m \u001b[39mint\u001b[39m(\u001b[39minput\u001b[39m())\n\u001b[1;32m      <a href='vscode-notebook-cell:/Users/giga2roo/Documents/GitHub/Logs_of_Study_TIL/SLs_Coding/Book_ThisIsTheCodingTest/BAEKJOON/03_for%2Cwhile.ipynb#X10sZmlsZQ%3D%3D?line=2'>3</a>\u001b[0m \u001b[39mfor\u001b[39;00m _ \u001b[39min\u001b[39;00m \u001b[39mrange\u001b[39m(n):\n\u001b[0;32m----> <a href='vscode-notebook-cell:/Users/giga2roo/Documents/GitHub/Logs_of_Study_TIL/SLs_Coding/Book_ThisIsTheCodingTest/BAEKJOON/03_for%2Cwhile.ipynb#X10sZmlsZQ%3D%3D?line=3'>4</a>\u001b[0m     a, b \u001b[39m=\u001b[39m \u001b[39mmap\u001b[39m(\u001b[39mint\u001b[39m, \u001b[39minput\u001b[39m()\u001b[39m.\u001b[39msplit())\n\u001b[1;32m      <a href='vscode-notebook-cell:/Users/giga2roo/Documents/GitHub/Logs_of_Study_TIL/SLs_Coding/Book_ThisIsTheCodingTest/BAEKJOON/03_for%2Cwhile.ipynb#X10sZmlsZQ%3D%3D?line=4'>5</a>\u001b[0m     \u001b[39mprint\u001b[39m(a \u001b[39m+\u001b[39m b)\n",
      "\u001b[0;31mValueError\u001b[0m: not enough values to unpack (expected 2, got 1)"
     ]
    }
   ],
   "source": [
    "n = int(input())\n",
    "\n",
    "for _ in range(n):\n",
    "    a, b = map(int, input().split())\n",
    "    print(a + b)"
   ]
  },
  {
   "cell_type": "markdown",
   "metadata": {},
   "source": [
    "합 [문제 8393](https://www.acmicpc.net/problem/8393)"
   ]
  },
  {
   "cell_type": "code",
   "execution_count": 3,
   "metadata": {},
   "outputs": [
    {
     "name": "stdout",
     "output_type": "stream",
     "text": [
      "5050\n"
     ]
    }
   ],
   "source": [
    "num = int(input())\n",
    "cal = 0\n",
    "\n",
    "for i in range(1, num +1):\n",
    "    cal += i\n",
    "\n",
    "print(cal)"
   ]
  },
  {
   "cell_type": "code",
   "execution_count": 8,
   "metadata": {},
   "outputs": [
    {
     "name": "stdout",
     "output_type": "stream",
     "text": [
      "5050\n"
     ]
    }
   ],
   "source": [
    "num = int(input())\n",
    "\n",
    "print(num*-~num//2)"
   ]
  },
  {
   "cell_type": "markdown",
   "metadata": {},
   "source": [
    "영수증 [문제 25304](https://www.acmicpc.net/problem/25304)\n",
    "- 요상한 풀이 from [숏코딩](https://www.acmicpc.net/short/status/25304/1003/1)"
   ]
  },
  {
   "cell_type": "code",
   "execution_count": 9,
   "metadata": {},
   "outputs": [
    {
     "name": "stdout",
     "output_type": "stream",
     "text": [
      "Yes\n"
     ]
    }
   ],
   "source": [
    "x = int(input())\n",
    "num_items = int(input())\n",
    "sum = 0\n",
    "\n",
    "for _ in range(0, num_items):\n",
    "    price, piece = map(int, input().split())\n",
    "    sum += price * piece\n",
    "\n",
    "if x == sum:\n",
    "    print(\"Yes\")\n",
    "else:\n",
    "    print(\"No\")"
   ]
  },
  {
   "cell_type": "code",
   "execution_count": 13,
   "metadata": {},
   "outputs": [],
   "source": [
    "import sys, io\n",
    "file = open(\"input_25304.txt\", 'w')\n",
    "data = \"\"\"260000\n",
    "4\n",
    "20000 5\n",
    "30000 2\n",
    "10000 6\n",
    "5000 8\n",
    "\"\"\"\n",
    "file.write(data)\n",
    "file.close()\n",
    "input_file = open(\"input_25304.txt\", \"r\")\n",
    "sys.stdin = io.StringIO(input_file.read())"
   ]
  },
  {
   "cell_type": "code",
   "execution_count": 14,
   "metadata": {},
   "outputs": [
    {
     "name": "stdout",
     "output_type": "stream",
     "text": [
      "Yes\n"
     ]
    }
   ],
   "source": [
    "import sys\n",
    "input = sys.stdin.readline\n",
    "\n",
    "x = int(input())\n",
    "for _ in range(int(input())):\n",
    "    a,b = map(int, input().split())\n",
    "    x -= a*b\n",
    "\n",
    "print(\"No\" if x else \"Yes\")    "
   ]
  },
  {
   "cell_type": "code",
   "execution_count": 2,
   "metadata": {},
   "outputs": [
    {
     "ename": "",
     "evalue": "",
     "output_type": "error",
     "traceback": [
      "\u001b[1;31m현재 셀 또는 이전 셀에서 코드를 실행하는 동안 Kernel이 충돌했습니다. 셀의 코드를 검토하여 오류의 가능한 원인을 식별하세요. 자세한 내용을 보려면 <a href='https://aka.ms/vscodeJupyterKernelCrash'> 여기 </a> 를 클릭하세요. 자세한 내용은 Jupyter <a href='command:jupyter.viewOutput'>로그</a>를 참조하세요."
     ]
    },
    {
     "ename": "",
     "evalue": "",
     "output_type": "error",
     "traceback": [
      "\u001b[1;31mCanceled future for execute_request message before replies were done"
     ]
    }
   ],
   "source": [
    "X,N,*A=open(0)\n",
    "print(\"YNeos\"[int(X)!=sum(eval(i.replace(*' *'))for i in A)::2])"
   ]
  },
  {
   "cell_type": "markdown",
   "metadata": {},
   "source": [
    "빠른 A + B [문제 15552번](https://www.acmicpc.net/problem/15552)\n",
    "- 풀이 [영지공지](https://ooyoung.tistory.com/34)"
   ]
  },
  {
   "cell_type": "code",
   "execution_count": 16,
   "metadata": {},
   "outputs": [],
   "source": [
    "import sys, io\n",
    "file = open(\"input_15552.txt\", 'w')\n",
    "data = \"\"\"5\n",
    "1 1\n",
    "12 34\n",
    "5 500\n",
    "40 60\n",
    "1000 1000\n",
    "\"\"\"\n",
    "file.write(data)\n",
    "file.close()\n",
    "input_file = open(\"input_15552.txt\", \"r\")\n",
    "sys.stdin = io.StringIO(input_file.read())"
   ]
  },
  {
   "cell_type": "code",
   "execution_count": 17,
   "metadata": {},
   "outputs": [
    {
     "name": "stdout",
     "output_type": "stream",
     "text": [
      "2\n",
      "46\n",
      "505\n",
      "100\n",
      "2000\n"
     ]
    }
   ],
   "source": [
    "import sys\n",
    "num_lines = int(sys.stdin.readline())\n",
    "\n",
    "for _ in range(num_lines):\n",
    "    a, b = map(int, sys.stdin.readline().split())\n",
    "    print(a + b)"
   ]
  },
  {
   "cell_type": "code",
   "execution_count": null,
   "metadata": {},
   "outputs": [],
   "source": []
  }
 ],
 "metadata": {
  "kernelspec": {
   "display_name": "Python 3.8.9 64-bit",
   "language": "python",
   "name": "python3"
  },
  "language_info": {
   "codemirror_mode": {
    "name": "ipython",
    "version": 3
   },
   "file_extension": ".py",
   "mimetype": "text/x-python",
   "name": "python",
   "nbconvert_exporter": "python",
   "pygments_lexer": "ipython3",
   "version": "3.8.9"
  },
  "orig_nbformat": 4,
  "vscode": {
   "interpreter": {
    "hash": "31f2aee4e71d21fbe5cf8b01ff0e069b9275f58929596ceb00d14d90e3e16cd6"
   }
  }
 },
 "nbformat": 4,
 "nbformat_minor": 2
}
