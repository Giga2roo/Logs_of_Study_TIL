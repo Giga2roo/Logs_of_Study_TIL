{
 "cells": [
  {
   "attachments": {},
   "cell_type": "markdown",
   "metadata": {},
   "source": [
    "# 코딩테스트 #3 문제풀이 by 김준태"
   ]
  },
  {
   "attachments": {},
   "cell_type": "markdown",
   "metadata": {},
   "source": [
    "- [문제풀이](https://mango-tower-9f1.notion.site/FastCampus-54edcb8e0886423baf5848d1276c15ca#e976076f36334e7098aa50f6bb5ab35d)"
   ]
  },
  {
   "attachments": {},
   "cell_type": "markdown",
   "metadata": {},
   "source": [
    "### Introduction"
   ]
  },
  {
   "attachments": {},
   "cell_type": "markdown",
   "metadata": {},
   "source": [
    "- 시간복잡도, $O(n)$\n",
    "    + 1억을 기준으로 판단\n",
    "- 코드 작성\n",
    "    + 코딩테스트와 협업을 중점으로 둘 경우, 중요한 것 `가독성`, `재사용 가능성`, `클린 코드`\n",
    "    + `Solution` 함수에 작성하되, `class` 형태로 작성하는 것을 추천"
   ]
  },
  {
   "cell_type": "code",
   "execution_count": null,
   "metadata": {},
   "outputs": [],
   "source": [
    "class MoleCatcher():\n",
    "    def __init__(self, n):\n",
    "        self.combs = []         # 얀속 굴 조합\n",
    "    "
   ]
  },
  {
   "attachments": {},
   "cell_type": "markdown",
   "metadata": {},
   "source": [
    "### 1_풀하우스 점수 계산\n",
    "- 문제\n",
    "    + 특정한 순서대로 주어지는 트럼프 카드를 모아 최대한 많은 수의 풀하우스를 만들려고 함\n",
    "    + 풀하우스: 같은 숫자 3장, 다른 같은 숫자 2장\n",
    "\n",
    "- 제한사항\n",
    "    + 1 $seq$"
   ]
  },
  {
   "cell_type": "code",
   "execution_count": 2,
   "metadata": {},
   "outputs": [],
   "source": [
    "class Poker():\n",
    "    def __init__(self):\n",
    "        self.hand = [0] * 14\n",
    "        self.score = 0\n",
    "        self.count = 0\n",
    "        \n",
    "    def draw(self, card):\n",
    "        self.hand[card] += 1\n",
    "        self.count += 1\n",
    "        \n",
    "    def discard(self):\n",
    "        self.hand = [0] * 14\n",
    "        self.score += 1\n",
    "        self.count = 0\n",
    "        \n",
    "    def check_fh(self):\n",
    "        joker = self.hand[0]\n",
    "        cards = self.hand[1:]\n",
    "        pair = cards.count(2)\n",
    "        # 똑 같은 카드가 홀수개일 \n",
    "        triple = filter(lambda x: x >= 3, cards)\n",
    "        if (joker + pair >= 3) and not (joker == 0):\n",
    "            return True\n",
    "        if (joker + pair >= 1) and list(triple):\n",
    "            return True\n",
    "        \n",
    "    def solution(cards):\n",
    "        gamer = Poker()\n",
    "        for card in cards:\n",
    "            gamer.draw(card)\n",
    "            if gamer.count < 5:\n",
    "                continue\n",
    "            elif gamer.check_fh():\n",
    "                gamer.discard()\n",
    "        return gamer.score"
   ]
  },
  {
   "cell_type": "code",
   "execution_count": 14,
   "metadata": {},
   "outputs": [
    {
     "name": "stdout",
     "output_type": "stream",
     "text": [
      "2\n"
     ]
    }
   ],
   "source": [
    "print(Poker.solution([1, 1, 2, 3, 3, 4, 5, 5, 6, 6, 6, 7, 7, 7, 0, 0, 0]))"
   ]
  },
  {
   "attachments": {},
   "cell_type": "markdown",
   "metadata": {},
   "source": [
    "### 2_학생수와 그룹 (connected component)"
   ]
  },
  {
   "attachments": {},
   "cell_type": "markdown",
   "metadata": {},
   "source": [
    "- 풀이 구조\n",
    "    + t1, t2 간의 쌍을 만든다\n",
    "    + 쌍을 토대로 그래프를 만든다\n",
    "    + 하나의 노드에서 연결된 노드에 방문 $\\rightarrow$ 다시 그 노드에서 연결된 곳 찾아 방문 $\\rightarrow$ 방문할 수 있는 모든 노드에 방문했으면 하나의 리스트(컴포넌트)로 구성\n",
    "    "
   ]
  },
  {
   "cell_type": "code",
   "execution_count": 17,
   "metadata": {},
   "outputs": [],
   "source": [
    "from collections import defaultdict\n",
    "\n",
    "class Component():\n",
    "    def __init__(self, t1, t2):\n",
    "        self.visited = set()\n",
    "        self.edges = [[t1[i], t2[i]] for i in range(len(t1))]\n",
    "        self.graph = []\n",
    "        self.components = []\n",
    "        \n",
    "    def make_graph(self):\n",
    "        graph = defaultdict(set)        # 기본적으로 해당 밸류에 대해 key가 설정되어 있지 않더라도 appenspd가 가능함\n",
    "        for u, v in self.edges:\n",
    "            graph[u].add(v)\n",
    "            graph[v].add(u)\n",
    "        self.graph = graph      # 딕셔너리를 활용해서 우선 그래프를 생성\n",
    "        \n",
    "    def dfs_component(self, node):      # 노드에서 연결된 노드를 찾고, 그 연결된 노드에서 다시 연결된 노드로 가는 방식\n",
    "        nodes = set([node])\n",
    "        connected_node = []     # 첫번째 노드로부터 연결된 노드들은 모두 여기에 추가\n",
    "        while nodes:\n",
    "            node = nodes.pop()\n",
    "            self.visited.add(node)\n",
    "            connected_node.append(node)\n",
    "            nodes |= self.graph[node] - self.visited\n",
    "        return connected_node\n",
    "    \n",
    "    def get_connected_components(self):\n",
    "        for node in self.graph:\n",
    "            if node not in self.visited:\n",
    "                component = self.dfs_component(node)\n",
    "                self.components.append(self.dfs_component(node))\n",
    "        return self.components"
   ]
  },
  {
   "cell_type": "code",
   "execution_count": 19,
   "metadata": {},
   "outputs": [
    {
     "name": "stdout",
     "output_type": "stream",
     "text": [
      "[[9], [4]]\n"
     ]
    }
   ],
   "source": [
    "case = Component([9, 4, 4, 4, 7, 4, 3], [2, 10, 7, 6, 3, 3, 4])\n",
    "case.make_graph()\n",
    "components = case.get_connected_components()\n",
    "print(components)"
   ]
  },
  {
   "attachments": {},
   "cell_type": "markdown",
   "metadata": {},
   "source": [
    "### 3_두더지 잡기"
   ]
  },
  {
   "cell_type": "code",
   "execution_count": null,
   "metadata": {},
   "outputs": [],
   "source": [
    "class MoleCatcher():\n",
    "    def __init__(self, n):\n",
    "        self.combs = []\n",
    "        self.results = []\n",
    "        self.actions = {}\n",
    "        self.size = n\n",
    "        \n",
    "    def get_combs(self, m):\n",
    "        temp = [*range(1, self.size+1)]*2\n",
    "        for i in range(self.size):\n",
    "            self.combs.append(temp[i:i+m])\n",
    "            \n",
    "    def pivot_actions(self, moles):\n",
    "        moles.sort(key = lambda x: x[2], reverse=True)\n",
    "        for mole in moles:\n",
    "            if mole[0] not in self.actions:\n",
    "                self.actions[mole[0]] = []\n",
    "            self.actions[mole[0]].append(mole[1], )"
   ]
  }
 ],
 "metadata": {
  "kernelspec": {
   "display_name": "Python 3",
   "language": "python",
   "name": "python3"
  },
  "language_info": {
   "codemirror_mode": {
    "name": "ipython",
    "version": 3
   },
   "file_extension": ".py",
   "mimetype": "text/x-python",
   "name": "python",
   "nbconvert_exporter": "python",
   "pygments_lexer": "ipython3",
   "version": "3.8.9 (default, Apr 13 2022, 08:48:06) \n[Clang 13.1.6 (clang-1316.0.21.2.5)]"
  },
  "orig_nbformat": 4,
  "vscode": {
   "interpreter": {
    "hash": "31f2aee4e71d21fbe5cf8b01ff0e069b9275f58929596ceb00d14d90e3e16cd6"
   }
  }
 },
 "nbformat": 4,
 "nbformat_minor": 2
}
