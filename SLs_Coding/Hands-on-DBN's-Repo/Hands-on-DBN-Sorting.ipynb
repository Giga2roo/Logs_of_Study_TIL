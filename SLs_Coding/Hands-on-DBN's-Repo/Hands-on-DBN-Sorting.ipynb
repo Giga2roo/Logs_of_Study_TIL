{
 "cells": [
  {
   "cell_type": "code",
   "execution_count": 3,
   "metadata": {},
   "outputs": [
    {
     "name": "stdout",
     "output_type": "stream",
     "text": [
      "[2, 4, 5, 7, 8]\n"
     ]
    }
   ],
   "source": [
    "n = 5\n",
    "data = [8, 5, 4, 7, 2]\n",
    "data_sorted =[]\n",
    "\n",
    "'''Quick Sort'''\n",
    "def quick_sort(start, end):\n",
    "    if start >= end: # if the subarray size is 1, exit the function\n",
    "        return\n",
    "    pivot = start # The pivot is the first element of the subarray.\n",
    "    left = start + 1\n",
    "    right = end\n",
    "    while left <= right:\n",
    "        # Until finding an element bigger than the pivot,\n",
    "        while left <= end and data[left] <= data[pivot]:\n",
    "            left += 1\n",
    "        # Until finding an element smaller than the pivot,\n",
    "        while right > start and data[right] >= data[pivot]:\n",
    "            right -= 1\n",
    "        if left > right: # If two elements miss each other,\n",
    "            data[right], data[pivot] = data[pivot], data[right]\n",
    "        else: #If tow elements don't miss each other,\n",
    "            data[left], data[right] = data[right], data[left]\n",
    "    # Sort the left part and right part respectively.\n",
    "    quick_sort(start, right -1)\n",
    "    quick_sort(right + 1, end)\n",
    "    \n",
    "quick_sort(0, n - 1)\n",
    "\n",
    "for x in data:\n",
    "    data_sorted.append(x)\n",
    "    \n",
    "print(data_sorted)"
   ]
  },
  {
   "cell_type": "code",
   "execution_count": null,
   "metadata": {},
   "outputs": [],
   "source": []
  }
 ],
 "metadata": {
  "kernelspec": {
   "display_name": "Python 3.8.9 64-bit",
   "language": "python",
   "name": "python3"
  },
  "language_info": {
   "codemirror_mode": {
    "name": "ipython",
    "version": 3
   },
   "file_extension": ".py",
   "mimetype": "text/x-python",
   "name": "python",
   "nbconvert_exporter": "python",
   "pygments_lexer": "ipython3",
   "version": "3.8.9"
  },
  "orig_nbformat": 4,
  "vscode": {
   "interpreter": {
    "hash": "31f2aee4e71d21fbe5cf8b01ff0e069b9275f58929596ceb00d14d90e3e16cd6"
   }
  }
 },
 "nbformat": 4,
 "nbformat_minor": 2
}
