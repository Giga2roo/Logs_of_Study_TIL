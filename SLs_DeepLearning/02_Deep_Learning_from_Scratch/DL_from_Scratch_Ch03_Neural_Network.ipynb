{
 "cells": [
  {
   "cell_type": "markdown",
   "metadata": {},
   "source": [
    "# Chapter 3. 신경망"
   ]
  },
  {
   "cell_type": "markdown",
   "metadata": {},
   "source": [
    "### 3.1 퍼셉트론에서 신경망으로\n",
    "- 신경망 vs. 퍼셉트론"
   ]
  },
  {
   "cell_type": "markdown",
   "metadata": {},
   "source": [
    "#### 3.1.1 신경망의 예\n",
    "- 구성: 입력층(Input layer) - 은닉층(Hidden layer) - 출력층(Output layer)\n",
    "- `은닉층`의 뉴런은 사람 눈에 보이지 않음\n",
    "- `가중치`를 가지는 층은 0층(입력층), 1층(은닉층) $rightarrow$ `2층 신경망`이라 부를 수 있음 (문헌에 따라 다를 수 있음)"
   ]
  },
  {
   "cell_type": "markdown",
   "metadata": {},
   "source": [
    "#### 3.1.2 퍼셉트론 복습\n",
    "- ${x_1, x_2}$: 입력 신호\n",
    "- ${y}$: 출력 신호\n",
    "- $b$: `편향`을 나타내는 매개변수, 뉴런이 얼마나 쉽게 활성화되느냐를 제어 \n",
    "- ${w_1, w_2}$: 가중치(weight), 각 신호의 영향력을 제어\n",
    "- 뉴런에서 보내온 신호의 총합이 정해진 한계(${\\theta}$,Threshold, 임계값)을 넘어설 때만 1을 출력\n",
    "\n",
    "$${y =\\begin{cases}0 \\ (b \\ + \\ w_1x_1 \\ + \\ w_2x_2 \\ \\leq \\ \\theta) \\\\ 1 \\ (b \\ + \\ w_1x_1 \\ + \\ w_2x_2 \\ > \\ \\theta )\\end{cases}}$$"
   ]
  },
  {
   "cell_type": "markdown",
   "metadata": {},
   "source": [
    "- 위 식을 더 간결하게 바꿔보자\n",
    "- 조건 분기의 동작(0을 넘으면 1을 출력하고 그렇지 않으면 0을 출력)\n",
    "- 이 함수를 $h(x)$라면 위 식을 아래와 같이 표현할 수 있음\n",
    "\n",
    "$$y = h(b + w_1x_1 + w_2x_2)$$\n",
    "- 입력 신호의 총합이 $h(x)$라는 함수를 거쳐 변환, 그 변환된 값이 $y$의 출력이 됨을 표현\n",
    "</br></br>\n",
    "$${h(x) =\\begin{cases}0 \\ (x \\ \\leq \\ 0) \\\\ 1 \\ (x \\ > \\ 0)\\end{cases}}$$\n",
    "- $h(x)$ 함수는 입력이 0을 넘으면 1을 돌려주고, 그렇지 않으면 0을 돌려줌"
   ]
  },
  {
   "cell_type": "markdown",
   "metadata": {},
   "source": [
    "#### 3.1.3 활성화 함수의 등장\n",
    "- $h(x)$: 입력 신호의 총합을 출력 신호로 변환하는 함수 `활성화 함수(Activate function)`\n",
    "- 수식 표현\n",
    "$$a = b + w_1x_1 + w_2x_2$$ \n",
    "$$ y = h(a)$$"
   ]
  },
  {
   "cell_type": "markdown",
   "metadata": {},
   "source": [
    "- 가중치가 달린 입력 신호와 편향의 총합을 계산하여 이를 $a$라고 함\n",
    "- a를 함수에 $h()$에 넣어 $y$를 출력₩"
   ]
  },
  {
   "cell_type": "markdown",
   "metadata": {},
   "source": [
    "### 3.2 활성화 함수\n",
    "- 계단 함수(step function): 임계값을 경계로 출력이 바뀌는 활성화 함수(activate function)\n",
    "    + `perceptron`에서는 활성화 함수로 `계단 함수`를 이용한다고 할 수 있음.\n",
    "    <br/><br/>\n",
    "- `활성화 함수`를 계단 함수에서 다른 함수로 변경하는 것이 신경망의 세계로 나아가는 열쇠!"
   ]
  },
  {
   "cell_type": "markdown",
   "metadata": {},
   "source": [
    "#### 3.2.1 Sigmoid 함수\n",
    "$$ h(x) = \\frac{1}{1 + exp(-x)}$$\n",
    "- $exp(x)$는 $e^{-x}$를 뜻함 ($e$는 자연상수로 2.7182...의 값을 가지는 실수)\n",
    "- 신경망에서는 활성화 함수로 시그모이드 함수를 이용해 `신호를 변환` $rightarrow$ 변환된 신호를 다음 뉴런에 전달"
   ]
  },
  {
   "cell_type": "markdown",
   "metadata": {},
   "source": [
    "#### 3.2.2 계단 함수 구현하기\n",
    "- 계딴 함수는 입력이 0을 넘으면 1을 출력하고, 그 외에는 0을 출력하는 함수"
   ]
  },
  {
   "cell_type": "code",
   "execution_count": 27,
   "metadata": {},
   "outputs": [],
   "source": [
    "def step_function(x):\n",
    "    if x > 0:\n",
    "        return 1\n",
    "    else:\n",
    "        return 0"
   ]
  },
  {
   "cell_type": "markdown",
   "metadata": {},
   "source": [
    "- 인수 $x$는 실수(부동소수점)만 받아들임\n",
    "- `numpy 배열을 지원`하도록 구현해보자"
   ]
  },
  {
   "cell_type": "code",
   "execution_count": 28,
   "metadata": {},
   "outputs": [],
   "source": [
    "import numpy as np\n",
    "\n",
    "def step_function(x):\n",
    "    y = x > 0\n",
    "    return y.astype(np.int)"
   ]
  },
  {
   "cell_type": "code",
   "execution_count": 29,
   "metadata": {},
   "outputs": [
    {
     "name": "stdout",
     "output_type": "stream",
     "text": [
      "[False  True  True]\n",
      "[0 1 1]\n"
     ]
    }
   ],
   "source": [
    "import numpy as np\n",
    "\n",
    "x = np.array([-1.0, 1.0, 2.0])\n",
    "x\n",
    "y = x > 0 # Numpy 배열에 부등호 연산을 수행 -> 원소 각각에 부등호 연산을 수행한 bool 배열이 생성 -> astype\n",
    "print(y)\n",
    "y = y.astype(np.int32) # Numpy 자료형 변환 = 'astype()' 메서드\n",
    "print(y)"
   ]
  },
  {
   "cell_type": "markdown",
   "metadata": {},
   "source": [
    "#### 3.2.3 계단 함수의 그래프"
   ]
  },
  {
   "cell_type": "code",
   "execution_count": 35,
   "metadata": {},
   "outputs": [
    {
     "data": {
      "image/png": "[encoded data removed]",
      "text/plain": [
       "<Figure size 576x396 with 1 Axes>"
      ]
     },
     "metadata": {},
     "output_type": "display_data"
    }
   ],
   "source": [
    "import numpy as np\n",
    "import matplotlib.pylab as plt\n",
    "\n",
    "def step_function(x):\n",
    "    return np.array(x > 0, dtype=np.int32)\n",
    "\n",
    "x = np.arange(-5.0, 5.0, 0.1)\n",
    "y = step_function(x)\n",
    "plt.plot(x, y)\n",
    "plt.ylim(-0.1, 1.1) # y축 범위 지정\n",
    "plt.style.use(\"seaborn\")\n",
    "plt.title(\"Plot of Step function\")\n",
    "plt.show()"
   ]
  },
  {
   "cell_type": "markdown",
   "metadata": {},
   "source": [
    "#### 3.2.4 Sigmoid function implementation"
   ]
  },
  {
   "cell_type": "markdown",
   "metadata": {},
   "source": [
    "- Sigmoid의 뜻: `S자 모양`"
   ]
  },
  {
   "cell_type": "code",
   "execution_count": 31,
   "metadata": {},
   "outputs": [],
   "source": [
    "def sigmoid(x):\n",
    "    return 1 / (1 + np.exp(-x))"
   ]
  },
  {
   "cell_type": "code",
   "execution_count": 32,
   "metadata": {},
   "outputs": [
    {
     "data": {
      "text/plain": [
       "array([0.26894142, 0.73105858, 0.88079708])"
      ]
     },
     "execution_count": 32,
     "metadata": {},
     "output_type": "execute_result"
    }
   ],
   "source": [
    "x = np.array([-1.0, 1.0, 2.0])\n",
    "sigmoid(x)"
   ]
  },
  {
   "cell_type": "code",
   "execution_count": 33,
   "metadata": {},
   "outputs": [
    {
     "data": {
      "image/png": "[encoded data removed]",
      "text/plain": [
       "<Figure size 576x396 with 1 Axes>"
      ]
     },
     "metadata": {},
     "output_type": "display_data"
    }
   ],
   "source": [
    "x = np.arange(-5.0, 5.0, 0.1)\n",
    "y = sigmoid(x)\n",
    "plt.plot(x, y)\n",
    "plt.ylim(-0.1, 1.1)\n",
    "plt.style.use(\"seaborn\")\n",
    "plt.title(\"Plot of Sigmoid fuction\")\n",
    "plt.show()"
   ]
  },
  {
   "cell_type": "markdown",
   "metadata": {},
   "source": [
    "#### 3.2.5 Sigmoid function vs. Step function\n",
    "||Sigmoid function|Step function|Remark|\n",
    "|:----:|:----:|:----:|:----:|\n",
    "|형태|부드러운 곡선|0을 경계로 급진적 변화||\n",
    "|Output|실수|0 or 1|NN. vs. Perceptron|\n",
    "|출력 범위|[0, 1]|[0, 1]||\n",
    "- 공통점: 입력이 중요하면 큰 값을 출력, 입력이 중요하지 않으면 작은 값을 출력"
   ]
  },
  {
   "cell_type": "code",
   "execution_count": 34,
   "metadata": {},
   "outputs": [
    {
     "data": {
      "image/png": "[encoded data removed]",
      "text/plain": [
       "<Figure size 576x396 with 1 Axes>"
      ]
     },
     "metadata": {},
     "output_type": "display_data"
    }
   ],
   "source": [
    "x = np.arange(-5.0, 5.0, 0.1)\n",
    "y1 = sigmoid(x)\n",
    "y2 = step_function(x)\n",
    "plt.plot(x, y1)\n",
    "plt.plot(x, y2, ls=\":\")\n",
    "plt.ylim(-0.1, 1.1)\n",
    "plt.style.use(\"seaborn\")\n",
    "plt.title(\"Plot of Sigmoid fuction\")\n",
    "plt.show()"
   ]
  },
  {
   "cell_type": "markdown",
   "metadata": {},
   "source": [
    "#### 3.2.6 비선형 함수\n",
    "- 계단 함수, 시그모이드 함수 모두 `비선형 함수`(= 직선이 아니다)\n",
    "- 신경망 층을 쌓아 효과를 얻기 위해서는 반드시 `비선형 함수`를 활성화 함수로 사용해야 함!"
   ]
  },
  {
   "cell_type": "markdown",
   "metadata": {},
   "source": [
    "#### 3.2.7 ReLU function\n",
    "- Rectified Linear Unit(ReLU)function: 0을 넘으면 입력값을 그대로 출력, 0 이하이면 0을 출력\n",
    "\n",
    "$$h(x) = \\begin{cases} x \\ ( x \\ > \\ 0 ) \\\\ 0 \\ ( x \\ \\leq \\ 0)\\end{cases}$$\n"
   ]
  },
  {
   "cell_type": "code",
   "execution_count": 46,
   "metadata": {},
   "outputs": [
    {
     "data": {
      "image/png": "[encoded data removed]",
      "text/plain": [
       "<Figure size 576x396 with 1 Axes>"
      ]
     },
     "metadata": {},
     "output_type": "display_data"
    }
   ],
   "source": [
    "def relu(x):\n",
    "    return np.maximum(0, x)\n",
    "\n",
    "y3 = relu(x)\n",
    "plt.plot(x, y1, label=\"Step\")\n",
    "plt.plot(x, y2, ls=\":\", label=\"Sigmoid\")\n",
    "plt.plot(x, y3, ls=\"-.\", label=\"ReLU\")\n",
    "plt.xlim(-6., 6.)\n",
    "plt.ylim(-1.1, 5.1)\n",
    "plt.style.use(\"seaborn\")\n",
    "plt.title(\"Plots of Activation functions\")\n",
    "plt.legend(loc=\"lower right\")\n",
    "plt.show()"
   ]
  },
  {
   "cell_type": "markdown",
   "metadata": {},
   "source": [
    "### 3.3 다차원 배열의 계산\n",
    "- Numpy의 다차원 배열을 사용한 계산법 숙달 $rightarrow$ 신경망의 효율적 구현 가능"
   ]
  },
  {
   "cell_type": "markdown",
   "metadata": {},
   "source": [
    "#### 3.3.1 다차원 배열\n",
    "- 다차원 배열의 기본 `숫자의 집합`\n",
    "\n",
    "- 1차원 배열 샘플"
   ]
  },
  {
   "cell_type": "code",
   "execution_count": 2,
   "metadata": {},
   "outputs": [
    {
     "name": "stdout",
     "output_type": "stream",
     "text": [
      "[1 2 3 4]\n",
      "1\n"
     ]
    },
    {
     "data": {
      "text/plain": [
       "4"
      ]
     },
     "execution_count": 2,
     "metadata": {},
     "output_type": "execute_result"
    }
   ],
   "source": [
    "import numpy as np\n",
    "A = np.array([1, 2, 3, 4])\n",
    "np.ndim(A)\n",
    "\n",
    "\n",
    "print(A)\n",
    "print(np.ndim(A))\n",
    "A.shape\n",
    "A.shape[0]"
   ]
  }
 ],
 "metadata": {
  "kernelspec": {
   "display_name": "Python 3.8.9 64-bit",
   "language": "python",
   "name": "python3"
  },
  "language_info": {
   "codemirror_mode": {
    "name": "ipython",
    "version": 3
   },
   "file_extension": ".py",
   "mimetype": "text/x-python",
   "name": "python",
   "nbconvert_exporter": "python",
   "pygments_lexer": "ipython3",
   "version": "3.8.9"
  },
  "orig_nbformat": 4,
  "vscode": {
   "interpreter": {
    "hash": "31f2aee4e71d21fbe5cf8b01ff0e069b9275f58929596ceb00d14d90e3e16cd6"
   }
  }
 },
 "nbformat": 4,
 "nbformat_minor": 2
}
