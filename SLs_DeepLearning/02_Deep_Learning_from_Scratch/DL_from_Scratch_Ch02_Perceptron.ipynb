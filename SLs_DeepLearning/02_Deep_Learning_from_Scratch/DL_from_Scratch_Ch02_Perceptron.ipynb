{
 "cells": [
  {
   "cell_type": "markdown",
   "metadata": {},
   "source": [
    "# Chapter2. Perceptron\n",
    "\n",
    "- Frank Rosenblatt가 1957년에 고안\n",
    "- 신경망(Deep learning)의 기원이 되는 Algorithm"
   ]
  },
  {
   "cell_type": "markdown",
   "metadata": {},
   "source": [
    "### 2.1 Definition of Perceptron"
   ]
  },
  {
   "cell_type": "markdown",
   "metadata": {},
   "source": [
    "- 다수의 신호를 입력으로 받아 하나의 신호를 출력\n",
    "    \n",
    "    + '신호': 전류나 강물처럼 <span style='color:#2D3748;background-color: #fff5b1;font-weight:700'>흐름</span>이 있는 것\n",
    "<br>\n",
    "<br>\n",
    "- Perceptron 신호가 흐름 = 1, 신호가 흐르지 않음 = 0\n",
    "\n",
    "![입력이 2개인 Perceptron](./dataset/ch02_01_Perceptron.jpeg)\n",
    "\n",
    "- ${x_1, x_2}$: 입력 신호\n",
    "- ${y}$: 출력 신호\n",
    "- ${w_1, w_2}$: 가중치(weight)\n",
    "\n",
    "- 뉴런에서 보내온 신호의 총합이 정해진 한계(${\\theta}$,Threshold, 임계값)을 넘어설 때만 1을 출력\n",
    "\n",
    "$${y =\\begin{cases}0 \\ (w_1x_1 \\ + \\ w_2x_2 \\ \\leq \\ \\theta) \\\\ 1 \\ (w_1x_1 \\ + \\ w_2x_2 \\ > \\ \\theta )\\end{cases}}$$"
   ]
  },
  {
   "cell_type": "markdown",
   "metadata": {},
   "source": [
    "### 2.2 단순한 논리 회로"
   ]
  },
  {
   "cell_type": "markdown",
   "metadata": {},
   "source": [
    "> #### AND 게이트\n",
    "- AND 게이트 진리표대로 작동하는 ${(w_1,\\ w_2,\\ \\theta)}$ 값 예: (0.5, 9.5, 0.7) \n",
    "> #### NAND 게이트 & OR 게이트\n",
    "- NAND = Not AND = AND 게이트 출력을 뒤집은 값 = AND 게이트 가중치와 $\\theta$ 값의 **부호 반전**으로 적용 가능"
   ]
  },
  {
   "cell_type": "markdown",
   "metadata": {},
   "source": [
    "### 2.3 퍼센트론 구현하기"
   ]
  },
  {
   "cell_type": "markdown",
   "metadata": {},
   "source": [
    "> #### 간단한 구현\n",
    "```python\n",
    "def AND(x1, x2):\n",
    "    w1, w2, theta = 0.5, 0.5, 0.7\n",
    "    tmp = x1*w1 + x2*w2\n",
    "    if tmp <= theta:\n",
    "        return 0\n",
    "    elif tmp > theta:\n",
    "        return 1\n",
    "```\n",
    "\n",
    "- 매개 변수 "
   ]
  },
  {
   "cell_type": "code",
   "execution_count": 18,
   "metadata": {},
   "outputs": [
    {
     "name": "stdout",
     "output_type": "stream",
     "text": [
      "AND( 0 , 0 ):  0\n",
      "AND( 0 , 1 ):  0\n",
      "AND( 1 , 0 ):  0\n",
      "AND( 1 , 1 ):  1\n"
     ]
    }
   ],
   "source": [
    "def AND(x1, x2):\n",
    "    w1, w2, theta = 0.5, 0.5, 0.7\n",
    "    tmp = x1*w1 + x2*w2\n",
    "    if tmp <= theta:\n",
    "        return 0\n",
    "    elif tmp > theta:\n",
    "        return 1\n",
    "\n",
    "for i in range(0,2):\n",
    "    for j in range(0,2):\n",
    "        print(\"AND(\", i,\",\",j,\"): \", AND(i, j))"
   ]
  },
  {
   "cell_type": "markdown",
   "metadata": {},
   "source": [
    "#### 2.3.2 가중치와 편향 도입\n",
    "\n",
    "- ${\\theta}$를 -b로 치환\n",
    "$${y =\\begin{cases} \\ 0 \\ \\ (b \\ + \\ w_1x_1 \\ + \\ w_2x_2 \\ \\leq \\ \\theta) \\\\ \\ 1 \\ \\ (b \\ + \\ w_1x_1 \\ + \\ w_2x_2 \\ > \\ \\theta )\\end{cases}}$$\n",
    "\n",
    "```python\n",
    "import numpy as np\n",
    "\n",
    "def AND(x1, x2):\n",
    "    x = np.array([x1, x2])        # 입력\n",
    "    w = np.array([0.5, 0.5])    # 가중치\n",
    "    b = -0.7                    # 편향\n",
    "    tmp = np.sum(w*x) + b\n",
    "    if tmp <=0:\n",
    "        return 0\n",
    "    else:\n",
    "        return 1\n",
    "\n",
    "def NAND(x1, x2):\n",
    "    x = np.array([x1, x2])\n",
    "    w = np.array([-0.5, -0.5])  # AND와 NAND는 가중치만 다르다\n",
    "    b = 0.7\n",
    "    tmp = np.sum(x*w) + b\n",
    "    if tmp <= 0:\n",
    "        return 0\n",
    "    else:\n",
    "        return 1\n",
    "\n",
    "def OR(x1, x2):\n",
    "    x = np.array([x1, x2])\n",
    "    w = np.array([.5, .5])      # AND와 OR은 가중치만 다르다\n",
    "    b = -0.2\n",
    "    tmp = np.sum(w*x) + b\n",
    "    if tmp <= 0:\n",
    "        return 0\n",
    "    else:\n",
    "        return 1\n",
    "```\n"
   ]
  },
  {
   "cell_type": "code",
   "execution_count": 14,
   "metadata": {},
   "outputs": [
    {
     "name": "stdout",
     "output_type": "stream",
     "text": [
      "AND( 0 , 0 ):  0\n",
      "NAND( 0 , 0 ):  1\n",
      "OR( 0 , 0 ):  0\n",
      "AND( 0 , 1 ):  0\n",
      "NAND( 0 , 1 ):  1\n",
      "OR( 0 , 1 ):  1\n",
      "AND( 1 , 0 ):  0\n",
      "NAND( 1 , 0 ):  1\n",
      "OR( 1 , 0 ):  1\n",
      "AND( 1 , 1 ):  1\n",
      "NAND( 1 , 1 ):  0\n",
      "OR( 1 , 1 ):  1\n"
     ]
    }
   ],
   "source": [
    "import numpy as np\n",
    "\n",
    "def AND(x1, x2):\n",
    "    x = np.array([x1, x2])        # 입력\n",
    "    w = np.array([0.5, 0.5])    # 가중치\n",
    "    b = -0.7                    # 편향\n",
    "    tmp = np.sum(w*x) + b\n",
    "    if tmp <=0:\n",
    "        return  0\n",
    "    else:\n",
    "        return  1\n",
    "\n",
    "def NAND(x1, x2):\n",
    "    x = np.array([x1, x2])\n",
    "    w = np.array([-0.5, -0.5])  # AND와 NAND는 가중치만 다르다\n",
    "    b = 0.7\n",
    "    tmp = np.sum(x*w) + b\n",
    "    if tmp <= 0:\n",
    "        return 0\n",
    "    else:\n",
    "        return 1\n",
    "\n",
    "def OR(x1, x2):\n",
    "    x = np.array([x1, x2])\n",
    "    w = np.array([.5, .5])      # AND와 OR은 가중치만 다르다\n",
    "    b = -0.2\n",
    "    tmp = np.sum(w*x) + b\n",
    "    if tmp <= 0:\n",
    "        return 0\n",
    "    else:\n",
    "        return 1\n",
    "\n",
    "for i in range(0,2):\n",
    "    for j in range(0,2):\n",
    "        print(\"AND(\", i,\",\",j,\"): \", AND(i, j))\n",
    "        print(\"NAND(\", i,\",\",j,\"): \", NAND(i, j))\n",
    "        print(\"OR(\", i,\",\",j,\"): \", OR(i, j))"
   ]
  },
  {
   "cell_type": "markdown",
   "metadata": {},
   "source": [
    "### 2.4 퍼셉트론의 한계\n",
    "- 퍼셉트론을 이용하면 `AND`, `NAND`, `OR`의 3가지 논리 회로를 구현할 수 있다.\n",
    "- 그런데 `XOR`은?!!"
   ]
  },
  {
   "cell_type": "markdown",
   "metadata": {},
   "source": [
    "#### 2.4.1 도전! XOR 게이트\n",
    "- XOR 게이트는 배타적 논리합이라 불리는 논리 회로\n",
    "- $x_1$과 $x_2$중 한쪽이 1일 때만 1을 출력 (=`배타적`, 나만 되! 넌 안되!)\n",
    "\n",
    "<center>\n",
    "\n",
    "|$x_1$|$x_2$|**$y$**|\n",
    "|:---:|:---:|:---:|\n",
    "|0|0|0|\n",
    "|1|0|1|\n",
    "|0|1|1|\n",
    "|1|1|0|\n",
    "\n",
    "</center>\n",
    "\n",
    "- ``단층 퍼셉트론으로는 XOR 게이트를 구현할 수 없음`` = ``단층 퍼셉트론으로는 비선형 영역을 분리할 수 없음``\n",
    "- 아래의 그래프 상에서 `원`과 `삼각형`을 직선 하나로 나누는 것은 불가능"
   ]
  },
  {
   "cell_type": "code",
   "execution_count": 5,
   "metadata": {},
   "outputs": [
    {
     "data": {
      "image/png": "[encoded data removed]",
      "text/plain": [
       "<Figure size 432x288 with 1 Axes>"
      ]
     },
     "metadata": {
      "needs_background": "light"
     },
     "output_type": "display_data"
    }
   ],
   "source": [
    "import numpy as np\n",
    "import matplotlib.pyplot as plt\n",
    "\n",
    "x1 = [0, 1]\n",
    "x2_1 = [1, 0]\n",
    "x2_0 = [0, 1]\n",
    "\n",
    "plt.scatter(x1, x2_1, marker=\"^\")\n",
    "plt.scatter(x1, x2_0, marker=\"o\")\n",
    "plt.xlabel(\"x1\")\n",
    "plt.ylabel(\"x2\")\n",
    "plt.title(\"Visualization of Perceptron for XOR gate\")\n",
    "plt.show()"
   ]
  },
  {
   "cell_type": "markdown",
   "metadata": {},
   "source": [
    "#### 2.4.2 선형과 비선형\n",
    "- 곡선으로 나눈다면 XOR게이트의 출력(`원`과 `삼각형`)을 나눌 수 있음\n",
    "- 곡선으로 나눠진 영역을 `비선형` 영역 (직선으로 나눠진 영역을 `선형` 영역)"
   ]
  },
  {
   "cell_type": "markdown",
   "metadata": {},
   "source": [
    "### 2.5 다층 퍼쎕트론이 출동한다면?!\n",
    "- 퍼셉트론으로는 XOR 게이트를 표현할 수 없었음\n",
    "- 층을 쌓아 <b><u>`다층 퍼셉트론`</u></b>을 만들면 모든 것이 아름다워짐"
   ]
  },
  {
   "cell_type": "markdown",
   "metadata": {},
   "source": [
    "#### 2.5.1 기존 게이트를 조합하기\n",
    "- `NAND`의 출력을 $s_1$ `OR`의 출력을 $s_2$이라 하고 이를 `AND`로 처리한 값을 $y$라 하면 아래와 같은 진리표가 완성됨\n",
    "\n",
    "<center>\n",
    "\n",
    "|$x_1$|$x_2$|$s_1$|$s_1$|$y$|\n",
    "|:--:|:--:|:--:|:--:|:--:|\n",
    "|0|0|1|0|0|\n",
    "|1|0|1|1|1|\n",
    "|0|1|1|1|1|\n",
    "|1|1|0|1|0|\n",
    "\n",
    "</center>"
   ]
  },
  {
   "cell_type": "markdown",
   "metadata": {},
   "source": [
    "#### 2.5.2 XOR 게이트 구현하기\n",
    "- step#1. 0층의 두 뉴런이 입력 신호를 받아 1층의 뉴런으로 신호를 보냄\n",
    "- step#2. 1층의 뉴런이 2층의 뉴런으로 신호를 보내고, 2층의 뉴런은 이 입력 신호를 바탕으로 y를 출력"
   ]
  },
  {
   "cell_type": "code",
   "execution_count": 15,
   "metadata": {},
   "outputs": [],
   "source": [
    "def XOR(x1, x2):\n",
    "    s1 = NAND(x1, x2)\n",
    "    s2 = OR(x1, x2)\n",
    "    y = AND(s1, s2)\n",
    "    return y"
   ]
  },
  {
   "cell_type": "code",
   "execution_count": 16,
   "metadata": {},
   "outputs": [
    {
     "name": "stdout",
     "output_type": "stream",
     "text": [
      "0\n",
      "1\n",
      "1\n",
      "0\n"
     ]
    }
   ],
   "source": [
    "for i in range(0, 2):\n",
    "    for j in range(0, 2):\n",
    "        print(XOR(int(i), int(j)))"
   ]
  },
  {
   "cell_type": "markdown",
   "metadata": {},
   "source": [
    "### 2.6 NAND에서 컴퓨터까지\n",
    "- 다층 퍼셉트론은 컴퓨터도 만들 정도로 복잡한 표현을 할 수 있음. (이론상으론 2층 퍼쎕트론(0층, 1층, 2층)이면 컴퓨터를 만들 수 있음)\n",
    "- AND와 OR 게이트 $rightarrow$ 반가산기, 전가산기 $rightarrow$ 산술논리장치(Arithmetic and Logical Unit; ALU) $rightarrow$ 중앙처리장치(Central Process Unit; CPU)"
   ]
  },
  {
   "cell_type": "markdown",
   "metadata": {},
   "source": [
    "### 2.7 정리\n",
    "- 퍼셉트론은 입출력을 갖춘 알고리즘 = 입력을 주면, 정해진 규칙에 따른 값을 출력\n",
    "- 퍼셉트론의 매개변수: `가중치`, `편향`\n",
    "- 퍼셉트론으로 `AND`, `OR` 게이트 등의 논리 회로를 표현할 수 있음\n",
    "- XOR 게이트는 단층 퍼셉트론으로 구현할 수 없음 $rightarrow$ `2층(이상의) 퍼셉트론`을 이용하면 XOR 게이트 표현 가능\n",
    "- 단층 퍼셉트론은 직선형 영역만 표현, 다층 퍼셉트론은 <u>비선형 영역도</u> 표현 가능\n",
    "- 다층 퍼셉트론은 이론상 컴퓨터도 표현할 수 있음."
   ]
  }
 ],
 "metadata": {
  "kernelspec": {
   "display_name": "Python 3.8.9 64-bit",
   "language": "python",
   "name": "python3"
  },
  "language_info": {
   "codemirror_mode": {
    "name": "ipython",
    "version": 3
   },
   "file_extension": ".py",
   "mimetype": "text/x-python",
   "name": "python",
   "nbconvert_exporter": "python",
   "pygments_lexer": "ipython3",
   "version": "3.8.9"
  },
  "orig_nbformat": 4,
  "vscode": {
   "interpreter": {
    "hash": "31f2aee4e71d21fbe5cf8b01ff0e069b9275f58929596ceb00d14d90e3e16cd6"
   }
  }
 },
 "nbformat": 4,
 "nbformat_minor": 2
}
