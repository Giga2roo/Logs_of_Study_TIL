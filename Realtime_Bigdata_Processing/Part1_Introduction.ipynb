{
 "cells": [
  {
   "cell_type": "markdown",
   "metadata": {},
   "source": [
    "강사: 김건우(키언) [깃헙링크](https://github.com/keon)"
   ]
  },
  {
   "cell_type": "markdown",
   "metadata": {},
   "source": [
    "# CH01_데이터 엔지니어링이란\n",
    "### 이 강좌에서 다룰 것\n",
    "- 병렬-분산 처리\n",
    "- 테스크 조직화\n",
    "- 스트림 프로세싱\n",
    "\n",
    "### 데이터 엔지니어링의 목적\n",
    "- 데이터 기반 의사결정을 위한 인프라 만들기\n",
    "    + `비지니스 의사결정`\n",
    "        - 가격책정 / 모니터링 / 분석\n",
    "    + `서비스 운영/개선`\n",
    "        - A/B테스트 / UI/UX / 운영/자동화"
   ]
  },
  {
   "cell_type": "markdown",
   "metadata": {},
   "source": [
    "### 데이터 엔지니어링 시장의 성장과 함께 등장한 기업\n",
    "- snowflake\n",
    "- CONFLUENT (KAFKA 만든 사람들이 세움)\n",
    "- databricks\n",
    "- Collibra\n",
    "- segment\n",
    "- dremio\n",
    "- Looker"
   ]
  },
  {
   "cell_type": "markdown",
   "metadata": {},
   "source": [
    "### DDD best-practice\n",
    "- BP X Kelvin(Bigdata process Start-up) $\\rightarrow$ productivility 22% increase, methane emission 74% decrease"
   ]
  },
  {
   "cell_type": "markdown",
   "metadata": {},
   "source": [
    "# CH02. 모던 데이터 엔지니어링 아키텍쳐\n",
    "### 데이터 웨어하우스\n",
    "##### 과거의 데이터 관리방식\n",
    "- 데이터 형식(Schema)를 미리 구성\n",
    "- 데이터 변동이 거의 없음\n",
    "- 효율적인 데이터베이스 모델링이 중요\n",
    "- `ETL`: 추출(Extract), 변환(Transform), 적재(Load)\n",
    "\n",
    "##### `2강 01:00부터`\n",
    "\n",
    "##### 현재 데이터 운용방식\n",
    "- `ELT`: "
   ]
  },
  {
   "cell_type": "markdown",
   "metadata": {},
   "source": [
    "\n",
    "\n",
    "6:09\n",
    "\n",
    "5:36\n",
    "CH01_03. Batch & Stream Processing\n",
    "4:38\n",
    "CH01_04. Dataflow Orchestration\n",
    "2:46\n",
    "CH01_05 데이터 엔지니어링 프로젝트 소개\n",
    "2:58"
   ]
  }
 ],
 "metadata": {
  "language_info": {
   "name": "python"
  },
  "orig_nbformat": 4
 },
 "nbformat": 4,
 "nbformat_minor": 2
}
