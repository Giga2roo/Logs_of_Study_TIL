{
 "cells": [
  {
   "cell_type": "code",
   "execution_count": 5,
   "metadata": {},
   "outputs": [],
   "source": [
    "import sys, io\n",
    "file = open(\"inputs.txt\", 'w')\n",
    "data = \"\"\"5 11\n",
    "baekjoononlinejudge\n",
    "startlink\n",
    "codeplus\n",
    "sundaycoding\n",
    "codingsh\n",
    "baekjoon\n",
    "codeplus\n",
    "codeminus\n",
    "startlink\n",
    "starlink\n",
    "sundaycoding\n",
    "codingsh\n",
    "codinghs\n",
    "sondaycoding\n",
    "startrink\n",
    "icerink\n",
    "\"\"\"\n",
    "file.write(data)\n",
    "file.close()\n",
    "input_file = open(\"inputs.txt\", \"r\")\n",
    "sys.stdin = io.StringIO(input_file.read())"
   ]
  },
  {
   "cell_type": "markdown",
   "metadata": {},
   "source": [
    "### 백준 14425 문자열 집합\n",
    "- 입력으로 주어지는 `M개의 문자열` 중 `집합 S`에 포함되어 있는것이 몇개인지 구하는 프로그램\n",
    "\n",
    "- [문제풀이](https://velog.io/@jswon/%EB%B0%B1%EC%A4%80-14425-%EB%AC%B8%EC%9E%90%EC%97%B4-%EC%A7%91%ED%95%A9-python)"
   ]
  },
  {
   "cell_type": "code",
   "execution_count": 6,
   "metadata": {},
   "outputs": [
    {
     "name": "stdout",
     "output_type": "stream",
     "text": [
      "4\n"
     ]
    }
   ],
   "source": [
    "import sys\n",
    "input = sys.stdin.readline\n",
    "N, M = map(int, input().split())\n",
    "S = set()\n",
    "for i in range(N):\n",
    "    S.add(input())\n",
    "ans = 0\n",
    "for _ in range(M):\n",
    "    t = input()\n",
    "    if t in S:\n",
    "        ans+=1\n",
    "print(ans)"
   ]
  }
 ],
 "metadata": {
  "kernelspec": {
   "display_name": "Python 3.8.9 64-bit",
   "language": "python",
   "name": "python3"
  },
  "language_info": {
   "codemirror_mode": {
    "name": "ipython",
    "version": 3
   },
   "file_extension": ".py",
   "mimetype": "text/x-python",
   "name": "python",
   "nbconvert_exporter": "python",
   "pygments_lexer": "ipython3",
   "version": "3.8.9"
  },
  "orig_nbformat": 4,
  "vscode": {
   "interpreter": {
    "hash": "31f2aee4e71d21fbe5cf8b01ff0e069b9275f58929596ceb00d14d90e3e16cd6"
   }
  }
 },
 "nbformat": 4,
 "nbformat_minor": 2
}
